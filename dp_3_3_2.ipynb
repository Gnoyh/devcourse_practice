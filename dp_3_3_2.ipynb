{
 "cells": [
  {
   "cell_type": "markdown",
   "id": "71a15dec-14e2-457a-864a-9fffaf76f717",
   "metadata": {},
   "source": [
    "# 책 이름 모으기"
   ]
  },
  {
   "cell_type": "markdown",
   "id": "d2de8979-6ab9-403e-bc2b-00507bf0c8f0",
   "metadata": {},
   "source": [
    "## http://books.toscrape.com/catalogue/category/books/travel_2/index.html"
   ]
  },
  {
   "cell_type": "code",
   "execution_count": 1,
   "id": "815e7380-4055-4026-bf31-fe1dd872e479",
   "metadata": {},
   "outputs": [],
   "source": [
    "import requests\n",
    "from bs4 import BeautifulSoup"
   ]
  },
  {
   "cell_type": "code",
   "execution_count": 2,
   "id": "db4e5cb8-aced-46a0-9eea-560d3275887b",
   "metadata": {},
   "outputs": [],
   "source": [
    "res = requests.get(\"http://books.toscrape.com/catalogue/category/books/travel_2/index.html\")\n",
    "soup = BeautifulSoup(res.text, \"html.parser\")"
   ]
  },
  {
   "cell_type": "code",
   "execution_count": 8,
   "id": "0c01a27b-2f1b-437f-a155-055d295de458",
   "metadata": {},
   "outputs": [],
   "source": [
    "book = soup.find(\"h3\")\n",
    "h3_results = soup.find_all(\"h3\")"
   ]
  },
  {
   "cell_type": "code",
   "execution_count": 14,
   "id": "74432d5e-de2d-4c29-93b9-e5f1a480d30e",
   "metadata": {},
   "outputs": [
    {
     "name": "stdout",
     "output_type": "stream",
     "text": [
      "It's Only the Himalayas\n",
      "Full Moon over Noahâs Ark: An Odyssey to Mount Ararat and Beyond\n",
      "See America: A Celebration of Our National Parks & Treasured Sites\n",
      "Vagabonding: An Uncommon Guide to the Art of Long-Term World Travel\n",
      "Under the Tuscan Sun\n",
      "A Summer In Europe\n",
      "The Great Railway Bazaar\n",
      "A Year in Provence (Provence #1)\n",
      "The Road to Little Dribbling: Adventures of an American in Britain (Notes From a Small Island #2)\n",
      "Neither Here nor There: Travels in Europe\n",
      "1,000 Places to See Before You Die\n"
     ]
    }
   ],
   "source": [
    "for book in h3_results:\n",
    "    print(book.a[\"title\"])"
   ]
  }
 ],
 "metadata": {
  "kernelspec": {
   "display_name": "Python 3 (ipykernel)",
   "language": "python",
   "name": "python3"
  },
  "language_info": {
   "codemirror_mode": {
    "name": "ipython",
    "version": 3
   },
   "file_extension": ".py",
   "mimetype": "text/x-python",
   "name": "python",
   "nbconvert_exporter": "python",
   "pygments_lexer": "ipython3",
   "version": "3.12.2"
  }
 },
 "nbformat": 4,
 "nbformat_minor": 5
}
