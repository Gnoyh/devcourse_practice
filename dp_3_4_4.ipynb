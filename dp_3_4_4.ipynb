{
 "cells": [
  {
   "cell_type": "markdown",
   "id": "ebdbbdb9-93d6-489f-b080-58989c93ef20",
   "metadata": {},
   "source": [
    "# 키보드 이벤트"
   ]
  },
  {
   "cell_type": "code",
   "execution_count": 10,
   "id": "71ddb0c9-0938-4abb-ac3e-d9a07a71f724",
   "metadata": {},
   "outputs": [],
   "source": [
    "from selenium import webdriver\n",
    "from selenium.webdriver import ActionChains\n",
    "from selenium.webdriver.chrome.service import Service\n",
    "from selenium.webdriver.common.by import By\n",
    "from webdriver_manager.chrome import ChromeDriverManager\n",
    "from selenium.webdriver.support.ui import WebDriverWait"
   ]
  },
  {
   "cell_type": "code",
   "execution_count": 11,
   "id": "d798abec-5ef6-4e19-9132-8b710848ed93",
   "metadata": {},
   "outputs": [],
   "source": [
    "driver = webdriver.Chrome(service=Service(ChromeDriverManager().install()))\n",
    "driver.get(\"https://programmers.co.kr/account/sign_in\")\n",
    "driver.implicitly_wait(0.5)\n",
    "\n",
    "id_input = driver.find_element(By.CLASS_NAME, \"FymRFM681OjzOdzor5nk\")\n",
    "ActionChains(driver).send_keys_to_element(id_input, \"id\").perform()"
   ]
  }
 ],
 "metadata": {
  "kernelspec": {
   "display_name": "Python 3 (ipykernel)",
   "language": "python",
   "name": "python3"
  },
  "language_info": {
   "codemirror_mode": {
    "name": "ipython",
    "version": 3
   },
   "file_extension": ".py",
   "mimetype": "text/x-python",
   "name": "python",
   "nbconvert_exporter": "python",
   "pygments_lexer": "ipython3",
   "version": "3.12.2"
  }
 },
 "nbformat": 4,
 "nbformat_minor": 5
}
