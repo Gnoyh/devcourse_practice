{
  "nbformat": 4,
  "nbformat_minor": 0,
  "metadata": {
    "colab": {
      "provenance": []
    },
    "kernelspec": {
      "name": "python3",
      "display_name": "Python 3"
    }
  },
  "cells": [
    {
      "cell_type": "markdown",
      "source": [
        "## PySpark 설치"
      ],
      "metadata": {
        "id": "Efh-3P4StVBg"
      }
    },
    {
      "cell_type": "code",
      "metadata": {
        "colab": {
          "base_uri": "https://localhost:8080/"
        },
        "id": "NbT0rpGfVdiq",
        "outputId": "2383187f-6597-4c43-decd-507a06ff8416"
      },
      "source": [
        "!pip install pyspark==3.3.1 py4j==0.10.9.5"
      ],
      "execution_count": 1,
      "outputs": [
        {
          "output_type": "stream",
          "name": "stdout",
          "text": [
            "Collecting pyspark==3.3.1\n",
            "  Downloading pyspark-3.3.1.tar.gz (281.4 MB)\n",
            "\u001b[2K     \u001b[90m━━━━━━━━━━━━━━━━━━━━━━━━━━━━━━━━━━━━━━━━\u001b[0m \u001b[32m281.4/281.4 MB\u001b[0m \u001b[31m4.0 MB/s\u001b[0m eta \u001b[36m0:00:00\u001b[0m\n",
            "\u001b[?25h  Preparing metadata (setup.py) ... \u001b[?25l\u001b[?25hdone\n",
            "Collecting py4j==0.10.9.5\n",
            "  Downloading py4j-0.10.9.5-py2.py3-none-any.whl (199 kB)\n",
            "\u001b[2K     \u001b[90m━━━━━━━━━━━━━━━━━━━━━━━━━━━━━━━━━━━━━━━━\u001b[0m \u001b[32m199.7/199.7 kB\u001b[0m \u001b[31m10.0 MB/s\u001b[0m eta \u001b[36m0:00:00\u001b[0m\n",
            "\u001b[?25hBuilding wheels for collected packages: pyspark\n",
            "  Building wheel for pyspark (setup.py) ... \u001b[?25l\u001b[?25hdone\n",
            "  Created wheel for pyspark: filename=pyspark-3.3.1-py2.py3-none-any.whl size=281845493 sha256=c5a8221c354497617cbe3495c312138f7cf515558923b297a2d9547a942c8d3c\n",
            "  Stored in directory: /root/.cache/pip/wheels/0f/f0/3d/517368b8ce80486e84f89f214e0a022554e4ee64969f46279b\n",
            "Successfully built pyspark\n",
            "Installing collected packages: py4j, pyspark\n",
            "  Attempting uninstall: py4j\n",
            "    Found existing installation: py4j 0.10.9.7\n",
            "    Uninstalling py4j-0.10.9.7:\n",
            "      Successfully uninstalled py4j-0.10.9.7\n",
            "Successfully installed py4j-0.10.9.5 pyspark-3.3.1\n"
          ]
        }
      ]
    },
    {
      "cell_type": "code",
      "metadata": {
        "id": "3vm6tgcPXdnR"
      },
      "source": [
        "from pyspark.sql import SparkSession\n",
        "\n",
        "spark = SparkSession \\\n",
        "    .builder \\\n",
        "    .appName(\"Python Spark SQL #1\") \\\n",
        "    .getOrCreate()"
      ],
      "execution_count": 2,
      "outputs": []
    },
    {
      "cell_type": "markdown",
      "source": [
        "## 조인 실습 테이블 2개 로딩"
      ],
      "metadata": {
        "id": "d3Qhs8MwuCS1"
      }
    },
    {
      "cell_type": "code",
      "source": [
        "vital = [\n",
        "     { 'UserID': 100, 'VitalID': 1, 'Date': '2020-01-01', 'Weight': 75 },\n",
        "     { 'UserID': 100, 'VitalID': 2, 'Date': '2020-01-02', 'Weight': 78 },\n",
        "     { 'UserID': 101, 'VitalID': 3, 'Date': '2020-01-01', 'Weight': 90 },\n",
        "     { 'UserID': 101, 'VitalID': 4, 'Date': '2020-01-02', 'Weight': 95 },\n",
        "]\n",
        "\n",
        "alert = [\n",
        "    { 'AlertID': 1, 'VitalID': 4, 'AlertType': 'WeightIncrease', 'Date': '2020-01-01', 'UserID': 101},\n",
        "    { 'AlertID': 2, 'VitalID': None, 'AlertType': 'MissingVital', 'Date': '2020-01-04', 'UserID': 100},\n",
        "    { 'AlertID': 3, 'VitalID': None, 'AlertType': 'MissingVital', 'Date': '2020-01-05', 'UserID': 101}\n",
        "]"
      ],
      "metadata": {
        "id": "npw3MGoWuFH8"
      },
      "execution_count": 3,
      "outputs": []
    },
    {
      "cell_type": "code",
      "source": [
        "rdd_vital = spark.sparkContext.parallelize(vital)\n",
        "rdd_alert = spark.sparkContext.parallelize(alert)"
      ],
      "metadata": {
        "id": "nF8YM6K1u9u8"
      },
      "execution_count": 4,
      "outputs": []
    },
    {
      "cell_type": "code",
      "source": [
        "df_vital = rdd_vital.toDF()\n",
        "df_alert = rdd_alert.toDF()"
      ],
      "metadata": {
        "id": "MHjArqA72U1h"
      },
      "execution_count": 5,
      "outputs": []
    },
    {
      "cell_type": "code",
      "source": [
        "df_vital.printSchema()"
      ],
      "metadata": {
        "colab": {
          "base_uri": "https://localhost:8080/"
        },
        "id": "sZBsD0V62nGO",
        "outputId": "ff1aae99-5669-4cd9-ce76-07a3c4baaaf1"
      },
      "execution_count": 6,
      "outputs": [
        {
          "output_type": "stream",
          "name": "stdout",
          "text": [
            "root\n",
            " |-- Date: string (nullable = true)\n",
            " |-- UserID: long (nullable = true)\n",
            " |-- VitalID: long (nullable = true)\n",
            " |-- Weight: long (nullable = true)\n",
            "\n"
          ]
        }
      ]
    },
    {
      "cell_type": "code",
      "source": [
        "df_alert.printSchema()"
      ],
      "metadata": {
        "colab": {
          "base_uri": "https://localhost:8080/"
        },
        "id": "cAolvJH1vyWb",
        "outputId": "cc93348e-fb63-4242-ae68-d788a608c0cb"
      },
      "execution_count": 7,
      "outputs": [
        {
          "output_type": "stream",
          "name": "stdout",
          "text": [
            "root\n",
            " |-- AlertID: long (nullable = true)\n",
            " |-- AlertType: string (nullable = true)\n",
            " |-- Date: string (nullable = true)\n",
            " |-- UserID: long (nullable = true)\n",
            " |-- VitalID: long (nullable = true)\n",
            "\n"
          ]
        }
      ]
    },
    {
      "cell_type": "markdown",
      "source": [
        "## JOIN by DataFrame"
      ],
      "metadata": {
        "id": "N7s1BEG529k0"
      }
    },
    {
      "cell_type": "code",
      "source": [
        "# INNER JOIN\n",
        "join_expr = df_vital.VitalID == df_alert.VitalID\n",
        "df_vital.join(df_alert, join_expr, \"inner\").show()"
      ],
      "metadata": {
        "colab": {
          "base_uri": "https://localhost:8080/"
        },
        "id": "fXM54Q6D29Ed",
        "outputId": "c600bc7a-d5e1-4c43-e3af-0b6c246d15a9"
      },
      "execution_count": 8,
      "outputs": [
        {
          "output_type": "stream",
          "name": "stdout",
          "text": [
            "+----------+------+-------+------+-------+--------------+----------+------+-------+\n",
            "|      Date|UserID|VitalID|Weight|AlertID|     AlertType|      Date|UserID|VitalID|\n",
            "+----------+------+-------+------+-------+--------------+----------+------+-------+\n",
            "|2020-01-02|   101|      4|    95|      1|WeightIncrease|2020-01-01|   101|      4|\n",
            "+----------+------+-------+------+-------+--------------+----------+------+-------+\n",
            "\n"
          ]
        }
      ]
    },
    {
      "cell_type": "code",
      "source": [
        "# LEFT JOIN\n",
        "join_expr = df_vital.VitalID == df_alert.VitalID\n",
        "df_vital.join(df_alert, join_expr, \"left\").show()"
      ],
      "metadata": {
        "colab": {
          "base_uri": "https://localhost:8080/"
        },
        "id": "a4d7hLVr5A_y",
        "outputId": "4df62231-fa4d-44d4-c019-1a2474f5b741"
      },
      "execution_count": 9,
      "outputs": [
        {
          "output_type": "stream",
          "name": "stdout",
          "text": [
            "+----------+------+-------+------+-------+--------------+----------+------+-------+\n",
            "|      Date|UserID|VitalID|Weight|AlertID|     AlertType|      Date|UserID|VitalID|\n",
            "+----------+------+-------+------+-------+--------------+----------+------+-------+\n",
            "|2020-01-01|   100|      1|    75|   null|          null|      null|  null|   null|\n",
            "|2020-01-02|   100|      2|    78|   null|          null|      null|  null|   null|\n",
            "|2020-01-01|   101|      3|    90|   null|          null|      null|  null|   null|\n",
            "|2020-01-02|   101|      4|    95|      1|WeightIncrease|2020-01-01|   101|      4|\n",
            "+----------+------+-------+------+-------+--------------+----------+------+-------+\n",
            "\n"
          ]
        }
      ]
    },
    {
      "cell_type": "code",
      "source": [
        "# RIGHT JOIN\n",
        "join_expr = df_vital.VitalID == df_alert.VitalID\n",
        "df_vital.join(df_alert, join_expr, \"right\").show()"
      ],
      "metadata": {
        "colab": {
          "base_uri": "https://localhost:8080/"
        },
        "id": "nqJCVWPw5H6A",
        "outputId": "0a37f093-e35a-462e-9ceb-6d2cdd014288"
      },
      "execution_count": 10,
      "outputs": [
        {
          "output_type": "stream",
          "name": "stdout",
          "text": [
            "+----------+------+-------+------+-------+--------------+----------+------+-------+\n",
            "|      Date|UserID|VitalID|Weight|AlertID|     AlertType|      Date|UserID|VitalID|\n",
            "+----------+------+-------+------+-------+--------------+----------+------+-------+\n",
            "|2020-01-02|   101|      4|    95|      1|WeightIncrease|2020-01-01|   101|      4|\n",
            "|      null|  null|   null|  null|      2|  MissingVital|2020-01-04|   100|   null|\n",
            "|      null|  null|   null|  null|      3|  MissingVital|2020-01-05|   101|   null|\n",
            "+----------+------+-------+------+-------+--------------+----------+------+-------+\n",
            "\n"
          ]
        }
      ]
    },
    {
      "cell_type": "code",
      "source": [
        "# FULL OUTER JOIN\n",
        "join_expr = df_vital.VitalID == df_alert.VitalID\n",
        "df_vital.join(df_alert, join_expr, \"full\").show()"
      ],
      "metadata": {
        "colab": {
          "base_uri": "https://localhost:8080/"
        },
        "id": "dySkJObl5KVU",
        "outputId": "58763500-b7e5-492c-d3ee-16b1e116d0eb"
      },
      "execution_count": 11,
      "outputs": [
        {
          "output_type": "stream",
          "name": "stdout",
          "text": [
            "+----------+------+-------+------+-------+--------------+----------+------+-------+\n",
            "|      Date|UserID|VitalID|Weight|AlertID|     AlertType|      Date|UserID|VitalID|\n",
            "+----------+------+-------+------+-------+--------------+----------+------+-------+\n",
            "|      null|  null|   null|  null|      2|  MissingVital|2020-01-04|   100|   null|\n",
            "|      null|  null|   null|  null|      3|  MissingVital|2020-01-05|   101|   null|\n",
            "|2020-01-01|   100|      1|    75|   null|          null|      null|  null|   null|\n",
            "|2020-01-02|   100|      2|    78|   null|          null|      null|  null|   null|\n",
            "|2020-01-01|   101|      3|    90|   null|          null|      null|  null|   null|\n",
            "|2020-01-02|   101|      4|    95|      1|WeightIncrease|2020-01-01|   101|      4|\n",
            "+----------+------+-------+------+-------+--------------+----------+------+-------+\n",
            "\n"
          ]
        }
      ]
    },
    {
      "cell_type": "code",
      "source": [
        "# CROSS JOIN\n",
        "df_vital.join(df_alert, None, \"cross\").show()"
      ],
      "metadata": {
        "colab": {
          "base_uri": "https://localhost:8080/"
        },
        "id": "d43BHiaI5OJC",
        "outputId": "379a9930-ce4b-4b98-b4cf-00efca68f5c8"
      },
      "execution_count": 12,
      "outputs": [
        {
          "output_type": "stream",
          "name": "stdout",
          "text": [
            "+----------+------+-------+------+-------+--------------+----------+------+-------+\n",
            "|      Date|UserID|VitalID|Weight|AlertID|     AlertType|      Date|UserID|VitalID|\n",
            "+----------+------+-------+------+-------+--------------+----------+------+-------+\n",
            "|2020-01-01|   100|      1|    75|      1|WeightIncrease|2020-01-01|   101|      4|\n",
            "|2020-01-02|   100|      2|    78|      1|WeightIncrease|2020-01-01|   101|      4|\n",
            "|2020-01-01|   100|      1|    75|      2|  MissingVital|2020-01-04|   100|   null|\n",
            "|2020-01-01|   100|      1|    75|      3|  MissingVital|2020-01-05|   101|   null|\n",
            "|2020-01-02|   100|      2|    78|      2|  MissingVital|2020-01-04|   100|   null|\n",
            "|2020-01-02|   100|      2|    78|      3|  MissingVital|2020-01-05|   101|   null|\n",
            "|2020-01-01|   101|      3|    90|      1|WeightIncrease|2020-01-01|   101|      4|\n",
            "|2020-01-02|   101|      4|    95|      1|WeightIncrease|2020-01-01|   101|      4|\n",
            "|2020-01-01|   101|      3|    90|      2|  MissingVital|2020-01-04|   100|   null|\n",
            "|2020-01-01|   101|      3|    90|      3|  MissingVital|2020-01-05|   101|   null|\n",
            "|2020-01-02|   101|      4|    95|      2|  MissingVital|2020-01-04|   100|   null|\n",
            "|2020-01-02|   101|      4|    95|      3|  MissingVital|2020-01-05|   101|   null|\n",
            "+----------+------+-------+------+-------+--------------+----------+------+-------+\n",
            "\n"
          ]
        }
      ]
    },
    {
      "cell_type": "code",
      "source": [
        "# SELF JOIN\n",
        "join_expr = df_vital.VitalID == df_vital.VitalID\n",
        "df_vital.join(df_vital, join_expr, \"left\").show()"
      ],
      "metadata": {
        "colab": {
          "base_uri": "https://localhost:8080/"
        },
        "id": "1fuMgCb_5Y7Z",
        "outputId": "c92c6604-b5dd-4ad7-e831-f780f3b1a6ff"
      },
      "execution_count": 13,
      "outputs": [
        {
          "output_type": "stream",
          "name": "stdout",
          "text": [
            "+----------+------+-------+------+----------+------+-------+------+\n",
            "|      Date|UserID|VitalID|Weight|      Date|UserID|VitalID|Weight|\n",
            "+----------+------+-------+------+----------+------+-------+------+\n",
            "|2020-01-01|   100|      1|    75|2020-01-01|   100|      1|    75|\n",
            "|2020-01-02|   100|      2|    78|2020-01-02|   100|      2|    78|\n",
            "|2020-01-01|   101|      3|    90|2020-01-01|   101|      3|    90|\n",
            "|2020-01-02|   101|      4|    95|2020-01-02|   101|      4|    95|\n",
            "+----------+------+-------+------+----------+------+-------+------+\n",
            "\n"
          ]
        }
      ]
    },
    {
      "cell_type": "markdown",
      "source": [
        "## JOIN by SQL"
      ],
      "metadata": {
        "id": "zChnkwWO3ClW"
      }
    },
    {
      "cell_type": "code",
      "source": [
        "df_vital.createOrReplaceTempView(\"Vital\")\n",
        "df_alert.createOrReplaceTempView(\"Alert\")"
      ],
      "metadata": {
        "id": "_8Lejetx3D8M"
      },
      "execution_count": 14,
      "outputs": []
    },
    {
      "cell_type": "code",
      "source": [
        "# INNER JOIN\n",
        "df_inner_join = spark.sql(\"\"\"SELECT * FROM Vital v\n",
        "JOIN Alert a ON v.vitalID = a.vitalID;\"\"\")\n",
        "df_inner_join.show()"
      ],
      "metadata": {
        "colab": {
          "base_uri": "https://localhost:8080/"
        },
        "id": "t4xIAQdh3kZm",
        "outputId": "7c2622ef-5fc7-44ec-a423-18ca77091367"
      },
      "execution_count": 15,
      "outputs": [
        {
          "output_type": "stream",
          "name": "stdout",
          "text": [
            "+----------+------+-------+------+-------+--------------+----------+------+-------+\n",
            "|      Date|UserID|VitalID|Weight|AlertID|     AlertType|      Date|UserID|VitalID|\n",
            "+----------+------+-------+------+-------+--------------+----------+------+-------+\n",
            "|2020-01-02|   101|      4|    95|      1|WeightIncrease|2020-01-01|   101|      4|\n",
            "+----------+------+-------+------+-------+--------------+----------+------+-------+\n",
            "\n"
          ]
        }
      ]
    },
    {
      "cell_type": "code",
      "source": [
        "# LEFT JOIN\n",
        "df_left_join = spark.sql(\"\"\"SELECT * FROM Vital v\n",
        "LEFT JOIN Alert a ON v.vitalID = a.vitalID;\"\"\")\n",
        "df_left_join.show()"
      ],
      "metadata": {
        "colab": {
          "base_uri": "https://localhost:8080/"
        },
        "id": "tinySjFV34CW",
        "outputId": "74648ea2-ee08-4688-dc8c-3fc29e316123"
      },
      "execution_count": 16,
      "outputs": [
        {
          "output_type": "stream",
          "name": "stdout",
          "text": [
            "+----------+------+-------+------+-------+--------------+----------+------+-------+\n",
            "|      Date|UserID|VitalID|Weight|AlertID|     AlertType|      Date|UserID|VitalID|\n",
            "+----------+------+-------+------+-------+--------------+----------+------+-------+\n",
            "|2020-01-01|   100|      1|    75|   null|          null|      null|  null|   null|\n",
            "|2020-01-02|   100|      2|    78|   null|          null|      null|  null|   null|\n",
            "|2020-01-01|   101|      3|    90|   null|          null|      null|  null|   null|\n",
            "|2020-01-02|   101|      4|    95|      1|WeightIncrease|2020-01-01|   101|      4|\n",
            "+----------+------+-------+------+-------+--------------+----------+------+-------+\n",
            "\n"
          ]
        }
      ]
    },
    {
      "cell_type": "code",
      "source": [
        "# RIGHT JOIN\n",
        "df_right_join = spark.sql(\"\"\"SELECT * FROM Vital v\n",
        "RIGHT JOIN Alert a ON v.vitalID = a.vitalID;\"\"\")\n",
        "df_right_join.show()"
      ],
      "metadata": {
        "colab": {
          "base_uri": "https://localhost:8080/"
        },
        "id": "DOf0w4Wg3_XH",
        "outputId": "877c794d-2cbd-4b02-c830-9bd784f68f3f"
      },
      "execution_count": 17,
      "outputs": [
        {
          "output_type": "stream",
          "name": "stdout",
          "text": [
            "+----------+------+-------+------+-------+--------------+----------+------+-------+\n",
            "|      Date|UserID|VitalID|Weight|AlertID|     AlertType|      Date|UserID|VitalID|\n",
            "+----------+------+-------+------+-------+--------------+----------+------+-------+\n",
            "|2020-01-02|   101|      4|    95|      1|WeightIncrease|2020-01-01|   101|      4|\n",
            "|      null|  null|   null|  null|      2|  MissingVital|2020-01-04|   100|   null|\n",
            "|      null|  null|   null|  null|      3|  MissingVital|2020-01-05|   101|   null|\n",
            "+----------+------+-------+------+-------+--------------+----------+------+-------+\n",
            "\n"
          ]
        }
      ]
    },
    {
      "cell_type": "code",
      "source": [
        "# OUTER JOIN\n",
        "df_outer_join = spark.sql(\"\"\"SELECT * FROM Vital v\n",
        "FULL JOIN Alert a ON v.vitalID = a.vitalID;\"\"\")\n",
        "df_outer_join.show()"
      ],
      "metadata": {
        "colab": {
          "base_uri": "https://localhost:8080/"
        },
        "id": "KdsQg2Jv4Dcn",
        "outputId": "84c76555-902a-4579-f89e-f57ce7719179"
      },
      "execution_count": 18,
      "outputs": [
        {
          "output_type": "stream",
          "name": "stdout",
          "text": [
            "+----------+------+-------+------+-------+--------------+----------+------+-------+\n",
            "|      Date|UserID|VitalID|Weight|AlertID|     AlertType|      Date|UserID|VitalID|\n",
            "+----------+------+-------+------+-------+--------------+----------+------+-------+\n",
            "|      null|  null|   null|  null|      2|  MissingVital|2020-01-04|   100|   null|\n",
            "|      null|  null|   null|  null|      3|  MissingVital|2020-01-05|   101|   null|\n",
            "|2020-01-01|   100|      1|    75|   null|          null|      null|  null|   null|\n",
            "|2020-01-02|   100|      2|    78|   null|          null|      null|  null|   null|\n",
            "|2020-01-01|   101|      3|    90|   null|          null|      null|  null|   null|\n",
            "|2020-01-02|   101|      4|    95|      1|WeightIncrease|2020-01-01|   101|      4|\n",
            "+----------+------+-------+------+-------+--------------+----------+------+-------+\n",
            "\n"
          ]
        }
      ]
    },
    {
      "cell_type": "code",
      "source": [
        "# CROSS JOIN\n",
        "df_cross_join = spark.sql(\"\"\"SELECT * FROM Vital v\n",
        "CROSS JOIN Alert a\"\"\")\n",
        "df_cross_join.show()"
      ],
      "metadata": {
        "colab": {
          "base_uri": "https://localhost:8080/"
        },
        "id": "Qe5086Ai4Jx3",
        "outputId": "72c6c3c2-6026-4ce4-d975-5ccd1763cc31"
      },
      "execution_count": 19,
      "outputs": [
        {
          "output_type": "stream",
          "name": "stdout",
          "text": [
            "+----------+------+-------+------+-------+--------------+----------+------+-------+\n",
            "|      Date|UserID|VitalID|Weight|AlertID|     AlertType|      Date|UserID|VitalID|\n",
            "+----------+------+-------+------+-------+--------------+----------+------+-------+\n",
            "|2020-01-01|   100|      1|    75|      1|WeightIncrease|2020-01-01|   101|      4|\n",
            "|2020-01-02|   100|      2|    78|      1|WeightIncrease|2020-01-01|   101|      4|\n",
            "|2020-01-01|   100|      1|    75|      2|  MissingVital|2020-01-04|   100|   null|\n",
            "|2020-01-01|   100|      1|    75|      3|  MissingVital|2020-01-05|   101|   null|\n",
            "|2020-01-02|   100|      2|    78|      2|  MissingVital|2020-01-04|   100|   null|\n",
            "|2020-01-02|   100|      2|    78|      3|  MissingVital|2020-01-05|   101|   null|\n",
            "|2020-01-01|   101|      3|    90|      1|WeightIncrease|2020-01-01|   101|      4|\n",
            "|2020-01-02|   101|      4|    95|      1|WeightIncrease|2020-01-01|   101|      4|\n",
            "|2020-01-01|   101|      3|    90|      2|  MissingVital|2020-01-04|   100|   null|\n",
            "|2020-01-01|   101|      3|    90|      3|  MissingVital|2020-01-05|   101|   null|\n",
            "|2020-01-02|   101|      4|    95|      2|  MissingVital|2020-01-04|   100|   null|\n",
            "|2020-01-02|   101|      4|    95|      3|  MissingVital|2020-01-05|   101|   null|\n",
            "+----------+------+-------+------+-------+--------------+----------+------+-------+\n",
            "\n"
          ]
        }
      ]
    },
    {
      "cell_type": "code",
      "source": [
        "# self JOIN\n",
        "df_self_join = spark.sql(\"\"\"SELECT * FROM Vital v1\n",
        "JOIN Vital v2 ON v1.VitalID = v2.VitalID\"\"\")\n",
        "df_self_join.show()"
      ],
      "metadata": {
        "colab": {
          "base_uri": "https://localhost:8080/"
        },
        "id": "Z3VOvx3l4TF2",
        "outputId": "2fc7f47f-28c4-4154-e52c-dc6530a7daac"
      },
      "execution_count": 22,
      "outputs": [
        {
          "output_type": "stream",
          "name": "stdout",
          "text": [
            "+----------+------+-------+------+----------+------+-------+------+\n",
            "|      Date|UserID|VitalID|Weight|      Date|UserID|VitalID|Weight|\n",
            "+----------+------+-------+------+----------+------+-------+------+\n",
            "|2020-01-01|   100|      1|    75|2020-01-01|   100|      1|    75|\n",
            "|2020-01-02|   100|      2|    78|2020-01-02|   100|      2|    78|\n",
            "|2020-01-01|   101|      3|    90|2020-01-01|   101|      3|    90|\n",
            "|2020-01-02|   101|      4|    95|2020-01-02|   101|      4|    95|\n",
            "+----------+------+-------+------+----------+------+-------+------+\n",
            "\n"
          ]
        }
      ]
    }
  ]
}