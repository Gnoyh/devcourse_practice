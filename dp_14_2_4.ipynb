{
  "cells": [
    {
      "cell_type": "code",
      "execution_count": 1,
      "metadata": {
        "colab": {
          "base_uri": "https://localhost:8080/"
        },
        "id": "Q_Wyv6ahKs8R",
        "outputId": "9efd921d-6bfa-48c4-9f82-db5cfe9813a0"
      },
      "outputs": [
        {
          "name": "stdout",
          "output_type": "stream",
          "text": [
            "Collecting pyspark==3.3.1\n",
            "  Downloading pyspark-3.3.1.tar.gz (281.4 MB)\n",
            "\u001b[2K     \u001b[90m━━━━━━━━━━━━━━━━━━━━━━━━━━━━━━━━━━━━━━━━\u001b[0m \u001b[32m281.4/281.4 MB\u001b[0m \u001b[31m3.1 MB/s\u001b[0m eta \u001b[36m0:00:00\u001b[0m\n",
            "\u001b[?25h  Preparing metadata (setup.py) ... \u001b[?25l\u001b[?25hdone\n",
            "Collecting py4j==0.10.9.5\n",
            "  Downloading py4j-0.10.9.5-py2.py3-none-any.whl (199 kB)\n",
            "\u001b[2K     \u001b[90m━━━━━━━━━━━━━━━━━━━━━━━━━━━━━━━━━━━━━━━━\u001b[0m \u001b[32m199.7/199.7 kB\u001b[0m \u001b[31m12.1 MB/s\u001b[0m eta \u001b[36m0:00:00\u001b[0m\n",
            "\u001b[?25hBuilding wheels for collected packages: pyspark\n",
            "  Building wheel for pyspark (setup.py) ... \u001b[?25l\u001b[?25hdone\n",
            "  Created wheel for pyspark: filename=pyspark-3.3.1-py2.py3-none-any.whl size=281845493 sha256=e5983c211ca7b9c3a1572f2840002b55f5101ecb9c50cc47141fa99f2a610b9c\n",
            "  Stored in directory: /root/.cache/pip/wheels/0f/f0/3d/517368b8ce80486e84f89f214e0a022554e4ee64969f46279b\n",
            "Successfully built pyspark\n",
            "Installing collected packages: py4j, pyspark\n",
            "  Attempting uninstall: py4j\n",
            "    Found existing installation: py4j 0.10.9.7\n",
            "    Uninstalling py4j-0.10.9.7:\n",
            "      Successfully uninstalled py4j-0.10.9.7\n",
            "Successfully installed py4j-0.10.9.5 pyspark-3.3.1\n"
          ]
        }
      ],
      "source": [
        "!pip install pyspark==3.3.1 py4j==0.10.9.5"
      ]
    },
    {
      "cell_type": "code",
      "execution_count": 2,
      "metadata": {
        "id": "zS9lNDeRKygm"
      },
      "outputs": [],
      "source": [
        "from pyspark.sql import SparkSession\n",
        "\n",
        "spark = SparkSession.builder \\\n",
        "    .master(\"local[*]\")\\\n",
        "    .appName(\"PySpark DataFrame #4\") \\\n",
        "    .getOrCreate()"
      ]
    },
    {
      "cell_type": "code",
      "execution_count": 3,
      "metadata": {
        "colab": {
          "base_uri": "https://localhost:8080/"
        },
        "id": "Sg6lKFCVK5uw",
        "outputId": "807ff255-1e99-4e19-fd7b-bc8ef43f115b"
      },
      "outputs": [
        {
          "name": "stdout",
          "output_type": "stream",
          "text": [
            "--2024-06-18 07:46:09--  https://s3-geospatial.s3-us-west-2.amazonaws.com/survey_results_public.csv\n",
            "Resolving s3-geospatial.s3-us-west-2.amazonaws.com (s3-geospatial.s3-us-west-2.amazonaws.com)... 3.5.87.213, 3.5.82.107, 52.92.188.130, ...\n",
            "Connecting to s3-geospatial.s3-us-west-2.amazonaws.com (s3-geospatial.s3-us-west-2.amazonaws.com)|3.5.87.213|:443... connected.\n",
            "HTTP request sent, awaiting response... 200 OK\n",
            "Length: 81101949 (77M) [text/csv]\n",
            "Saving to: ‘survey_results_public.csv’\n",
            "\n",
            "survey_results_publ 100%[===================>]  77.34M  55.5MB/s    in 1.4s    \n",
            "\n",
            "2024-06-18 07:46:10 (55.5 MB/s) - ‘survey_results_public.csv’ saved [81101949/81101949]\n",
            "\n"
          ]
        }
      ],
      "source": [
        "!wget https://s3-geospatial.s3-us-west-2.amazonaws.com/survey_results_public.csv"
      ]
    },
    {
      "cell_type": "code",
      "execution_count": 4,
      "metadata": {
        "colab": {
          "base_uri": "https://localhost:8080/"
        },
        "id": "bu8GWTxe00mU",
        "outputId": "849e36de-8524-44a7-e24f-793ff704f9a0"
      },
      "outputs": [
        {
          "name": "stdout",
          "output_type": "stream",
          "text": [
            "total 79208\n",
            "drwxr-xr-x 1 root root     4096 Jun 14 17:39 sample_data\n",
            "-rw-r--r-- 1 root root 81101949 Jan 15  2023 survey_results_public.csv\n"
          ]
        }
      ],
      "source": [
        "!ls -tl"
      ]
    },
    {
      "cell_type": "code",
      "execution_count": 5,
      "metadata": {
        "colab": {
          "base_uri": "https://localhost:8080/"
        },
        "id": "uVYjxP2yA3D7",
        "outputId": "065f02fd-8f8f-4dab-cefc-e949b2d1632e"
      },
      "outputs": [
        {
          "name": "stdout",
          "output_type": "stream",
          "text": [
            "ResponseId,MainBranch,Employment,Country,US_State,UK_Country,EdLevel,Age1stCode,LearnCode,YearsCode,YearsCodePro,DevType,OrgSize,Currency,CompTotal,CompFreq,LanguageHaveWorkedWith,LanguageWantToWorkWith,DatabaseHaveWorkedWith,DatabaseWantToWorkWith,PlatformHaveWorkedWith,PlatformWantToWorkWith,WebframeHaveWorkedWith,WebframeWantToWorkWith,MiscTechHaveWorkedWith,MiscTechWantToWorkWith,ToolsTechHaveWorkedWith,ToolsTechWantToWorkWith,NEWCollabToolsHaveWorkedWith,NEWCollabToolsWantToWorkWith,OpSys,NEWStuck,NEWSOSites,SOVisitFreq,SOAccount,SOPartFreq,SOComm,NEWOtherComms,Age,Gender,Trans,Sexuality,Ethnicity,Accessibility,MentalHealth,SurveyLength,SurveyEase,ConvertedCompYearly\n",
            "1,I am a developer by profession,\"Independent contractor, freelancer, or self-employed\",Slovakia,NA,NA,\"Secondary school (e.g. American high school, German Realschule or Gymnasium, etc.)\",18 - 24 years,\"Coding Bootcamp;Other online resources (ex: videos, blogs, etc)\",NA,NA,\"Developer, mobile\",20 to 99 employees,EUR European Euro,4800,Monthly,C++;HTML/CSS;JavaScript;Objective-C;PHP;Swift,Swift,PostgreSQL;SQLite,SQLite,NA,NA,Laravel;Symfony,NA,NA,NA,NA,NA,PHPStorm;Xcode,Atom;Xcode,MacOS,Call a coworker or friend;Visit Stack Overflow;Go for a walk or other physical activity;Google it,Stack Overflow,Multiple times per day,Yes,A few times per month or weekly,\"Yes, definitely\",No,25-34 years old,Man,No,Straight / Heterosexual,White or of European descent,None of the above,None of the above,Appropriate in length,Easy,62268\n",
            "2,I am a student who is learning to code,\"Student, full-time\",Netherlands,NA,NA,\"Bachelor’s degree (B.A., B.S., B.Eng., etc.)\",11 - 17 years,\"Other online resources (ex: videos, blogs, etc);School\",7,NA,NA,NA,NA,NA,NA,JavaScript;Python,NA,PostgreSQL,NA,NA,NA,Angular;Flask;Vue.js,NA,Cordova,NA,Docker;Git;Yarn,Git,Android Studio;IntelliJ;Notepad++;PyCharm,NA,Windows,Visit Stack Overflow;Google it,Stack Overflow,Daily or almost daily,Yes,Daily or almost daily,\"Yes, definitely\",No,18-24 years old,Man,No,Straight / Heterosexual,White or of European descent,None of the above,None of the above,Appropriate in length,Easy,NA\n",
            "3,\"I am not primarily a developer, but I write code sometimes as part of my work\",\"Student, full-time\",Russian Federation,NA,NA,\"Bachelor’s degree (B.A., B.S., B.Eng., etc.)\",11 - 17 years,\"Other online resources (ex: videos, blogs, etc);Online Forum\",NA,NA,NA,NA,NA,NA,NA,Assembly;C;Python;R;Rust,Julia;Python;Rust,SQLite,SQLite,Heroku,NA,Flask,Flask,NumPy;Pandas;TensorFlow;Torch/PyTorch,Keras;NumPy;Pandas;TensorFlow;Torch/PyTorch,NA,NA,IPython/Jupyter;PyCharm;RStudio;Sublime Text;Visual Studio Code,IPython/Jupyter;RStudio;Sublime Text;Visual Studio Code,MacOS,Visit Stack Overflow;Google it;Watch help / tutorial videos;Do other work and come back later,Stack Overflow;Stack Exchange,Multiple times per day,Yes,Multiple times per day,\"Yes, definitely\",Yes,18-24 years old,Man,No,Prefer not to say,Prefer not to say,None of the above,None of the above,Appropriate in length,Easy,NA\n",
            "4,I am a developer by profession,Employed full-time,Austria,NA,NA,\"Master’s degree (M.A., M.S., M.Eng., MBA, etc.)\",11 - 17 years,NA,NA,NA,\"Developer, front-end\",100 to 499 employees,EUR European Euro,NA,Monthly,JavaScript;TypeScript,JavaScript;TypeScript,NA,NA,NA,NA,Angular;jQuery,Angular;jQuery,NA,NA,NA,NA,NA,NA,Windows,Call a coworker or friend;Visit Stack Overflow;Go for a walk or other physical activity;Google it,Stack Overflow,Daily or almost daily,Yes,Daily or almost daily,Neutral,No,35-44 years old,Man,No,Straight / Heterosexual,White or of European descent,I am deaf / hard of hearing,NA,Appropriate in length,Neither easy nor difficult,NA\n"
          ]
        }
      ],
      "source": [
        "!head -5 survey_results_public.csv"
      ]
    },
    {
      "cell_type": "code",
      "execution_count": 6,
      "metadata": {
        "id": "uUE5_pgHMBZi"
      },
      "outputs": [],
      "source": [
        "df = spark.read.csv(\"survey_results_public.csv\", header=True).select('ResponseId', 'LanguageHaveWorkedWith', 'LanguageWantToWorkWith')"
      ]
    },
    {
      "cell_type": "code",
      "execution_count": 7,
      "metadata": {
        "colab": {
          "base_uri": "https://localhost:8080/"
        },
        "id": "AjRdJ_JZMTx7",
        "outputId": "e8443f29-47af-4248-a3e1-f608da531867"
      },
      "outputs": [
        {
          "name": "stdout",
          "output_type": "stream",
          "text": [
            "root\n",
            " |-- ResponseId: string (nullable = true)\n",
            " |-- LanguageHaveWorkedWith: string (nullable = true)\n",
            " |-- LanguageWantToWorkWith: string (nullable = true)\n",
            "\n"
          ]
        }
      ],
      "source": [
        "df.printSchema()"
      ]
    },
    {
      "cell_type": "code",
      "execution_count": 8,
      "metadata": {
        "id": "izFlYOHIMcTX"
      },
      "outputs": [],
      "source": [
        "import pyspark.sql.functions as F\n",
        "\n",
        "# LanguageHaveWorkedWith 값을 트림하고 ;를 가지고 나눠서 리스트의 형태로 language_have 필드로 설정\n",
        "df2 = df.withColumn(\n",
        "    \"language_have\",\n",
        "    F.split(F.trim(F.col(\"LanguageHaveWorkedWith\")), \";\")\n",
        ")"
      ]
    },
    {
      "cell_type": "code",
      "execution_count": 9,
      "metadata": {
        "colab": {
          "base_uri": "https://localhost:8080/"
        },
        "id": "PFMq54O2MjJp",
        "outputId": "f98155b2-fc20-415b-b555-e64acbb8e58a"
      },
      "outputs": [
        {
          "name": "stdout",
          "output_type": "stream",
          "text": [
            "+----------+----------------------+----------------------+--------------------+\n",
            "|ResponseId|LanguageHaveWorkedWith|LanguageWantToWorkWith|       language_have|\n",
            "+----------+----------------------+----------------------+--------------------+\n",
            "|         1|  C++;HTML/CSS;Java...|                 Swift|[C++, HTML/CSS, J...|\n",
            "|         2|     JavaScript;Python|                    NA|[JavaScript, Python]|\n",
            "|         3|  Assembly;C;Python...|     Julia;Python;Rust|[Assembly, C, Pyt...|\n",
            "|         4|  JavaScript;TypeSc...|  JavaScript;TypeSc...|[JavaScript, Type...|\n",
            "|         5|  Bash/Shell;HTML/C...|  Bash/Shell;HTML/C...|[Bash/Shell, HTML...|\n",
            "+----------+----------------------+----------------------+--------------------+\n",
            "only showing top 5 rows\n",
            "\n"
          ]
        }
      ],
      "source": [
        "df2.show(5)"
      ]
    },
    {
      "cell_type": "code",
      "execution_count": 10,
      "metadata": {
        "id": "o59dGRGfmwFi"
      },
      "outputs": [],
      "source": [
        "# LanguageWantToWorkWith 값을 트림하고 ;를 가지고 나눠서 리스트의 형태로 language_want 필드로 설정\n",
        "df3 = df2.withColumn(\n",
        "    \"language_want\",\n",
        "    F.split(F.trim(F.col(\"LanguageWantToWorkWith\")), \";\")\n",
        ")"
      ]
    },
    {
      "cell_type": "code",
      "execution_count": 11,
      "metadata": {
        "colab": {
          "base_uri": "https://localhost:8080/"
        },
        "id": "UiTdTSk6ncjL",
        "outputId": "232c43d4-ec30-421b-ce37-4d8ae8243e86"
      },
      "outputs": [
        {
          "name": "stdout",
          "output_type": "stream",
          "text": [
            "root\n",
            " |-- ResponseId: string (nullable = true)\n",
            " |-- LanguageHaveWorkedWith: string (nullable = true)\n",
            " |-- LanguageWantToWorkWith: string (nullable = true)\n",
            " |-- language_have: array (nullable = true)\n",
            " |    |-- element: string (containsNull = false)\n",
            " |-- language_want: array (nullable = true)\n",
            " |    |-- element: string (containsNull = false)\n",
            "\n"
          ]
        }
      ],
      "source": [
        "df3.printSchema()"
      ]
    },
    {
      "cell_type": "code",
      "execution_count": 12,
      "metadata": {
        "colab": {
          "base_uri": "https://localhost:8080/"
        },
        "id": "0oH_9cEWm7ki",
        "outputId": "a1a39150-0ee5-450d-b2cf-d5f75ca047ad"
      },
      "outputs": [
        {
          "name": "stdout",
          "output_type": "stream",
          "text": [
            "+----------+----------------------+----------------------+--------------------+--------------------+\n",
            "|ResponseId|LanguageHaveWorkedWith|LanguageWantToWorkWith|       language_have|       language_want|\n",
            "+----------+----------------------+----------------------+--------------------+--------------------+\n",
            "|         1|  C++;HTML/CSS;Java...|                 Swift|[C++, HTML/CSS, J...|             [Swift]|\n",
            "|         2|     JavaScript;Python|                    NA|[JavaScript, Python]|                [NA]|\n",
            "|         3|  Assembly;C;Python...|     Julia;Python;Rust|[Assembly, C, Pyt...|[Julia, Python, R...|\n",
            "|         4|  JavaScript;TypeSc...|  JavaScript;TypeSc...|[JavaScript, Type...|[JavaScript, Type...|\n",
            "|         5|  Bash/Shell;HTML/C...|  Bash/Shell;HTML/C...|[Bash/Shell, HTML...|[Bash/Shell, HTML...|\n",
            "+----------+----------------------+----------------------+--------------------+--------------------+\n",
            "only showing top 5 rows\n",
            "\n"
          ]
        }
      ],
      "source": [
        "df3.show(5)"
      ]
    },
    {
      "cell_type": "markdown",
      "metadata": {
        "id": "2cCpSJeT6JX_"
      },
      "source": [
        "## 현재 많이 사용되는 언어들 찾기"
      ]
    },
    {
      "cell_type": "code",
      "execution_count": 13,
      "metadata": {
        "id": "_WLgCRnim9KP"
      },
      "outputs": [],
      "source": [
        "df_language_have = df3.select(\n",
        "    df3.ResponseId,\n",
        "    F.explode(df3.language_have).alias(\"language_have\")\n",
        ")"
      ]
    },
    {
      "cell_type": "code",
      "execution_count": 14,
      "metadata": {
        "colab": {
          "base_uri": "https://localhost:8080/"
        },
        "id": "zShzpF1JnYM5",
        "outputId": "35d3a5be-be8a-4ac6-c4f1-818b20098039"
      },
      "outputs": [
        {
          "name": "stdout",
          "output_type": "stream",
          "text": [
            "+----------+-------------+\n",
            "|ResponseId|language_have|\n",
            "+----------+-------------+\n",
            "|         1|          C++|\n",
            "|         1|     HTML/CSS|\n",
            "|         1|   JavaScript|\n",
            "|         1|  Objective-C|\n",
            "|         1|          PHP|\n",
            "|         1|        Swift|\n",
            "|         2|   JavaScript|\n",
            "|         2|       Python|\n",
            "|         3|     Assembly|\n",
            "|         3|            C|\n",
            "+----------+-------------+\n",
            "only showing top 10 rows\n",
            "\n"
          ]
        }
      ],
      "source": [
        "df_language_have.show(10)"
      ]
    },
    {
      "cell_type": "code",
      "execution_count": 15,
      "metadata": {
        "colab": {
          "base_uri": "https://localhost:8080/"
        },
        "id": "W0VqRNLLnonY",
        "outputId": "4be35f68-ee37-44f2-fdf0-deae6fe8c30c"
      },
      "outputs": [
        {
          "name": "stdout",
          "output_type": "stream",
          "text": [
            "+-------------+-----+\n",
            "|language_have|count|\n",
            "+-------------+-----+\n",
            "|           C#|22984|\n",
            "|          VBA| 3847|\n",
            "|         Rust| 5799|\n",
            "|   Bash/Shell|22385|\n",
            "|   JavaScript|53587|\n",
            "|           NA| 1082|\n",
            "|         Perl| 2028|\n",
            "|       Erlang|  651|\n",
            "|       Matlab| 3846|\n",
            "|      Crystal|  466|\n",
            "+-------------+-----+\n",
            "only showing top 10 rows\n",
            "\n"
          ]
        }
      ],
      "source": [
        "df_language_have.groupby(\"language_have\").count().show(10)"
      ]
    },
    {
      "cell_type": "markdown",
      "metadata": {
        "id": "BmrboSUZ5jul"
      },
      "source": [
        "Sorting 두 가지 방법:\n",
        "\n",
        "*   sort & orderBy\n",
        "*   ascending & descending"
      ]
    },
    {
      "cell_type": "code",
      "execution_count": 16,
      "metadata": {
        "colab": {
          "base_uri": "https://localhost:8080/"
        },
        "id": "CAV1qJp_nuQW",
        "outputId": "1685e5c1-09bd-4ced-ae2b-173e3f6f9a50"
      },
      "outputs": [
        {
          "data": {
            "text/plain": [
              "[Row(language_have='JavaScript', count=53587),\n",
              " Row(language_have='HTML/CSS', count=46259),\n",
              " Row(language_have='Python', count=39792),\n",
              " Row(language_have='SQL', count=38835),\n",
              " Row(language_have='Java', count=29162),\n",
              " Row(language_have='Node.js', count=27975),\n",
              " Row(language_have='TypeScript', count=24909),\n",
              " Row(language_have='C#', count=22984),\n",
              " Row(language_have='Bash/Shell', count=22385),\n",
              " Row(language_have='C++', count=20057),\n",
              " Row(language_have='PHP', count=18130),\n",
              " Row(language_have='C', count=17329),\n",
              " Row(language_have='PowerShell', count=8871),\n",
              " Row(language_have='Go', count=7879),\n",
              " Row(language_have='Kotlin', count=6866),\n",
              " Row(language_have='Rust', count=5799),\n",
              " Row(language_have='Ruby', count=5569),\n",
              " Row(language_have='Dart', count=4965),\n",
              " Row(language_have='Assembly', count=4632),\n",
              " Row(language_have='Swift', count=4204),\n",
              " Row(language_have='R', count=4185),\n",
              " Row(language_have='VBA', count=3847),\n",
              " Row(language_have='Matlab', count=3846),\n",
              " Row(language_have='Groovy', count=2479),\n",
              " Row(language_have='Objective-C', count=2310),\n",
              " Row(language_have='Scala', count=2148),\n",
              " Row(language_have='Perl', count=2028),\n",
              " Row(language_have='Haskell', count=1749),\n",
              " Row(language_have='Delphi', count=1731),\n",
              " Row(language_have='Clojure', count=1552),\n",
              " Row(language_have='Elixir', count=1438),\n",
              " Row(language_have='LISP', count=1096),\n",
              " Row(language_have='NA', count=1082),\n",
              " Row(language_have='Julia', count=1068),\n",
              " Row(language_have='F#', count=804),\n",
              " Row(language_have='Erlang', count=651),\n",
              " Row(language_have='APL', count=536),\n",
              " Row(language_have='Crystal', count=466),\n",
              " Row(language_have='COBOL', count=437)]"
            ]
          },
          "execution_count": 16,
          "metadata": {},
          "output_type": "execute_result"
        }
      ],
      "source": [
        "df_language_have.groupby(\"language_have\").count().sort(F.desc(\"count\")).collect()"
      ]
    },
    {
      "cell_type": "code",
      "execution_count": 17,
      "metadata": {
        "colab": {
          "base_uri": "https://localhost:8080/"
        },
        "id": "W2Lba9ysobK7",
        "outputId": "88c501b0-f43a-4f1b-b70c-0e1148989e6f"
      },
      "outputs": [
        {
          "data": {
            "text/plain": [
              "[Row(language_have='JavaScript', count=53587),\n",
              " Row(language_have='HTML/CSS', count=46259),\n",
              " Row(language_have='Python', count=39792),\n",
              " Row(language_have='SQL', count=38835),\n",
              " Row(language_have='Java', count=29162),\n",
              " Row(language_have='Node.js', count=27975),\n",
              " Row(language_have='TypeScript', count=24909),\n",
              " Row(language_have='C#', count=22984),\n",
              " Row(language_have='Bash/Shell', count=22385),\n",
              " Row(language_have='C++', count=20057),\n",
              " Row(language_have='PHP', count=18130),\n",
              " Row(language_have='C', count=17329),\n",
              " Row(language_have='PowerShell', count=8871),\n",
              " Row(language_have='Go', count=7879),\n",
              " Row(language_have='Kotlin', count=6866),\n",
              " Row(language_have='Rust', count=5799),\n",
              " Row(language_have='Ruby', count=5569),\n",
              " Row(language_have='Dart', count=4965),\n",
              " Row(language_have='Assembly', count=4632),\n",
              " Row(language_have='Swift', count=4204),\n",
              " Row(language_have='R', count=4185),\n",
              " Row(language_have='VBA', count=3847),\n",
              " Row(language_have='Matlab', count=3846),\n",
              " Row(language_have='Groovy', count=2479),\n",
              " Row(language_have='Objective-C', count=2310),\n",
              " Row(language_have='Scala', count=2148),\n",
              " Row(language_have='Perl', count=2028),\n",
              " Row(language_have='Haskell', count=1749),\n",
              " Row(language_have='Delphi', count=1731),\n",
              " Row(language_have='Clojure', count=1552),\n",
              " Row(language_have='Elixir', count=1438),\n",
              " Row(language_have='LISP', count=1096),\n",
              " Row(language_have='NA', count=1082),\n",
              " Row(language_have='Julia', count=1068),\n",
              " Row(language_have='F#', count=804),\n",
              " Row(language_have='Erlang', count=651),\n",
              " Row(language_have='APL', count=536),\n",
              " Row(language_have='Crystal', count=466),\n",
              " Row(language_have='COBOL', count=437)]"
            ]
          },
          "execution_count": 17,
          "metadata": {},
          "output_type": "execute_result"
        }
      ],
      "source": [
        "df_language_have.groupby(\"language_have\").count().orderBy('count', ascending=False).collect()"
      ]
    },
    {
      "cell_type": "code",
      "execution_count": 18,
      "metadata": {
        "id": "X693rgwfokcA"
      },
      "outputs": [],
      "source": [
        "df_language50_have = df_language_have.groupby(\"language_have\")\\\n",
        "    .count()\\\n",
        "    .orderBy('count', ascending=False)\\\n",
        "    .limit(50)"
      ]
    },
    {
      "cell_type": "code",
      "execution_count": 19,
      "metadata": {
        "id": "MnxaBVNAk1IJ"
      },
      "outputs": [],
      "source": [
        "df_language50_have.write.mode('overwrite').csv(\"language50_have\")"
      ]
    },
    {
      "cell_type": "code",
      "execution_count": 20,
      "metadata": {
        "colab": {
          "base_uri": "https://localhost:8080/"
        },
        "id": "hPTyDdtN0nGM",
        "outputId": "8595cc2a-dfdd-4f7d-fa80-2befbc664af0"
      },
      "outputs": [
        {
          "name": "stdout",
          "output_type": "stream",
          "text": [
            "total 79212\n",
            "drwxr-xr-x 2 root root     4096 Jun 18 07:50 language50_have\n",
            "drwxr-xr-x 1 root root     4096 Jun 14 17:39 sample_data\n",
            "-rw-r--r-- 1 root root 81101949 Jan 15  2023 survey_results_public.csv\n"
          ]
        }
      ],
      "source": [
        "!ls -tl"
      ]
    },
    {
      "cell_type": "code",
      "execution_count": 21,
      "metadata": {
        "colab": {
          "base_uri": "https://localhost:8080/"
        },
        "id": "9ZmJ1kfr0p0a",
        "outputId": "dec34655-9c2f-4b98-9b8f-dfd2ca4244fc"
      },
      "outputs": [
        {
          "name": "stdout",
          "output_type": "stream",
          "text": [
            "total 4\n",
            "-rw-r--r-- 1 root root   0 Jun 18 07:50 _SUCCESS\n",
            "-rw-r--r-- 1 root root 447 Jun 18 07:50 part-00000-49746986-2c06-462f-a881-f8b02c561314-c000.csv\n"
          ]
        }
      ],
      "source": [
        "!ls -tl language50_have/"
      ]
    },
    {
      "cell_type": "code",
      "execution_count": 23,
      "metadata": {
        "colab": {
          "base_uri": "https://localhost:8080/"
        },
        "id": "z2ohCb3v0rQK",
        "outputId": "673c8133-cb01-41e7-e4eb-74ed11b016ab"
      },
      "outputs": [
        {
          "name": "stdout",
          "output_type": "stream",
          "text": [
            "JavaScript,53587\n",
            "HTML/CSS,46259\n",
            "Python,39792\n",
            "SQL,38835\n",
            "Java,29162\n",
            "Node.js,27975\n",
            "TypeScript,24909\n",
            "C#,22984\n",
            "Bash/Shell,22385\n",
            "C++,20057\n",
            "PHP,18130\n",
            "C,17329\n",
            "PowerShell,8871\n",
            "Go,7879\n",
            "Kotlin,6866\n",
            "Rust,5799\n",
            "Ruby,5569\n",
            "Dart,4965\n",
            "Assembly,4632\n",
            "Swift,4204\n",
            "R,4185\n",
            "VBA,3847\n",
            "Matlab,3846\n",
            "Groovy,2479\n",
            "Objective-C,2310\n",
            "Scala,2148\n",
            "Perl,2028\n",
            "Haskell,1749\n",
            "Delphi,1731\n",
            "Clojure,1552\n",
            "Elixir,1438\n",
            "LISP,1096\n",
            "NA,1082\n",
            "Julia,1068\n",
            "F#,804\n",
            "Erlang,651\n",
            "APL,536\n",
            "Crystal,466\n",
            "COBOL,437\n"
          ]
        }
      ],
      "source": [
        "!cat language50_have/part-00000-49746986-2c06-462f-a881-f8b02c561314-c000.csv\n"
      ]
    },
    {
      "cell_type": "markdown",
      "metadata": {
        "id": "8rOXOYnt6aeB"
      },
      "source": [
        "## 가장 배우고 싶은 언어들 찾기"
      ]
    },
    {
      "cell_type": "code",
      "execution_count": 24,
      "metadata": {
        "id": "Y5XsmZYy6f-q"
      },
      "outputs": [],
      "source": [
        "df_language_want = df3.select(\n",
        "    df3.ResponseId,\n",
        "    F.explode(df3.language_want).alias(\"language_want\")\n",
        ")"
      ]
    },
    {
      "cell_type": "code",
      "execution_count": 25,
      "metadata": {
        "colab": {
          "base_uri": "https://localhost:8080/"
        },
        "id": "yC39jzaJ6ydj",
        "outputId": "c463b198-d4c7-4b5d-e35d-982fb510f305"
      },
      "outputs": [
        {
          "name": "stdout",
          "output_type": "stream",
          "text": [
            "+----------+-------------+\n",
            "|ResponseId|language_want|\n",
            "+----------+-------------+\n",
            "|         1|        Swift|\n",
            "|         2|           NA|\n",
            "|         3|        Julia|\n",
            "|         3|       Python|\n",
            "|         3|         Rust|\n",
            "+----------+-------------+\n",
            "only showing top 5 rows\n",
            "\n"
          ]
        }
      ],
      "source": [
        "df_language_want.show(5)"
      ]
    },
    {
      "cell_type": "code",
      "execution_count": 26,
      "metadata": {
        "colab": {
          "base_uri": "https://localhost:8080/"
        },
        "id": "VyZnyCoR63w-",
        "outputId": "4f31892a-218d-4af8-e6d8-7a6a2e0d659b"
      },
      "outputs": [
        {
          "name": "stdout",
          "output_type": "stream",
          "text": [
            "+-------------+-----+\n",
            "|language_want|count|\n",
            "+-------------+-----+\n",
            "|           C#|17999|\n",
            "|          VBA| 1069|\n",
            "|         Rust|15865|\n",
            "|   Bash/Shell|14043|\n",
            "|   JavaScript|37008|\n",
            "|           NA| 6618|\n",
            "|         Perl| 1175|\n",
            "|       Erlang| 1379|\n",
            "|       Matlab| 1562|\n",
            "|      Crystal|  790|\n",
            "+-------------+-----+\n",
            "only showing top 10 rows\n",
            "\n"
          ]
        }
      ],
      "source": [
        "df_language_want.groupby(\"language_want\").count().show(10)"
      ]
    },
    {
      "cell_type": "code",
      "execution_count": 27,
      "metadata": {
        "id": "cdNUI-4v7Cu5"
      },
      "outputs": [],
      "source": [
        "df_language50_want = df_language_want.groupby(\"language_want\").count().orderBy('count', ascending=False).limit(50)"
      ]
    },
    {
      "cell_type": "code",
      "execution_count": 28,
      "metadata": {
        "colab": {
          "base_uri": "https://localhost:8080/"
        },
        "id": "dEENWbzr71Aw",
        "outputId": "40c8c9ac-a360-45f6-e310-bd3642effd76"
      },
      "outputs": [
        {
          "name": "stdout",
          "output_type": "stream",
          "text": [
            "+-------------+-----+\n",
            "|language_want|count|\n",
            "+-------------+-----+\n",
            "|   JavaScript|37008|\n",
            "|       Python|34929|\n",
            "|     HTML/CSS|29353|\n",
            "|   TypeScript|26905|\n",
            "|          SQL|26631|\n",
            "|      Node.js|24100|\n",
            "|           C#|17999|\n",
            "|         Java|17222|\n",
            "|         Rust|15865|\n",
            "|           Go|15788|\n",
            "+-------------+-----+\n",
            "only showing top 10 rows\n",
            "\n"
          ]
        }
      ],
      "source": [
        "df_language50_want.show(10)"
      ]
    },
    {
      "cell_type": "code",
      "execution_count": 29,
      "metadata": {
        "id": "YH6cRSOW7KNo"
      },
      "outputs": [],
      "source": [
        "df_language50_want.write.mode('overwrite').csv(\"language50_want\")"
      ]
    },
    {
      "cell_type": "code",
      "execution_count": 30,
      "metadata": {
        "colab": {
          "base_uri": "https://localhost:8080/"
        },
        "id": "QfVewy4a7Oh7",
        "outputId": "6ddd46d3-ec13-4ad8-9f4f-b80448a14e76"
      },
      "outputs": [
        {
          "name": "stdout",
          "output_type": "stream",
          "text": [
            "total 4\n",
            "-rw-r--r-- 1 root root   0 Jun 18 07:50 _SUCCESS\n",
            "-rw-r--r-- 1 root root 449 Jun 18 07:50 part-00000-91de8431-438e-4723-bdbe-9e0fa094ea8d-c000.csv\n"
          ]
        }
      ],
      "source": [
        "!ls -tl language50_want/"
      ]
    },
    {
      "cell_type": "code",
      "execution_count": 31,
      "metadata": {
        "colab": {
          "base_uri": "https://localhost:8080/"
        },
        "id": "QLnV0i6FU_71",
        "outputId": "add710d1-9f3b-4a77-e4ad-75bbe5f2420c"
      },
      "outputs": [
        {
          "name": "stdout",
          "output_type": "stream",
          "text": [
            "JavaScript,37008\n",
            "Python,34929\n",
            "HTML/CSS,29353\n",
            "TypeScript,26905\n",
            "SQL,26631\n",
            "Node.js,24100\n",
            "C#,17999\n",
            "Java,17222\n",
            "Rust,15865\n",
            "Go,15788\n",
            "C++,15249\n",
            "Bash/Shell,14043\n",
            "Kotlin,10691\n",
            "C,9702\n",
            "PHP,8852\n",
            "Dart,7018\n",
            "NA,6618\n",
            "Swift,6353\n",
            "Ruby,4942\n",
            "PowerShell,4896\n",
            "R,4015\n",
            "Assembly,3578\n",
            "Haskell,3453\n",
            "Elixir,3374\n",
            "Scala,3165\n",
            "Julia,2445\n",
            "Clojure,2413\n",
            "F#,2157\n",
            "Matlab,1562\n",
            "LISP,1513\n",
            "Objective-C,1400\n",
            "Erlang,1379\n",
            "Groovy,1177\n",
            "Perl,1175\n",
            "VBA,1069\n",
            "Delphi,975\n",
            "Crystal,790\n",
            "APL,568\n",
            "COBOL,309\n"
          ]
        }
      ],
      "source": [
        "!cat language50_want/part-00000-91de8431-438e-4723-bdbe-9e0fa094ea8d-c000.csv"
      ]
    },
    {
      "cell_type": "markdown",
      "metadata": {
        "id": "UQSXCsDZVI9j"
      },
      "source": [
        "## 가장 많이 사용되는 언어 top 50"
      ]
    },
    {
      "cell_type": "code",
      "execution_count": 38,
      "metadata": {
        "colab": {
          "base_uri": "https://localhost:8080/"
        },
        "id": "iTx2LyODVLys",
        "outputId": "6c993689-b318-4c72-9fb8-3b178c991799"
      },
      "outputs": [
        {
          "name": "stdout",
          "output_type": "stream",
          "text": [
            "+-------------+\n",
            "|language_have|\n",
            "+-------------+\n",
            "|   JavaScript|\n",
            "|     HTML/CSS|\n",
            "|       Python|\n",
            "|          SQL|\n",
            "|         Java|\n",
            "|      Node.js|\n",
            "|   TypeScript|\n",
            "|           C#|\n",
            "|   Bash/Shell|\n",
            "|          C++|\n",
            "+-------------+\n",
            "only showing top 10 rows\n",
            "\n"
          ]
        }
      ],
      "source": [
        "from pyspark.sql import SparkSession\n",
        "import pyspark.sql.functions as F\n",
        "\n",
        "spark = SparkSession \\\n",
        "    .builder \\\n",
        "    .appName(\"Python Spark SQL basic example\") \\\n",
        "    .config(\"spark.jars\", \"/usr/local/lib/python3.7/dist-packages/pyspark/jars/RedshiftJDBC42-no-awssdk-1.2.20.1043.jar\") \\\n",
        "    .getOrCreate()\n",
        "\n",
        "df = spark.read.csv(\"survey_results_public.csv\", header=True).select('ResponseId', 'LanguageHaveWorkedWith', 'LanguageWantToWorkWith')\n",
        "\n",
        "df2 = df.withColumn(\n",
        "    \"language_have\",\n",
        "    F.split(F.trim(F.col(\"LanguageHaveWorkedWith\")), \";\")\n",
        ")\n",
        "\n",
        "df_language_have = df2.select(\n",
        "    df2.ResponseId,\n",
        "    F.explode(df2.language_have).alias(\"language_have\")\n",
        ")\n",
        "\n",
        "df_language50_have = df_language_have.groupby(\"language_have\").count().orderBy('count', ascending=False).limit(50)\n",
        "\n",
        "final_df = df_language50_have.drop(\"count\")\n",
        "\n",
        "final_df.show(10)"
      ]
    },
    {
      "cell_type": "markdown",
      "metadata": {
        "id": "_dZZCRLaVQYz"
      },
      "source": [
        "## 가장 많이 쓰고 싶은 언어 top 50"
      ]
    },
    {
      "cell_type": "code",
      "execution_count": 41,
      "metadata": {
        "colab": {
          "base_uri": "https://localhost:8080/"
        },
        "id": "sOpW85mtVRvE",
        "outputId": "6b1e942d-84c7-4b41-f961-8e56daa8fb96"
      },
      "outputs": [
        {
          "name": "stdout",
          "output_type": "stream",
          "text": [
            "+-------------+\n",
            "|language_want|\n",
            "+-------------+\n",
            "|   JavaScript|\n",
            "|       Python|\n",
            "|     HTML/CSS|\n",
            "|   TypeScript|\n",
            "|          SQL|\n",
            "|      Node.js|\n",
            "|           C#|\n",
            "|         Java|\n",
            "|         Rust|\n",
            "|           Go|\n",
            "+-------------+\n",
            "only showing top 10 rows\n",
            "\n"
          ]
        }
      ],
      "source": [
        "from pyspark.sql import SparkSession\n",
        "import pyspark.sql.functions as F\n",
        "\n",
        "spark = SparkSession \\\n",
        "    .builder \\\n",
        "    .appName(\"Python Spark SQL basic example\") \\\n",
        "    .config(\"spark.jars\", \"/usr/local/lib/python3.7/dist-packages/pyspark/jars/RedshiftJDBC42-no-awssdk-1.2.20.1043.jar\") \\\n",
        "    .getOrCreate()\n",
        "\n",
        "df = spark.read.csv(\"survey_results_public.csv\", header=True).select('ResponseId', 'LanguageHaveWorkedWith', 'LanguageWantToWorkWith')\n",
        "\n",
        "df2 = df.withColumn(\n",
        "    \"language_want\",\n",
        "    F.split(F.trim(F.col(\"LanguageWantToWorkWith\")), \";\")\n",
        ")\n",
        "\n",
        "df_language_want = df2.select(\n",
        "    df2.ResponseId,\n",
        "    F.explode(df2.language_want).alias(\"language_want\")\n",
        ")\n",
        "\n",
        "df_language50_want = df_language_want.groupby(\"language_want\").count().orderBy('count', ascending=False).limit(50)\n",
        "\n",
        "final_df = df_language50_want.drop(\"count\")\n",
        "\n",
        "final_df.show(10)"
      ]
    }
  ],
  "metadata": {
    "colab": {
      "provenance": []
    },
    "kernelspec": {
      "display_name": "Python 3",
      "name": "python3"
    },
    "language_info": {
      "name": "python"
    }
  },
  "nbformat": 4,
  "nbformat_minor": 0
}
