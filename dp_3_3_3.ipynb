{
 "cells": [
  {
   "cell_type": "markdown",
   "id": "bddfeff0-5543-4d40-bba6-a4f068eaf79a",
   "metadata": {},
   "source": [
    "# Locator"
   ]
  },
  {
   "cell_type": "markdown",
   "id": "344553ac-8f83-417d-87e6-97b62bd142a2",
   "metadata": {},
   "source": [
    "## http://books.toscrape.com/catalogue/category/books/travel_2/index.html"
   ]
  },
  {
   "cell_type": "code",
   "execution_count": 1,
   "id": "df0760e3-69a0-483d-9f34-7138bf909efc",
   "metadata": {},
   "outputs": [],
   "source": [
    "import requests\n",
    "from bs4 import BeautifulSoup"
   ]
  },
  {
   "cell_type": "code",
   "execution_count": 2,
   "id": "eadc967b-aa38-4527-9906-0643e06d477a",
   "metadata": {},
   "outputs": [],
   "source": [
    "res = requests.get(\"http://books.toscrape.com/catalogue/category/books/travel_2/index.html\")\n",
    "soup = BeautifulSoup(res.text, \"html.parser\")"
   ]
  },
  {
   "cell_type": "code",
   "execution_count": 3,
   "id": "e731d340-cc27-49d4-9a5f-9fd17545c634",
   "metadata": {},
   "outputs": [
    {
     "data": {
      "text/plain": [
       "<div class=\"page_inner\">\n",
       "<div class=\"row\">\n",
       "<div class=\"col-sm-8 h1\"><a href=\"../../../../index.html\">Books to Scrape</a><small> We love being scraped!</small>\n",
       "</div>\n",
       "</div>\n",
       "</div>"
      ]
     },
     "execution_count": 3,
     "metadata": {},
     "output_type": "execute_result"
    }
   ],
   "source": [
    "soup.find(\"div\")"
   ]
  },
  {
   "cell_type": "code",
   "execution_count": 8,
   "id": "67239f9e-e595-474f-a5dd-23bad42009a7",
   "metadata": {},
   "outputs": [
    {
     "data": {
      "text/plain": [
       "<div id=\"messages\">\n",
       "</div>"
      ]
     },
     "execution_count": 8,
     "metadata": {},
     "output_type": "execute_result"
    }
   ],
   "source": [
    "soup.find(\"div\", id=\"messages\")"
   ]
  },
  {
   "cell_type": "code",
   "execution_count": 9,
   "id": "d0b8e0f3-eeaa-4537-83b7-50253ecd6dfb",
   "metadata": {},
   "outputs": [],
   "source": [
    "find_result = soup.find(\"div\", \"page-header action\")"
   ]
  },
  {
   "cell_type": "code",
   "execution_count": 12,
   "id": "f318d25d-5d29-4da4-b52c-0e6640256260",
   "metadata": {},
   "outputs": [
    {
     "data": {
      "text/plain": [
       "'Travel'"
      ]
     },
     "execution_count": 12,
     "metadata": {},
     "output_type": "execute_result"
    }
   ],
   "source": [
    "find_result.h1.text.strip()"
   ]
  }
 ],
 "metadata": {
  "kernelspec": {
   "display_name": "Python 3 (ipykernel)",
   "language": "python",
   "name": "python3"
  },
  "language_info": {
   "codemirror_mode": {
    "name": "ipython",
    "version": 3
   },
   "file_extension": ".py",
   "mimetype": "text/x-python",
   "name": "python",
   "nbconvert_exporter": "python",
   "pygments_lexer": "ipython3",
   "version": "3.12.2"
  }
 },
 "nbformat": 4,
 "nbformat_minor": 5
}
