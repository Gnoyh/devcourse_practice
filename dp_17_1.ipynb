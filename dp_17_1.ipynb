{
  "nbformat": 4,
  "nbformat_minor": 0,
  "metadata": {
    "colab": {
      "provenance": []
    },
    "kernelspec": {
      "name": "python3",
      "display_name": "Python 3"
    },
    "language_info": {
      "name": "python"
    }
  },
  "cells": [
    {
      "cell_type": "code",
      "execution_count": 1,
      "metadata": {
        "colab": {
          "base_uri": "https://localhost:8080/"
        },
        "id": "2kj0mDD6GgtY",
        "outputId": "cdf204af-08e6-4a13-a8b6-99dd80b74c4a"
      },
      "outputs": [
        {
          "output_type": "stream",
          "name": "stdout",
          "text": [
            "Collecting pyspark==3.3.1\n",
            "  Downloading pyspark-3.3.1.tar.gz (281.4 MB)\n",
            "\u001b[2K     \u001b[90m━━━━━━━━━━━━━━━━━━━━━━━━━━━━━━━━━━━━━━━━\u001b[0m \u001b[32m281.4/281.4 MB\u001b[0m \u001b[31m2.5 MB/s\u001b[0m eta \u001b[36m0:00:00\u001b[0m\n",
            "\u001b[?25h  Preparing metadata (setup.py) ... \u001b[?25l\u001b[?25hdone\n",
            "Collecting py4j==0.10.9.5\n",
            "  Downloading py4j-0.10.9.5-py2.py3-none-any.whl (199 kB)\n",
            "\u001b[2K     \u001b[90m━━━━━━━━━━━━━━━━━━━━━━━━━━━━━━━━━━━━━━━━\u001b[0m \u001b[32m199.7/199.7 kB\u001b[0m \u001b[31m8.6 MB/s\u001b[0m eta \u001b[36m0:00:00\u001b[0m\n",
            "\u001b[?25hBuilding wheels for collected packages: pyspark\n",
            "  Building wheel for pyspark (setup.py) ... \u001b[?25l\u001b[?25hdone\n",
            "  Created wheel for pyspark: filename=pyspark-3.3.1-py2.py3-none-any.whl size=281845493 sha256=5bd7ad4811c7e5955284e11be2ad280cf0b9e764f7030b1d747987e0d8438bab\n",
            "  Stored in directory: /root/.cache/pip/wheels/0f/f0/3d/517368b8ce80486e84f89f214e0a022554e4ee64969f46279b\n",
            "Successfully built pyspark\n",
            "Installing collected packages: py4j, pyspark\n",
            "  Attempting uninstall: py4j\n",
            "    Found existing installation: py4j 0.10.9.7\n",
            "    Uninstalling py4j-0.10.9.7:\n",
            "      Successfully uninstalled py4j-0.10.9.7\n",
            "Successfully installed py4j-0.10.9.5 pyspark-3.3.1\n"
          ]
        }
      ],
      "source": [
        "!pip install pyspark==3.3.1 py4j==0.10.9.5"
      ]
    },
    {
      "cell_type": "code",
      "source": [
        "!wget https://s3-geospatial.s3-us-west-2.amazonaws.com/Marvel_names.txt"
      ],
      "metadata": {
        "colab": {
          "base_uri": "https://localhost:8080/"
        },
        "id": "wCWWKwryGwOO",
        "outputId": "0023251a-2d08-4c2b-ef34-fb1ef1eccaa4"
      },
      "execution_count": 2,
      "outputs": [
        {
          "output_type": "stream",
          "name": "stdout",
          "text": [
            "--2024-07-08 06:51:00--  https://s3-geospatial.s3-us-west-2.amazonaws.com/Marvel_names.txt\n",
            "Resolving s3-geospatial.s3-us-west-2.amazonaws.com (s3-geospatial.s3-us-west-2.amazonaws.com)... 52.92.131.106, 52.92.132.42, 3.5.84.218, ...\n",
            "Connecting to s3-geospatial.s3-us-west-2.amazonaws.com (s3-geospatial.s3-us-west-2.amazonaws.com)|52.92.131.106|:443... connected.\n",
            "HTTP request sent, awaiting response... 200 OK\n",
            "Length: 351848 (344K) [text/plain]\n",
            "Saving to: ‘Marvel_names.txt’\n",
            "\n",
            "Marvel_names.txt    100%[===================>] 343.60K  --.-KB/s    in 0.07s   \n",
            "\n",
            "2024-07-08 06:51:00 (4.72 MB/s) - ‘Marvel_names.txt’ saved [351848/351848]\n",
            "\n"
          ]
        }
      ]
    },
    {
      "cell_type": "code",
      "source": [
        "!head -5 Marvel_names.txt"
      ],
      "metadata": {
        "colab": {
          "base_uri": "https://localhost:8080/"
        },
        "id": "mToehYZaG9wz",
        "outputId": "9829c333-f973-4974-c5c1-0365492ec7ca"
      },
      "execution_count": 3,
      "outputs": [
        {
          "output_type": "stream",
          "name": "stdout",
          "text": [
            "1 \"24-HOUR MAN/EMMANUEL\"\r\n",
            "2 \"3-D MAN/CHARLES CHAN\"\r\n",
            "3 \"4-D MAN/MERCURIO\"\r\n",
            "4 \"8-BALL/\"\r\n",
            "5 \"A\"\r\n"
          ]
        }
      ]
    },
    {
      "cell_type": "code",
      "source": [
        "!wget https://s3-geospatial.s3-us-west-2.amazonaws.com/Marvel_graph.txt"
      ],
      "metadata": {
        "colab": {
          "base_uri": "https://localhost:8080/"
        },
        "id": "Cwo37n61HCBn",
        "outputId": "2cc3df65-df7e-4976-abfa-0fe0c1bfb2cd"
      },
      "execution_count": 4,
      "outputs": [
        {
          "output_type": "stream",
          "name": "stdout",
          "text": [
            "--2024-07-08 06:51:22--  https://s3-geospatial.s3-us-west-2.amazonaws.com/Marvel_graph.txt\n",
            "Resolving s3-geospatial.s3-us-west-2.amazonaws.com (s3-geospatial.s3-us-west-2.amazonaws.com)... 52.218.132.113, 3.5.76.189, 52.92.237.218, ...\n",
            "Connecting to s3-geospatial.s3-us-west-2.amazonaws.com (s3-geospatial.s3-us-west-2.amazonaws.com)|52.218.132.113|:443... connected.\n",
            "HTTP request sent, awaiting response... 200 OK\n",
            "Length: 1673543 (1.6M) [text/plain]\n",
            "Saving to: ‘Marvel_graph.txt’\n",
            "\n",
            "\rMarvel_graph.txt      0%[                    ]       0  --.-KB/s               \rMarvel_graph.txt    100%[===================>]   1.60M  --.-KB/s    in 0.09s   \n",
            "\n",
            "2024-07-08 06:51:22 (17.5 MB/s) - ‘Marvel_graph.txt’ saved [1673543/1673543]\n",
            "\n"
          ]
        }
      ]
    },
    {
      "cell_type": "code",
      "source": [
        "!head -5 Marvel_graph.txt"
      ],
      "metadata": {
        "colab": {
          "base_uri": "https://localhost:8080/"
        },
        "id": "761bK551HH9y",
        "outputId": "3bfd0398-242e-42d5-84a2-66fe34eb5ecb"
      },
      "execution_count": 5,
      "outputs": [
        {
          "output_type": "stream",
          "name": "stdout",
          "text": [
            "5988 748 1722 3752 4655 5743 1872 3413 5527 6368 6085 4319 4728 1636 2397 3364 4001 1614 1819 1585 732 2660 3952 2507 3891 2070 2239 2602 612 1352 5447 4548 1596 5488 1605 5517 11 479 2554 2043 17 865 4292 6312 473 534 1479 6375 4456 \r\n",
            "5989 4080 4264 4446 3779 2430 2297 6169 3530 3272 4282 6432 2548 4140 185 105 3878 2429 1334 4595 2767 3956 3877 4776 4946 3407 128 269 5775 5121 481 5516 4758 4053 1044 1602 3889 1535 6038 533 3986 \r\n",
            "5982 217 595 1194 3308 2940 1815 794 1503 5197 859 5096 6039 2664 651 2244 528 284 1449 1097 1172 1092 108 3405 5204 387 4607 4545 3705 4930 1805 4712 4404 247 4754 4427 1845 536 5795 5978 533 3984 6056 \r\n",
            "5983 1165 3836 4361 1282 716 4289 4646 6300 5084 2397 4454 1913 5861 5485 \r\n",
            "5980 2731 3712 1587 6084 2472 2546 6313 875 859 323 2664 1469 522 2506 2919 2423 3624 5736 5046 1787 5776 3245 3840 2399 \r\n"
          ]
        }
      ]
    },
    {
      "cell_type": "code",
      "source": [
        "from pyspark.sql import SparkSession\n",
        "\n",
        "spark = SparkSession.builder\\\n",
        "        .master(\"local[*]\")\\\n",
        "        .appName(\"PySpark Finding Super-hero\")\\\n",
        "        .getOrCreate()"
      ],
      "metadata": {
        "id": "zr1P4xg1HLZg"
      },
      "execution_count": 6,
      "outputs": []
    },
    {
      "cell_type": "code",
      "source": [
        "import pyspark.sql.functions as f\n",
        "from pyspark.sql.types import StructType, StructField, StringType, IntegerType"
      ],
      "metadata": {
        "id": "6AHrevAeHm09"
      },
      "execution_count": 7,
      "outputs": []
    },
    {
      "cell_type": "code",
      "source": [
        "marvel_name_schema = StructType([\n",
        "    StructField(\"id\", IntegerType(), True),\n",
        "    StructField(\"name\", StringType(), True)])"
      ],
      "metadata": {
        "id": "kXSqQvOgHyGt"
      },
      "execution_count": 8,
      "outputs": []
    },
    {
      "cell_type": "code",
      "source": [
        "names = spark.read.schema(marvel_name_schema).option(\"sep\", \" \").csv(\"Marvel_names.txt\")"
      ],
      "metadata": {
        "id": "6CRq87K8H9XS"
      },
      "execution_count": 9,
      "outputs": []
    },
    {
      "cell_type": "code",
      "source": [
        "names.show(5)"
      ],
      "metadata": {
        "colab": {
          "base_uri": "https://localhost:8080/"
        },
        "id": "gE6fPj5LIGXc",
        "outputId": "fab74ec9-d715-4ecf-c496-90fb87efed40"
      },
      "execution_count": 10,
      "outputs": [
        {
          "output_type": "stream",
          "name": "stdout",
          "text": [
            "+---+--------------------+\n",
            "| id|                name|\n",
            "+---+--------------------+\n",
            "|  1|24-HOUR MAN/EMMANUEL|\n",
            "|  2|3-D MAN/CHARLES CHAN|\n",
            "|  3|    4-D MAN/MERCURIO|\n",
            "|  4|             8-BALL/|\n",
            "|  5|                   A|\n",
            "+---+--------------------+\n",
            "only showing top 5 rows\n",
            "\n"
          ]
        }
      ]
    },
    {
      "cell_type": "code",
      "source": [
        "lines = spark.read.text(\"Marvel_graph.txt\")"
      ],
      "metadata": {
        "id": "afi79z_1IJ_g"
      },
      "execution_count": 11,
      "outputs": []
    },
    {
      "cell_type": "code",
      "source": [
        "lines.show(5)"
      ],
      "metadata": {
        "colab": {
          "base_uri": "https://localhost:8080/"
        },
        "id": "i-EPtQeUIUZi",
        "outputId": "19193bc5-7aa1-49cd-f50a-9fe377ae64c3"
      },
      "execution_count": 12,
      "outputs": [
        {
          "output_type": "stream",
          "name": "stdout",
          "text": [
            "+--------------------+\n",
            "|               value|\n",
            "+--------------------+\n",
            "|5988 748 1722 375...|\n",
            "|5989 4080 4264 44...|\n",
            "|5982 217 595 1194...|\n",
            "|5983 1165 3836 43...|\n",
            "|5980 2731 3712 15...|\n",
            "+--------------------+\n",
            "only showing top 5 rows\n",
            "\n"
          ]
        }
      ]
    },
    {
      "cell_type": "code",
      "source": [
        "id_connections = lines.withColumn(\"id\", f.split(f.col(\"value\"), \" \")[0])\\\n",
        "    .withColumn(\"connections\", f.size(f.split(f.trim(f.col(\"value\")), \" \")) - 1)"
      ],
      "metadata": {
        "id": "p-c1vd36IV_M"
      },
      "execution_count": 13,
      "outputs": []
    },
    {
      "cell_type": "code",
      "source": [
        "id_connections.select(\"id\", \"connections\").show(5)"
      ],
      "metadata": {
        "colab": {
          "base_uri": "https://localhost:8080/"
        },
        "id": "zCiDXp3lIzP2",
        "outputId": "376bbbb0-4720-47ce-b0ab-a4ab32e2507f"
      },
      "execution_count": 14,
      "outputs": [
        {
          "output_type": "stream",
          "name": "stdout",
          "text": [
            "+----+-----------+\n",
            "|  id|connections|\n",
            "+----+-----------+\n",
            "|5988|         48|\n",
            "|5989|         40|\n",
            "|5982|         42|\n",
            "|5983|         14|\n",
            "|5980|         24|\n",
            "+----+-----------+\n",
            "only showing top 5 rows\n",
            "\n"
          ]
        }
      ]
    },
    {
      "cell_type": "code",
      "source": [
        "connections = id_connections.groupBy(\"id\").agg(f.sum(\"connections\").alias(\"connections\"))"
      ],
      "metadata": {
        "id": "N4UFsTPWI6RJ"
      },
      "execution_count": 15,
      "outputs": []
    },
    {
      "cell_type": "code",
      "source": [
        "connections.show()"
      ],
      "metadata": {
        "colab": {
          "base_uri": "https://localhost:8080/"
        },
        "id": "0aSwfmOiJCWg",
        "outputId": "17935244-b5b0-4bb2-be4d-a6a96282d0e6"
      },
      "execution_count": 16,
      "outputs": [
        {
          "output_type": "stream",
          "name": "stdout",
          "text": [
            "+----+-----------+\n",
            "|  id|connections|\n",
            "+----+-----------+\n",
            "| 691|          6|\n",
            "|1159|         11|\n",
            "|3959|        142|\n",
            "|1572|         35|\n",
            "|2294|         14|\n",
            "|1090|          4|\n",
            "|3606|        171|\n",
            "|3414|          7|\n",
            "| 296|         17|\n",
            "|4821|         16|\n",
            "|2162|         41|\n",
            "|1436|          9|\n",
            "|1512|         11|\n",
            "|6194|         14|\n",
            "|6240|         11|\n",
            "| 829|         37|\n",
            "|2136|          6|\n",
            "|5645|         20|\n",
            "|2069|        263|\n",
            "| 467|          0|\n",
            "+----+-----------+\n",
            "only showing top 20 rows\n",
            "\n"
          ]
        }
      ]
    },
    {
      "cell_type": "code",
      "source": [
        "mostPopular = connections.sort(f.col(\"connections\").desc()).first()"
      ],
      "metadata": {
        "id": "wV5NWz0kJEie"
      },
      "execution_count": 17,
      "outputs": []
    },
    {
      "cell_type": "code",
      "source": [
        "mostPopular"
      ],
      "metadata": {
        "colab": {
          "base_uri": "https://localhost:8080/"
        },
        "id": "EjncDVs3JQ9C",
        "outputId": "18947fdc-dfbb-4cc4-f7d5-d57c63d49c17"
      },
      "execution_count": 18,
      "outputs": [
        {
          "output_type": "execute_result",
          "data": {
            "text/plain": [
              "Row(id='859', connections=1933)"
            ]
          },
          "metadata": {},
          "execution_count": 18
        }
      ]
    },
    {
      "cell_type": "code",
      "source": [
        "mostPopularName = names.filter(f.col(\"id\") == mostPopular[0]).select(\"name\").first()"
      ],
      "metadata": {
        "id": "7PaFt1JoJSS_"
      },
      "execution_count": 19,
      "outputs": []
    },
    {
      "cell_type": "code",
      "source": [
        "print(mostPopularName[0] + \"가 가장 인기있는 수퍼히어로로 총 \" + str(mostPopular[1]) + \"번 다른 히어로들과 출연했습니다.\")"
      ],
      "metadata": {
        "colab": {
          "base_uri": "https://localhost:8080/"
        },
        "id": "-QWS0LOWJaL3",
        "outputId": "50e50503-2592-437b-c26f-6e5d173c9083"
      },
      "execution_count": 21,
      "outputs": [
        {
          "output_type": "stream",
          "name": "stdout",
          "text": [
            "CAPTAIN AMERICA가 가장 인기있는 수퍼히어로로 총 1933번 다른 히어로들과 출연했습니다.\n"
          ]
        }
      ]
    },
    {
      "cell_type": "code",
      "source": [
        "id_connections.createOrReplaceTempView(\"id_connections\")\n",
        "names.createOrReplaceTempView(\"names\")"
      ],
      "metadata": {
        "id": "daABNUNyJoor"
      },
      "execution_count": 22,
      "outputs": []
    },
    {
      "cell_type": "code",
      "source": [
        "spark.sql(\"\"\"\n",
        "SELECT c.id, n.name, SUM(c.connections)\n",
        "FROM id_connections c\n",
        "JOIN names n ON c.id = n.id\n",
        "GROUP BY 1, 2\n",
        "ORDER BY 3 DESC\"\"\").show()"
      ],
      "metadata": {
        "colab": {
          "base_uri": "https://localhost:8080/"
        },
        "id": "Cu0TLJcxJ6yA",
        "outputId": "c181b037-36ed-495a-86d0-5e2c426f42f4"
      },
      "execution_count": 23,
      "outputs": [
        {
          "output_type": "stream",
          "name": "stdout",
          "text": [
            "+----+--------------------+----------------+\n",
            "|  id|                name|sum(connections)|\n",
            "+----+--------------------+----------------+\n",
            "| 859|     CAPTAIN AMERICA|            1933|\n",
            "|5306|SPIDER-MAN/PETER PAR|            1741|\n",
            "|2664|IRON MAN/TONY STARK |            1528|\n",
            "|5716|THING/BENJAMIN J. GR|            1426|\n",
            "|6306|    WOLVERINE/LOGAN |            1394|\n",
            "|3805|MR. FANTASTIC/REED R|            1386|\n",
            "|2557|HUMAN TORCH/JOHNNY S|            1371|\n",
            "|4898|SCARLET WITCH/WANDA |            1345|\n",
            "|5736|THOR/DR. DONALD BLAK|            1289|\n",
            "| 403|BEAST/HENRY &HANK& P|            1280|\n",
            "|6066|             VISION |            1263|\n",
            "|2650|INVISIBLE WOMAN/SUE |            1244|\n",
            "|2399|                HAWK|            1176|\n",
            "|1289|CYCLOPS/SCOTT SUMMER|            1104|\n",
            "|5467|STORM/ORORO MUNROE S|            1095|\n",
            "| 133|ANGEL/WARREN KENNETH|            1094|\n",
            "|6148|WASP/JANET VAN DYNE |            1093|\n",
            "| 154|ANT-MAN/DR. HENRY J.|            1092|\n",
            "|5046|SHE-HULK/JENNIFER WA|            1080|\n",
            "|1602|DR. STRANGE/STEPHEN |            1079|\n",
            "+----+--------------------+----------------+\n",
            "only showing top 20 rows\n",
            "\n"
          ]
        }
      ]
    },
    {
      "cell_type": "code",
      "source": [
        "def returnName(id: str) -> str:\n",
        "    return broadcast_id2Names.value.get(int(id))"
      ],
      "metadata": {
        "id": "AaGY6QwIKLC7"
      },
      "execution_count": 77,
      "outputs": []
    },
    {
      "cell_type": "code",
      "source": [
        "id2Names = names.rdd.collectAsMap()"
      ],
      "metadata": {
        "id": "lFab1j_6KrIg"
      },
      "execution_count": 72,
      "outputs": []
    },
    {
      "cell_type": "code",
      "source": [
        "len(id2Names)"
      ],
      "metadata": {
        "colab": {
          "base_uri": "https://localhost:8080/"
        },
        "id": "FqXS4g8kKvQ4",
        "outputId": "5b4359b2-7e6d-4570-e2c4-70061ea4747c"
      },
      "execution_count": 73,
      "outputs": [
        {
          "output_type": "execute_result",
          "data": {
            "text/plain": [
              "19428"
            ]
          },
          "metadata": {},
          "execution_count": 73
        }
      ]
    },
    {
      "cell_type": "code",
      "source": [
        "for idx, id in enumerate(id2Names):\n",
        "    if idx >= 10:\n",
        "        break\n",
        "\n",
        "    print(id, id2Names[id])"
      ],
      "metadata": {
        "colab": {
          "base_uri": "https://localhost:8080/"
        },
        "id": "cGGaUNJAKxTu",
        "outputId": "a0ddd40d-d7ee-4780-c896-c26767de19b8"
      },
      "execution_count": 74,
      "outputs": [
        {
          "output_type": "stream",
          "name": "stdout",
          "text": [
            "1 24-HOUR MAN/EMMANUEL\n",
            "2 3-D MAN/CHARLES CHAN\n",
            "3 4-D MAN/MERCURIO\n",
            "4 8-BALL/\n",
            "5 A\n",
            "6 A'YIN\n",
            "7 ABBOTT, JACK\n",
            "8 ABCISSA\n",
            "9 ABEL\n",
            "10 ABOMINATION/EMIL BLO\n"
          ]
        }
      ]
    },
    {
      "cell_type": "code",
      "source": [
        "broadcast_id2Names = spark.sparkContext.broadcast(id2Names)"
      ],
      "metadata": {
        "id": "07bxe3SAK5DT"
      },
      "execution_count": 78,
      "outputs": []
    },
    {
      "cell_type": "code",
      "source": [
        "broadcast_id2Names.value.get(859)"
      ],
      "metadata": {
        "colab": {
          "base_uri": "https://localhost:8080/",
          "height": 35
        },
        "id": "H1_FE7vrK_O_",
        "outputId": "f71537d2-398f-45c2-d30b-b0037410af7b"
      },
      "execution_count": 85,
      "outputs": [
        {
          "output_type": "execute_result",
          "data": {
            "text/plain": [
              "'CAPTAIN AMERICA'"
            ],
            "application/vnd.google.colaboratory.intrinsic+json": {
              "type": "string"
            }
          },
          "metadata": {},
          "execution_count": 85
        }
      ]
    },
    {
      "cell_type": "code",
      "source": [
        "spark.udf.register(\"returnName\", returnName, StringType())"
      ],
      "metadata": {
        "colab": {
          "base_uri": "https://localhost:8080/",
          "height": 104
        },
        "id": "7H6OP-4ZLD0J",
        "outputId": "c1508ee6-fa6c-4b28-ae76-b1f968034216"
      },
      "execution_count": 83,
      "outputs": [
        {
          "output_type": "execute_result",
          "data": {
            "text/plain": [
              "<function __main__.returnName(id: str) -> str>"
            ],
            "text/html": [
              "<div style=\"max-width:800px; border: 1px solid var(--colab-border-color);\"><style>\n",
              "      pre.function-repr-contents {\n",
              "        overflow-x: auto;\n",
              "        padding: 8px 12px;\n",
              "        max-height: 500px;\n",
              "      }\n",
              "\n",
              "      pre.function-repr-contents.function-repr-contents-collapsed {\n",
              "        cursor: pointer;\n",
              "        max-height: 100px;\n",
              "      }\n",
              "    </style>\n",
              "    <pre style=\"white-space: initial; background:\n",
              "         var(--colab-secondary-surface-color); padding: 8px 12px;\n",
              "         border-bottom: 1px solid var(--colab-border-color);\"><b>returnName</b><br/>def returnName(id: str) -&gt; str</pre><pre class=\"function-repr-contents function-repr-contents-collapsed\" style=\"\"><a class=\"filepath\" style=\"display:none\" href=\"#\">/content/&lt;ipython-input-77-581fb9ff8330&gt;</a>&lt;no docstring&gt;</pre></div>"
            ]
          },
          "metadata": {},
          "execution_count": 83
        }
      ]
    },
    {
      "cell_type": "code",
      "source": [
        "id_connections.withColumn(\"name\", f.expr(\"returnName(id)\")).show()"
      ],
      "metadata": {
        "colab": {
          "base_uri": "https://localhost:8080/"
        },
        "id": "OqoYrDEMLLkW",
        "outputId": "0d37ed63-b25f-46bc-ca07-1253e134ade7"
      },
      "execution_count": 84,
      "outputs": [
        {
          "output_type": "stream",
          "name": "stdout",
          "text": [
            "+--------------------+----+-----------+--------------------+\n",
            "|               value|  id|connections|                name|\n",
            "+--------------------+----+-----------+--------------------+\n",
            "|5988 748 1722 375...|5988|         48|VALKYRIE II | MUTANT|\n",
            "|5989 4080 4264 44...|5989|         40|         VALKYRIE IV|\n",
            "|5982 217 595 1194...|5982|         42|VAGABOND/PRISCILLA L|\n",
            "|5983 1165 3836 43...|5983|         14|              VAGUE/|\n",
            "|5980 2731 3712 15...|5980|         24|         UTGARD-LOKI|\n",
            "|5981 3569 5353 40...|5981|         17|              VACUUM|\n",
            "|5986 2658 3712 26...|5986|        142|             VALINOR|\n",
            "|5987 2614 5716 17...|5987|         81|              VALKIN|\n",
            "|5984 590 4898 745...|5984|         41|              VAKUME|\n",
            "|5985 3233 2254 21...|5985|         19|             VALERIA|\n",
            "|6294 4898 1127 32...|6294|         13|WOLF SPIRIT/OWAYODAT|\n",
            "|270 2658 3003 380...| 270|         42|AUGUST PERSONAGE IN |\n",
            "|271 4935 5716 430...| 271|          9|      AUNTIE FREEZE/|\n",
            "|272 2717 4363 408...| 272|         45|       AURA/ANN HERD|\n",
            "|273 1165 5013 511...| 273|         58|              AURIC/|\n",
            "|274 3920 5310 402...| 274|        410|AURORA/JEANNE-MARIE |\n",
            "|275 4366 3373 158...| 275|         47| AURORA DOPPELGANGER|\n",
            "|276 2277 5251 480...| 276|         15|AURORA | MUTANT X-VE|\n",
            "|277 1068 3495 619...| 277|         16|        AUSTIN, GEN.|\n",
            "|278 1145 667 2650...| 278|        123|       AUSTIN, SUSAN|\n",
            "+--------------------+----+-----------+--------------------+\n",
            "only showing top 20 rows\n",
            "\n"
          ]
        }
      ]
    }
  ]
}