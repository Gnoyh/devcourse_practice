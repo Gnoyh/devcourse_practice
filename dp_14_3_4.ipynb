{
  "cells": [
    {
      "cell_type": "code",
      "execution_count": 1,
      "metadata": {
        "colab": {
          "base_uri": "https://localhost:8080/"
        },
        "id": "NbT0rpGfVdiq",
        "outputId": "301179f5-4e01-4b4d-9904-3a4afc598169"
      },
      "outputs": [
        {
          "name": "stdout",
          "output_type": "stream",
          "text": [
            "Collecting pyspark==3.3.1\n",
            "  Downloading pyspark-3.3.1.tar.gz (281.4 MB)\n",
            "\u001b[2K     \u001b[90m━━━━━━━━━━━━━━━━━━━━━━━━━━━━━━━━━━━━━━━━\u001b[0m \u001b[32m281.4/281.4 MB\u001b[0m \u001b[31m4.4 MB/s\u001b[0m eta \u001b[36m0:00:00\u001b[0m\n",
            "\u001b[?25h  Preparing metadata (setup.py) ... \u001b[?25l\u001b[?25hdone\n",
            "Collecting py4j==0.10.9.5\n",
            "  Downloading py4j-0.10.9.5-py2.py3-none-any.whl (199 kB)\n",
            "\u001b[2K     \u001b[90m━━━━━━━━━━━━━━━━━━━━━━━━━━━━━━━━━━━━━━━━\u001b[0m \u001b[32m199.7/199.7 kB\u001b[0m \u001b[31m6.7 MB/s\u001b[0m eta \u001b[36m0:00:00\u001b[0m\n",
            "\u001b[?25hBuilding wheels for collected packages: pyspark\n",
            "  Building wheel for pyspark (setup.py) ... \u001b[?25l\u001b[?25hdone\n",
            "  Created wheel for pyspark: filename=pyspark-3.3.1-py2.py3-none-any.whl size=281845493 sha256=92cef71ec3e204efca3efd90a0bd826fd61a759624a907c3b8adc0de36e02e0f\n",
            "  Stored in directory: /root/.cache/pip/wheels/0f/f0/3d/517368b8ce80486e84f89f214e0a022554e4ee64969f46279b\n",
            "Successfully built pyspark\n",
            "Installing collected packages: py4j, pyspark\n",
            "  Attempting uninstall: py4j\n",
            "    Found existing installation: py4j 0.10.9.7\n",
            "    Uninstalling py4j-0.10.9.7:\n",
            "      Successfully uninstalled py4j-0.10.9.7\n",
            "Successfully installed py4j-0.10.9.5 pyspark-3.3.1\n"
          ]
        }
      ],
      "source": [
        "!pip install pyspark==3.3.1 py4j==0.10.9.5"
      ]
    },
    {
      "cell_type": "code",
      "execution_count": 2,
      "metadata": {
        "colab": {
          "base_uri": "https://localhost:8080/"
        },
        "id": "OdTTZZqVA0Xa",
        "outputId": "e3027942-42c0-403a-98df-2d305ccc0db9"
      },
      "outputs": [
        {
          "name": "stdout",
          "output_type": "stream",
          "text": [
            "--2024-06-19 05:47:23--  https://s3.amazonaws.com/redshift-downloads/drivers/jdbc/2.1.0.28/redshift-jdbc42-2.1.0.28.jar\n",
            "Resolving s3.amazonaws.com (s3.amazonaws.com)... 52.217.137.216, 52.216.179.93, 52.216.138.221, ...\n",
            "Connecting to s3.amazonaws.com (s3.amazonaws.com)|52.217.137.216|:443... connected.\n",
            "HTTP request sent, awaiting response... 200 OK\n",
            "Length: 1077030 (1.0M) [application/java-archive]\n",
            "Saving to: ‘redshift-jdbc42-2.1.0.28.jar’\n",
            "\n",
            "redshift-jdbc42-2.1 100%[===================>]   1.03M  4.16MB/s    in 0.2s    \n",
            "\n",
            "2024-06-19 05:47:24 (4.16 MB/s) - ‘redshift-jdbc42-2.1.0.28.jar’ saved [1077030/1077030]\n",
            "\n"
          ]
        }
      ],
      "source": [
        "!cd /usr/local/lib/python3.10/dist-packages/pyspark/jars && wget https://s3.amazonaws.com/redshift-downloads/drivers/jdbc/2.1.0.28/redshift-jdbc42-2.1.0.28.jar"
      ]
    },
    {
      "cell_type": "code",
      "execution_count": 3,
      "metadata": {
        "id": "3vm6tgcPXdnR"
      },
      "outputs": [],
      "source": [
        "from pyspark.sql import SparkSession\n",
        "\n",
        "spark = SparkSession \\\n",
        "    .builder \\\n",
        "    .appName(\"Python Spark SQL #1\") \\\n",
        "    .getOrCreate()"
      ]
    },
    {
      "cell_type": "code",
      "execution_count": 4,
      "metadata": {
        "id": "BX91cDdZj3AK"
      },
      "outputs": [],
      "source": [
        "rows_test = [\n",
        "    { 'value': 1, 'name': 'Luka' },\n",
        "    { 'value': 2, 'name': 'Luka'},\n",
        "    { 'value': 3, 'name': 'Dirk' },\n",
        "    { 'value': 4, 'name': 'Dirk' },\n",
        "    { 'value': 5, 'name': 'Luka' },\n",
        "]\n",
        "\n",
        "df = spark.createDataFrame(rows_test)"
      ]
    },
    {
      "cell_type": "code",
      "execution_count": 5,
      "metadata": {
        "colab": {
          "base_uri": "https://localhost:8080/"
        },
        "id": "_XRkbATLkfkt",
        "outputId": "2d186b18-df21-445d-eb66-5798fe134dd0"
      },
      "outputs": [
        {
          "name": "stdout",
          "output_type": "stream",
          "text": [
            "root\n",
            " |-- name: string (nullable = true)\n",
            " |-- value: long (nullable = true)\n",
            "\n"
          ]
        }
      ],
      "source": [
        "df.printSchema()"
      ]
    },
    {
      "cell_type": "code",
      "execution_count": 6,
      "metadata": {
        "colab": {
          "base_uri": "https://localhost:8080/"
        },
        "id": "XMvZ11_71j9F",
        "outputId": "db482e8a-a4ab-4ba0-9817-562275dc545d"
      },
      "outputs": [
        {
          "name": "stdout",
          "output_type": "stream",
          "text": [
            "+----+-----+\n",
            "|name|value|\n",
            "+----+-----+\n",
            "|Luka|    1|\n",
            "|Luka|    2|\n",
            "|Dirk|    3|\n",
            "|Dirk|    4|\n",
            "|Luka|    5|\n",
            "+----+-----+\n",
            "\n"
          ]
        }
      ],
      "source": [
        "df.show()"
      ]
    },
    {
      "cell_type": "code",
      "execution_count": 7,
      "metadata": {
        "id": "S0ZGpnfhk1kP"
      },
      "outputs": [],
      "source": [
        "df.createOrReplaceTempView(\"rows_test\")"
      ]
    },
    {
      "cell_type": "code",
      "execution_count": 8,
      "metadata": {
        "colab": {
          "base_uri": "https://localhost:8080/"
        },
        "id": "6OGdFV7MlCZf",
        "outputId": "74403a56-d40d-4e62-e222-57122c74b34a"
      },
      "outputs": [
        {
          "name": "stdout",
          "output_type": "stream",
          "text": [
            "+-----+-----------+\n",
            "|value|rolling_sum|\n",
            "+-----+-----------+\n",
            "|    1|          6|\n",
            "|    2|         10|\n",
            "|    3|         15|\n",
            "|    4|         14|\n",
            "|    5|         12|\n",
            "+-----+-----------+\n",
            "\n"
          ]
        }
      ],
      "source": [
        "spark.sql(\"\"\"\n",
        "  SELECT\n",
        "    value,\n",
        "    SUM(value) OVER (\n",
        "        order by value\n",
        "        rows between 2 preceding and 2 following\n",
        "    ) AS rolling_sum\n",
        "  FROM rows_test\"\"\").show()"
      ]
    },
    {
      "cell_type": "code",
      "execution_count": 9,
      "metadata": {
        "colab": {
          "base_uri": "https://localhost:8080/"
        },
        "id": "4Ffkge4xmrMr",
        "outputId": "f7402d0c-711e-4df8-b86c-5e05c774e75b"
      },
      "outputs": [
        {
          "name": "stdout",
          "output_type": "stream",
          "text": [
            "+-----+-----------+\n",
            "|value|rolling_sum|\n",
            "+-----+-----------+\n",
            "|    1|          6|\n",
            "|    2|         10|\n",
            "|    3|         15|\n",
            "|    4|         15|\n",
            "|    5|         15|\n",
            "+-----+-----------+\n",
            "\n"
          ]
        }
      ],
      "source": [
        "spark.sql(\"\"\"\n",
        "  SELECT\n",
        "    value,\n",
        "    SUM(value) OVER (\n",
        "        order by value\n",
        "        rows between unbounded preceding and 2 following\n",
        "    ) AS rolling_sum\n",
        "  FROM rows_test\"\"\").show()"
      ]
    },
    {
      "cell_type": "code",
      "execution_count": 10,
      "metadata": {
        "colab": {
          "base_uri": "https://localhost:8080/"
        },
        "id": "NpmrVV4T107A",
        "outputId": "2d91afbf-a57e-43cd-f738-fed5b974562f"
      },
      "outputs": [
        {
          "name": "stdout",
          "output_type": "stream",
          "text": [
            "+----+-----+---------+---------+\n",
            "|name|value|min_value|max_value|\n",
            "+----+-----+---------+---------+\n",
            "|Dirk|    3|        3|        4|\n",
            "|Dirk|    4|        3|        4|\n",
            "|Luka|    1|        1|        5|\n",
            "|Luka|    2|        1|        5|\n",
            "|Luka|    5|        1|        5|\n",
            "+----+-----+---------+---------+\n",
            "\n"
          ]
        }
      ],
      "source": [
        "spark.sql(\"\"\"\n",
        "  SELECT\n",
        "    *,\n",
        "    FIRST_VALUE(value) OVER (\n",
        "        partition by name\n",
        "        order by value\n",
        "        rows between unbounded preceding and unbounded following\n",
        "    ) AS min_value,\n",
        "    LAST_VALUE(value) OVER (\n",
        "        partition by name\n",
        "        order by value\n",
        "        rows between unbounded preceding and unbounded following\n",
        "    ) AS max_value\n",
        "  FROM rows_test\"\"\").show()"
      ]
    },
    {
      "cell_type": "markdown",
      "metadata": {
        "id": "ElawwmWzcylW"
      },
      "source": [
        "## Redshift 상의 다음 테이블을 데이터프레임으로 로딩하기\n",
        "user_session_channel, session_timestamp, session_transaction"
      ]
    },
    {
      "cell_type": "code",
      "execution_count": 11,
      "metadata": {
        "id": "EEaNuN3xKNXm"
      },
      "outputs": [],
      "source": [
        "# Redshift와 연결해서 DataFrame으로 로딩하기\n",
        "url = \"jdbc:redshift://learnde.cduaw970ssvt.ap-northeast-2.redshift.amazonaws.com:5439/dev?user=guest&password=****\"\n",
        "\n",
        "df_user_session_channel = spark.read \\\n",
        "    .format(\"jdbc\") \\\n",
        "    .option(\"driver\", \"com.amazon.redshift.jdbc42.Driver\") \\\n",
        "    .option(\"url\", url) \\\n",
        "    .option(\"dbtable\", \"raw_data.user_session_channel\") \\\n",
        "    .load()\n",
        "\n",
        "df_session_timestamp = spark.read \\\n",
        "    .format(\"jdbc\") \\\n",
        "    .option(\"driver\", \"com.amazon.redshift.jdbc42.Driver\") \\\n",
        "    .option(\"url\", url) \\\n",
        "    .option(\"dbtable\", \"raw_data.session_timestamp\") \\\n",
        "    .load()\n",
        "\n",
        "df_session_transaction = spark.read \\\n",
        "    .format(\"jdbc\") \\\n",
        "    .option(\"driver\", \"com.amazon.redshift.jdbc42.Driver\") \\\n",
        "    .option(\"url\", url) \\\n",
        "    .option(\"dbtable\", \"raw_data.session_transaction\") \\\n",
        "    .load()"
      ]
    },
    {
      "cell_type": "code",
      "execution_count": 12,
      "metadata": {
        "id": "AjcT5LWi7_B5"
      },
      "outputs": [],
      "source": [
        "df_user_session_channel.createOrReplaceTempView(\"user_session_channel\")\n",
        "df_session_timestamp.createOrReplaceTempView(\"session_timestamp\")\n",
        "df_session_transaction.createOrReplaceTempView(\"session_transaction\")"
      ]
    },
    {
      "cell_type": "code",
      "execution_count": 13,
      "metadata": {
        "colab": {
          "base_uri": "https://localhost:8080/"
        },
        "id": "f3UxHdoLC5Bt",
        "outputId": "b679279e-3b9d-4ab6-9a1c-d082b1dbbfa0"
      },
      "outputs": [
        {
          "name": "stdout",
          "output_type": "stream",
          "text": [
            "+------+--------------------+-------+\n",
            "|userid|           sessionid|channel|\n",
            "+------+--------------------+-------+\n",
            "|  1491|00029153d12ae1c9a...|Organic|\n",
            "|    59|0002ac0d783338cfe...|  Naver|\n",
            "|   117|0006246bee639c7a7...|Youtube|\n",
            "|   572|0006dd05ea1e999dd...|Organic|\n",
            "|   935|0007cda84fafdcf42...| Google|\n",
            "+------+--------------------+-------+\n",
            "only showing top 5 rows\n",
            "\n"
          ]
        }
      ],
      "source": [
        "df_user_session_channel.show(5)"
      ]
    },
    {
      "cell_type": "code",
      "execution_count": 14,
      "metadata": {
        "colab": {
          "base_uri": "https://localhost:8080/"
        },
        "id": "T9lIcukADIgk",
        "outputId": "23bf7d53-90be-423f-d76c-69f875de2836"
      },
      "outputs": [
        {
          "name": "stdout",
          "output_type": "stream",
          "text": [
            "+--------------------+--------------------+\n",
            "|           sessionid|                  ts|\n",
            "+--------------------+--------------------+\n",
            "|0002ac0d783338cfe...|2019-07-29 12:39:...|\n",
            "|00053f5e11d1fe4e4...|2019-06-24 13:04:...|\n",
            "|00056c20eb5a02958...| 2019-09-26 14:50:17|\n",
            "|00063cb5da1826feb...|2019-10-16 14:04:...|\n",
            "|0007cda84fafdcf42...|2019-05-22 08:02:...|\n",
            "+--------------------+--------------------+\n",
            "only showing top 5 rows\n",
            "\n"
          ]
        }
      ],
      "source": [
        "df_session_timestamp.show(5)"
      ]
    },
    {
      "cell_type": "code",
      "execution_count": 15,
      "metadata": {
        "colab": {
          "base_uri": "https://localhost:8080/"
        },
        "id": "vwiwGeXRDNk2",
        "outputId": "9aaa5c6f-91d7-4855-81d1-aa0ddcdcc3f4"
      },
      "outputs": [
        {
          "name": "stdout",
          "output_type": "stream",
          "text": [
            "+--------------------+--------+------+\n",
            "|           sessionid|refunded|amount|\n",
            "+--------------------+--------+------+\n",
            "|00029153d12ae1c9a...|   false|    85|\n",
            "|008909bd27b680698...|   false|    13|\n",
            "|0107acb41ef20db22...|   false|    16|\n",
            "|018544a2c48077d2c...|   false|    39|\n",
            "|020c38173caff0203...|   false|    61|\n",
            "+--------------------+--------+------+\n",
            "only showing top 5 rows\n",
            "\n"
          ]
        }
      ],
      "source": [
        "df_session_transaction.show(5)"
      ]
    },
    {
      "cell_type": "markdown",
      "metadata": {
        "id": "mpjU9yXVJAph"
      },
      "source": [
        "## 위의 테이블들을 이용해서 사용자별로 처음 채널과 마지막 채널 알아내기"
      ]
    },
    {
      "cell_type": "code",
      "execution_count": 16,
      "metadata": {
        "id": "F8DVGlKRQkrD"
      },
      "outputs": [],
      "source": [
        "first_last_channel_df = spark.sql(\"\"\"\n",
        "WITH RECORD AS (\n",
        "  SELECT /*사용자의 유입에 따른, 채널 순서 매기는 쿼리*/\n",
        "      userid,\n",
        "      channel,\n",
        "      ROW_NUMBER() OVER (PARTITION BY userid ORDER BY ts ASC) AS seq_first,\n",
        "      ROW_NUMBER() OVER (PARTITION BY userid ORDER BY ts DESC) AS seq_last\n",
        "  FROM user_session_channel u\n",
        "  LEFT JOIN session_timestamp t\n",
        "    ON u.sessionid = t.sessionid\n",
        ")\n",
        "SELECT /*유저의 첫번째 유입채널, 마지막 유입 채널 구하기*/\n",
        "      f.userid,\n",
        "      f.channel first_channel,\n",
        "      l.channel last_channel\n",
        "FROM RECORD f\n",
        "INNER JOIN RECORD l ON f.userid = l.userid\n",
        "WHERE f.seq_first = 1 and l.seq_last = 1\n",
        "ORDER BY userid\n",
        "\"\"\")"
      ]
    },
    {
      "cell_type": "code",
      "execution_count": 17,
      "metadata": {
        "colab": {
          "base_uri": "https://localhost:8080/"
        },
        "id": "X4qr9Qw4RaJ8",
        "outputId": "c16bd6ad-a53d-4e9a-a366-f994025c5ad2"
      },
      "outputs": [
        {
          "name": "stdout",
          "output_type": "stream",
          "text": [
            "+------+-------------+------------+\n",
            "|userid|first_channel|last_channel|\n",
            "+------+-------------+------------+\n",
            "|    27|      Youtube|   Instagram|\n",
            "|    29|        Naver|       Naver|\n",
            "|    33|       Google|     Youtube|\n",
            "|    34|      Youtube|       Naver|\n",
            "|    36|        Naver|     Youtube|\n",
            "|    40|      Youtube|      Google|\n",
            "|    41|     Facebook|     Youtube|\n",
            "|    44|        Naver|   Instagram|\n",
            "|    45|      Youtube|   Instagram|\n",
            "|    59|    Instagram|   Instagram|\n",
            "+------+-------------+------------+\n",
            "only showing top 10 rows\n",
            "\n"
          ]
        }
      ],
      "source": [
        "first_last_channel_df.show(10)"
      ]
    },
    {
      "cell_type": "code",
      "execution_count": 18,
      "metadata": {
        "id": "rvBR0KhAc5J1"
      },
      "outputs": [],
      "source": [
        "first_last_channel_df2 = spark.sql(\"\"\"\n",
        "SELECT DISTINCT A.userid,\n",
        "    FIRST_VALUE(A.channel) over(partition by A.userid order by B.ts\n",
        "rows between unbounded preceding and unbounded following) AS First_Channel,\n",
        "    LAST_VALUE(A.channel) over(partition by A.userid order by B.ts\n",
        "rows between unbounded preceding and unbounded following) AS Last_Channel\n",
        "FROM user_session_channel A\n",
        "LEFT JOIN session_timestamp B\n",
        "ON A.sessionid = B.sessionid\"\"\")"
      ]
    },
    {
      "cell_type": "code",
      "execution_count": 19,
      "metadata": {
        "colab": {
          "base_uri": "https://localhost:8080/"
        },
        "id": "bWvT_Sbp2dNY",
        "outputId": "674cba49-aabd-43c9-a13e-5f8e1e44b2d7"
      },
      "outputs": [
        {
          "name": "stdout",
          "output_type": "stream",
          "text": [
            "+------+-------------+------------+\n",
            "|userid|First_Channel|Last_Channel|\n",
            "+------+-------------+------------+\n",
            "|    27|      Youtube|   Instagram|\n",
            "|    29|        Naver|       Naver|\n",
            "|    33|       Google|     Youtube|\n",
            "|    34|      Youtube|       Naver|\n",
            "|    36|        Naver|     Youtube|\n",
            "|    40|      Youtube|      Google|\n",
            "|    41|     Facebook|     Youtube|\n",
            "|    44|        Naver|   Instagram|\n",
            "|    45|      Youtube|   Instagram|\n",
            "|    59|    Instagram|   Instagram|\n",
            "+------+-------------+------------+\n",
            "only showing top 10 rows\n",
            "\n"
          ]
        }
      ],
      "source": [
        "first_last_channel_df2.show(10)"
      ]
    }
  ],
  "metadata": {
    "colab": {
      "provenance": []
    },
    "kernelspec": {
      "display_name": "Python 3",
      "name": "python3"
    }
  },
  "nbformat": 4,
  "nbformat_minor": 0
}
