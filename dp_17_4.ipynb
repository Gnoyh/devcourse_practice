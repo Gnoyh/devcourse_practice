{
  "nbformat": 4,
  "nbformat_minor": 0,
  "metadata": {
    "colab": {
      "provenance": []
    },
    "kernelspec": {
      "name": "python3",
      "display_name": "Python 3"
    }
  },
  "cells": [
    {
      "cell_type": "markdown",
      "metadata": {
        "id": "xAqhTDfuWrcM"
      },
      "source": [
        "PySpark을 로컬머신에 설치하고 노트북을 사용하기 보다는 머신러닝 관련 다양한 라이브러리가 이미 설치되었고 좋은 하드웨어를 제공해주는 Google Colab을 통해 실습을 진행한다."
      ]
    },
    {
      "cell_type": "markdown",
      "metadata": {
        "id": "XIA23YgbXKJd"
      },
      "source": [
        "이를 위해 pyspark과 Py4J 패키지를 설치한다. Py4J 패키지는 파이썬 프로그램이 자바가상머신상의 오브젝트들을 접근할 수 있게 해준다. Local Standalone Spark을 사용한다."
      ]
    },
    {
      "cell_type": "code",
      "metadata": {
        "id": "NbT0rpGfVdiq",
        "outputId": "14cd5075-ccda-493e-8104-678bd579933d",
        "colab": {
          "base_uri": "https://localhost:8080/"
        }
      },
      "source": [
        "!pip install pyspark==3.3.1 py4j==0.10.9.5"
      ],
      "execution_count": 1,
      "outputs": [
        {
          "output_type": "stream",
          "name": "stdout",
          "text": [
            "Collecting pyspark==3.3.1\n",
            "  Downloading pyspark-3.3.1.tar.gz (281.4 MB)\n",
            "\u001b[2K     \u001b[90m━━━━━━━━━━━━━━━━━━━━━━━━━━━━━━━━━━━━━━━━\u001b[0m \u001b[32m281.4/281.4 MB\u001b[0m \u001b[31m4.3 MB/s\u001b[0m eta \u001b[36m0:00:00\u001b[0m\n",
            "\u001b[?25h  Preparing metadata (setup.py) ... \u001b[?25l\u001b[?25hdone\n",
            "Collecting py4j==0.10.9.5\n",
            "  Downloading py4j-0.10.9.5-py2.py3-none-any.whl (199 kB)\n",
            "\u001b[2K     \u001b[90m━━━━━━━━━━━━━━━━━━━━━━━━━━━━━━━━━━━━━━━━\u001b[0m \u001b[32m199.7/199.7 kB\u001b[0m \u001b[31m18.4 MB/s\u001b[0m eta \u001b[36m0:00:00\u001b[0m\n",
            "\u001b[?25hBuilding wheels for collected packages: pyspark\n",
            "  Building wheel for pyspark (setup.py) ... \u001b[?25l\u001b[?25hdone\n",
            "  Created wheel for pyspark: filename=pyspark-3.3.1-py2.py3-none-any.whl size=281845493 sha256=7d9eda56540650a1a719a8b91ad49348ff9eeefa26ab473b2665acec5187b917\n",
            "  Stored in directory: /root/.cache/pip/wheels/0f/f0/3d/517368b8ce80486e84f89f214e0a022554e4ee64969f46279b\n",
            "Successfully built pyspark\n",
            "Installing collected packages: py4j, pyspark\n",
            "  Attempting uninstall: py4j\n",
            "    Found existing installation: py4j 0.10.9.7\n",
            "    Uninstalling py4j-0.10.9.7:\n",
            "      Successfully uninstalled py4j-0.10.9.7\n",
            "Successfully installed py4j-0.10.9.5 pyspark-3.3.1\n"
          ]
        }
      ]
    },
    {
      "cell_type": "code",
      "metadata": {
        "id": "3vm6tgcPXdnR"
      },
      "source": [
        "from pyspark.sql import SparkSession\n",
        "\n",
        "spark = SparkSession \\\n",
        "    .builder \\\n",
        "    .appName(\"Taipei Housing Price Prediction\") \\\n",
        "    .getOrCreate()"
      ],
      "execution_count": 2,
      "outputs": []
    },
    {
      "cell_type": "markdown",
      "metadata": {
        "id": "pyl0gES0KhkF"
      },
      "source": [
        "# 타이베이 주택 가격 예측 모델 만들기\n",
        "\n",
        "\n"
      ]
    },
    {
      "cell_type": "markdown",
      "metadata": {
        "id": "BSkgIWglmw3-"
      },
      "source": [
        "데이터셋 설명\n",
        "\n",
        "이번 문제는 대만 타이베이 시의 신단 지역에서 수집된 주택 거래 관련 정보를 바탕으로 주택 가격(정확히는 주택의 평당 가격)을 예측하는 Regression 모델을 만들어보는 것이다. 총 6개의 피쳐와 주택의 평당 가격에 해당하는 레이블 정보가 훈련 데이터로 제공된다. 레이블의 경우에는 주택의 최종 가격이 아니라 평당 가격이란 점을 다시 한번 강조한다.\n",
        "\n",
        "각 컬럼에 대한 설명은 아래와 같으며 모든 필드는 X4를 제외하고는 실수 타입이다.\n",
        "\n",
        "* X1: 주택 거래 날짜를 실수로 제공한다. 소수점 부분은 달을 나타낸다. 예를 들어 2013.250이라면 2013년 3월임을 나타낸다 (0.250 = 3/12)\n",
        "* X2: 주택 나이 (년수)\n",
        "* X3: 가장 가까운 지하철역까지의 거리 (미터)\n",
        "* X4: 주택 근방 걸어갈 수 있는 거리내 편의점 수\n",
        "* X5: 주택 위치의 위도 (latitude)\n",
        "* X6: 주택 위치의 경도 (longitude)\n",
        "* Y: 주택 평당 가격\n",
        "\n"
      ]
    },
    {
      "cell_type": "code",
      "metadata": {
        "id": "vE8iL4vy6705",
        "colab": {
          "base_uri": "https://localhost:8080/"
        },
        "outputId": "05eedc5d-f238-4e5f-f992-33297e441f21"
      },
      "source": [
        "!wget https://grepp-reco-test.s3.ap-northeast-2.amazonaws.com/Taipei_sindan_housing.csv"
      ],
      "execution_count": 4,
      "outputs": [
        {
          "output_type": "stream",
          "name": "stdout",
          "text": [
            "--2024-07-11 11:00:48--  https://grepp-reco-test.s3.ap-northeast-2.amazonaws.com/Taipei_sindan_housing.csv\n",
            "Resolving grepp-reco-test.s3.ap-northeast-2.amazonaws.com (grepp-reco-test.s3.ap-northeast-2.amazonaws.com)... 3.5.141.22, 52.219.148.90, 3.5.145.122, ...\n",
            "Connecting to grepp-reco-test.s3.ap-northeast-2.amazonaws.com (grepp-reco-test.s3.ap-northeast-2.amazonaws.com)|3.5.141.22|:443... connected.\n",
            "HTTP request sent, awaiting response... 200 OK\n",
            "Length: 20014 (20K) [text/csv]\n",
            "Saving to: ‘Taipei_sindan_housing.csv’\n",
            "\n",
            "Taipei_sindan_housi 100%[===================>]  19.54K  --.-KB/s    in 0s      \n",
            "\n",
            "2024-07-11 11:00:48 (49.2 MB/s) - ‘Taipei_sindan_housing.csv’ saved [20014/20014]\n",
            "\n"
          ]
        }
      ]
    },
    {
      "cell_type": "code",
      "metadata": {
        "id": "GfSzc03fOC6e",
        "outputId": "a5fcb01f-db3e-44d4-a68d-0ae4b7eda58e",
        "colab": {
          "base_uri": "https://localhost:8080/"
        }
      },
      "source": [
        "!ls -tl"
      ],
      "execution_count": 5,
      "outputs": [
        {
          "output_type": "stream",
          "name": "stdout",
          "text": [
            "total 24\n",
            "drwxr-xr-x 1 root root  4096 Jul  9 13:21 sample_data\n",
            "-rw-r--r-- 1 root root 20014 Jul 17  2021 Taipei_sindan_housing.csv\n"
          ]
        }
      ]
    },
    {
      "cell_type": "code",
      "metadata": {
        "id": "-mH3roiKIOix"
      },
      "source": [
        "data = spark.read.csv('./Taipei_sindan_housing.csv', header=True, inferSchema=True)"
      ],
      "execution_count": 6,
      "outputs": []
    },
    {
      "cell_type": "code",
      "metadata": {
        "id": "SCty0kw6ITVi",
        "outputId": "89e9e570-47bf-4117-c361-01d6117f892b",
        "colab": {
          "base_uri": "https://localhost:8080/"
        }
      },
      "source": [
        "data.printSchema()"
      ],
      "execution_count": 7,
      "outputs": [
        {
          "output_type": "stream",
          "name": "stdout",
          "text": [
            "root\n",
            " |-- X1: double (nullable = true)\n",
            " |-- X2: double (nullable = true)\n",
            " |-- X3: double (nullable = true)\n",
            " |-- X4: integer (nullable = true)\n",
            " |-- X5: double (nullable = true)\n",
            " |-- X6: double (nullable = true)\n",
            " |-- Y: double (nullable = true)\n",
            "\n"
          ]
        }
      ]
    },
    {
      "cell_type": "code",
      "metadata": {
        "id": "nrlYYyVfIV1e",
        "outputId": "438935d6-ba0b-423a-d9ba-9258703473a1",
        "colab": {
          "base_uri": "https://localhost:8080/"
        }
      },
      "source": [
        "data.show()"
      ],
      "execution_count": 8,
      "outputs": [
        {
          "output_type": "stream",
          "name": "stdout",
          "text": [
            "+--------+----+--------+---+--------+---------+----+\n",
            "|      X1|  X2|      X3| X4|      X5|       X6|   Y|\n",
            "+--------+----+--------+---+--------+---------+----+\n",
            "|2012.917|32.0|84.87882| 10|24.98298|121.54024|37.9|\n",
            "|2012.917|19.5|306.5947|  9|24.98034|121.53951|42.2|\n",
            "|2013.583|13.3|561.9845|  5|24.98746|121.54391|47.3|\n",
            "|  2013.5|13.3|561.9845|  5|24.98746|121.54391|54.8|\n",
            "|2012.833| 5.0|390.5684|  5|24.97937|121.54245|43.1|\n",
            "|2012.667| 7.1| 2175.03|  3|24.96305|121.51254|32.1|\n",
            "|2012.667|34.5|623.4731|  7|24.97933|121.53642|40.3|\n",
            "|2013.417|20.3|287.6025|  6|24.98042|121.54228|46.7|\n",
            "|  2013.5|31.7|5512.038|  1|24.95095|121.48458|18.8|\n",
            "|2013.417|17.9| 1783.18|  3|24.96731|121.51486|22.1|\n",
            "|2013.083|34.8|405.2134|  1|24.97349|121.53372|41.4|\n",
            "|2013.333| 6.3|90.45606|  9|24.97433| 121.5431|58.1|\n",
            "|2012.917|13.0|492.2313|  5|24.96515|121.53737|39.3|\n",
            "|2012.667|20.4|2469.645|  4|24.96108|121.51046|23.8|\n",
            "|  2013.5|13.2|1164.838|  4|24.99156|121.53406|34.3|\n",
            "|2013.583|35.7|579.2083|  2| 24.9824|121.54619|50.5|\n",
            "| 2013.25| 0.0|292.9978|  6|24.97744|121.54458|70.1|\n",
            "| 2012.75|17.7|350.8515|  1|24.97544|121.53119|37.4|\n",
            "|2013.417|16.9|368.1363|  8| 24.9675|121.54451|42.3|\n",
            "|2012.667| 1.5|23.38284|  7|24.96772|121.54102|47.7|\n",
            "+--------+----+--------+---+--------+---------+----+\n",
            "only showing top 20 rows\n",
            "\n"
          ]
        }
      ]
    },
    {
      "cell_type": "code",
      "source": [
        "from pyspark.ml.feature import VectorAssembler\n",
        "\n",
        "feature_columns = data.columns[: -1]\n",
        "assembler = VectorAssembler(inputCols=feature_columns, outputCol=\"features\")"
      ],
      "metadata": {
        "id": "vCyZOmqDd69T"
      },
      "execution_count": 11,
      "outputs": []
    },
    {
      "cell_type": "code",
      "source": [
        "feature_columns"
      ],
      "metadata": {
        "id": "cT5zCq1AeaxL",
        "outputId": "17946920-5b5b-4bcb-d2f5-3460e80faf83",
        "colab": {
          "base_uri": "https://localhost:8080/"
        }
      },
      "execution_count": 12,
      "outputs": [
        {
          "output_type": "execute_result",
          "data": {
            "text/plain": [
              "['X1', 'X2', 'X3', 'X4', 'X5', 'X6']"
            ]
          },
          "metadata": {},
          "execution_count": 12
        }
      ]
    },
    {
      "cell_type": "code",
      "source": [
        "data_2 = assembler.transform(data)"
      ],
      "metadata": {
        "id": "zba2CPBqedfZ"
      },
      "execution_count": 13,
      "outputs": []
    },
    {
      "cell_type": "code",
      "source": [
        "data_2.show()"
      ],
      "metadata": {
        "id": "vEvsUQAGelPM",
        "outputId": "6c78c628-9b5a-4e47-e913-9855002e679a",
        "colab": {
          "base_uri": "https://localhost:8080/"
        }
      },
      "execution_count": 14,
      "outputs": [
        {
          "output_type": "stream",
          "name": "stdout",
          "text": [
            "+--------+----+--------+---+--------+---------+----+--------------------+\n",
            "|      X1|  X2|      X3| X4|      X5|       X6|   Y|            features|\n",
            "+--------+----+--------+---+--------+---------+----+--------------------+\n",
            "|2012.917|32.0|84.87882| 10|24.98298|121.54024|37.9|[2012.917,32.0,84...|\n",
            "|2012.917|19.5|306.5947|  9|24.98034|121.53951|42.2|[2012.917,19.5,30...|\n",
            "|2013.583|13.3|561.9845|  5|24.98746|121.54391|47.3|[2013.583,13.3,56...|\n",
            "|  2013.5|13.3|561.9845|  5|24.98746|121.54391|54.8|[2013.5,13.3,561....|\n",
            "|2012.833| 5.0|390.5684|  5|24.97937|121.54245|43.1|[2012.833,5.0,390...|\n",
            "|2012.667| 7.1| 2175.03|  3|24.96305|121.51254|32.1|[2012.667,7.1,217...|\n",
            "|2012.667|34.5|623.4731|  7|24.97933|121.53642|40.3|[2012.667,34.5,62...|\n",
            "|2013.417|20.3|287.6025|  6|24.98042|121.54228|46.7|[2013.417,20.3,28...|\n",
            "|  2013.5|31.7|5512.038|  1|24.95095|121.48458|18.8|[2013.5,31.7,5512...|\n",
            "|2013.417|17.9| 1783.18|  3|24.96731|121.51486|22.1|[2013.417,17.9,17...|\n",
            "|2013.083|34.8|405.2134|  1|24.97349|121.53372|41.4|[2013.083,34.8,40...|\n",
            "|2013.333| 6.3|90.45606|  9|24.97433| 121.5431|58.1|[2013.333,6.3,90....|\n",
            "|2012.917|13.0|492.2313|  5|24.96515|121.53737|39.3|[2012.917,13.0,49...|\n",
            "|2012.667|20.4|2469.645|  4|24.96108|121.51046|23.8|[2012.667,20.4,24...|\n",
            "|  2013.5|13.2|1164.838|  4|24.99156|121.53406|34.3|[2013.5,13.2,1164...|\n",
            "|2013.583|35.7|579.2083|  2| 24.9824|121.54619|50.5|[2013.583,35.7,57...|\n",
            "| 2013.25| 0.0|292.9978|  6|24.97744|121.54458|70.1|[2013.25,0.0,292....|\n",
            "| 2012.75|17.7|350.8515|  1|24.97544|121.53119|37.4|[2012.75,17.7,350...|\n",
            "|2013.417|16.9|368.1363|  8| 24.9675|121.54451|42.3|[2013.417,16.9,36...|\n",
            "|2012.667| 1.5|23.38284|  7|24.96772|121.54102|47.7|[2012.667,1.5,23....|\n",
            "+--------+----+--------+---+--------+---------+----+--------------------+\n",
            "only showing top 20 rows\n",
            "\n"
          ]
        }
      ]
    },
    {
      "cell_type": "code",
      "source": [
        "train, test = data_2.randomSplit([0.7, 0.3])"
      ],
      "metadata": {
        "id": "CrvztgTfemfp"
      },
      "execution_count": 15,
      "outputs": []
    },
    {
      "cell_type": "code",
      "source": [
        "from pyspark.ml.regression import LinearRegression\n",
        "\n",
        "algo = LinearRegression(featuresCol=\"features\", labelCol=\"Y\")\n",
        "model = algo.fit(train)"
      ],
      "metadata": {
        "id": "-eXm-wnrez8o"
      },
      "execution_count": 19,
      "outputs": []
    },
    {
      "cell_type": "code",
      "source": [
        "evaluation_summary = model.evaluate(test)"
      ],
      "metadata": {
        "id": "EHiBIHy-fF_a"
      },
      "execution_count": 20,
      "outputs": []
    },
    {
      "cell_type": "code",
      "source": [
        "evaluation_summary"
      ],
      "metadata": {
        "id": "eDHJI3l_fmhh",
        "outputId": "68368c15-d1a9-44e0-8502-7097fa267dd5",
        "colab": {
          "base_uri": "https://localhost:8080/"
        }
      },
      "execution_count": 21,
      "outputs": [
        {
          "output_type": "execute_result",
          "data": {
            "text/plain": [
              "<pyspark.ml.regression.LinearRegressionSummary at 0x7e4fd56072e0>"
            ]
          },
          "metadata": {},
          "execution_count": 21
        }
      ]
    },
    {
      "cell_type": "code",
      "source": [
        "evaluation_summary.meanAbsoluteError"
      ],
      "metadata": {
        "id": "35d5fv7FfoSZ",
        "outputId": "6ff925a2-faea-4c21-b776-24839c87b89e",
        "colab": {
          "base_uri": "https://localhost:8080/"
        }
      },
      "execution_count": 22,
      "outputs": [
        {
          "output_type": "execute_result",
          "data": {
            "text/plain": [
              "6.0588492563433345"
            ]
          },
          "metadata": {},
          "execution_count": 22
        }
      ]
    },
    {
      "cell_type": "code",
      "source": [
        "evaluation_summary.rootMeanSquaredError"
      ],
      "metadata": {
        "id": "Y1jckH2Vfq5A",
        "outputId": "fd5cf7cd-b251-4790-a0d0-48bd3466695c",
        "colab": {
          "base_uri": "https://localhost:8080/"
        }
      },
      "execution_count": 23,
      "outputs": [
        {
          "output_type": "execute_result",
          "data": {
            "text/plain": [
              "7.970516205626599"
            ]
          },
          "metadata": {},
          "execution_count": 23
        }
      ]
    },
    {
      "cell_type": "code",
      "source": [
        "evaluation_summary.r2"
      ],
      "metadata": {
        "id": "kmE4U0Mvfsuj",
        "outputId": "34e89929-21a7-4ee9-a827-1ddf26ec7e7c",
        "colab": {
          "base_uri": "https://localhost:8080/"
        }
      },
      "execution_count": 24,
      "outputs": [
        {
          "output_type": "execute_result",
          "data": {
            "text/plain": [
              "0.6570214994930936"
            ]
          },
          "metadata": {},
          "execution_count": 24
        }
      ]
    },
    {
      "cell_type": "code",
      "source": [
        "predictions = model.transform(test)"
      ],
      "metadata": {
        "id": "TeQq01xlfySB"
      },
      "execution_count": 25,
      "outputs": []
    },
    {
      "cell_type": "code",
      "source": [
        "predictions.show()"
      ],
      "metadata": {
        "id": "NBGEmmPDgOHU",
        "outputId": "9db2c3e9-b750-4245-beab-bf41328d7d6f",
        "colab": {
          "base_uri": "https://localhost:8080/"
        }
      },
      "execution_count": 27,
      "outputs": [
        {
          "output_type": "stream",
          "name": "stdout",
          "text": [
            "+--------+----+--------+---+--------+---------+----+--------------------+------------------+\n",
            "|      X1|  X2|      X3| X4|      X5|       X6|   Y|            features|        prediction|\n",
            "+--------+----+--------+---+--------+---------+----+--------------------+------------------+\n",
            "|2012.667| 1.5|23.38284|  7|24.96772|121.54102|47.7|[2012.667,1.5,23....|47.197552594509034|\n",
            "|2012.667| 1.5|23.38284|  7|24.96772|121.54102|49.7|[2012.667,1.5,23....|47.197552594509034|\n",
            "|2012.667|12.4|1712.632|  2|24.96412| 121.5167|31.3|[2012.667,12.4,17...| 31.11126681375754|\n",
            "|2012.667|14.6|339.2289|  1|24.97519|121.53151|26.5|[2012.667,14.6,33...| 38.25961147041744|\n",
            "|2012.667|23.0|130.9945|  6|24.95663|121.53765|37.2|[2012.667,23.0,13...|38.037428779975016|\n",
            "|2012.667|29.1|506.1144|  4|24.97845|121.53889|40.3|[2012.667,29.1,50...| 38.13437845667795|\n",
            "|2012.667|32.7|392.4459|  6|24.96398| 121.5425|30.5|[2012.667,32.7,39...| 36.48867076093666|\n",
            "|2012.667|32.9|87.30222| 10|  24.983|121.54022|47.1|[2012.667,32.9,87...|46.214819073675244|\n",
            "|2012.667|34.5|623.4731|  7|24.97933|121.53642|40.3|[2012.667,34.5,62...| 39.59000545111303|\n",
            "| 2012.75| 0.0|208.3905|  6|24.95618|121.53844|44.0|[2012.75,0.0,208....| 43.31972837804642|\n",
            "| 2012.75| 3.2|489.8821|  8|24.97017|121.54494|43.2|[2012.75,3.2,489....|  46.8302324121687|\n",
            "| 2012.75|11.4|390.5684|  5|24.97937|121.54245|46.8|[2012.75,11.4,390...| 44.38668249127295|\n",
            "| 2012.75|12.5|1144.436|  4|24.99176|121.53456|34.1|[2012.75,12.5,114...| 42.68068289130133|\n",
            "| 2012.75|15.4| 205.367|  7|24.98419|121.54243|55.1|[2012.75,15.4,205...| 47.39923129276758|\n",
            "| 2012.75|15.6|752.7669|  2|24.97795|121.53451|37.5|[2012.75,15.6,752...|38.333527142087405|\n",
            "| 2012.75|29.6|769.4034|  7|24.98281|121.53408|25.0|[2012.75,29.6,769...|41.215052000890864|\n",
            "| 2012.75|31.4|1447.286|  3|24.97285| 121.5173|21.5|[2012.75,31.4,144...|31.195711460586608|\n",
            "| 2012.75|37.9|488.5727|  1|24.97349|121.53451|34.2|[2012.75,37.9,488...|32.175497290441854|\n",
            "|2012.833| 0.0|185.4296|  0| 24.9711| 121.5317|55.2|[2012.833,0.0,185...| 40.99813426712171|\n",
            "|2012.833| 0.0|274.0144|  1| 24.9748|121.53059|45.4|[2012.833,0.0,274...| 42.48808862804799|\n",
            "+--------+----+--------+---+--------+---------+----+--------------------+------------------+\n",
            "only showing top 20 rows\n",
            "\n"
          ]
        }
      ]
    },
    {
      "cell_type": "code",
      "source": [
        "predictions.select(predictions.columns[6: ]).show()"
      ],
      "metadata": {
        "id": "eFVKXatlf5fw",
        "outputId": "fa0fa008-8974-42af-d19f-2400faadae70",
        "colab": {
          "base_uri": "https://localhost:8080/"
        }
      },
      "execution_count": 26,
      "outputs": [
        {
          "output_type": "stream",
          "name": "stdout",
          "text": [
            "+----+--------------------+------------------+\n",
            "|   Y|            features|        prediction|\n",
            "+----+--------------------+------------------+\n",
            "|47.7|[2012.667,1.5,23....|47.197552594509034|\n",
            "|49.7|[2012.667,1.5,23....|47.197552594509034|\n",
            "|31.3|[2012.667,12.4,17...| 31.11126681375754|\n",
            "|26.5|[2012.667,14.6,33...| 38.25961147041744|\n",
            "|37.2|[2012.667,23.0,13...|38.037428779975016|\n",
            "|40.3|[2012.667,29.1,50...| 38.13437845667795|\n",
            "|30.5|[2012.667,32.7,39...| 36.48867076093666|\n",
            "|47.1|[2012.667,32.9,87...|46.214819073675244|\n",
            "|40.3|[2012.667,34.5,62...| 39.59000545111303|\n",
            "|44.0|[2012.75,0.0,208....| 43.31972837804642|\n",
            "|43.2|[2012.75,3.2,489....|  46.8302324121687|\n",
            "|46.8|[2012.75,11.4,390...| 44.38668249127295|\n",
            "|34.1|[2012.75,12.5,114...| 42.68068289130133|\n",
            "|55.1|[2012.75,15.4,205...| 47.39923129276758|\n",
            "|37.5|[2012.75,15.6,752...|38.333527142087405|\n",
            "|25.0|[2012.75,29.6,769...|41.215052000890864|\n",
            "|21.5|[2012.75,31.4,144...|31.195711460586608|\n",
            "|34.2|[2012.75,37.9,488...|32.175497290441854|\n",
            "|55.2|[2012.833,0.0,185...| 40.99813426712171|\n",
            "|45.4|[2012.833,0.0,274...| 42.48808862804799|\n",
            "+----+--------------------+------------------+\n",
            "only showing top 20 rows\n",
            "\n"
          ]
        }
      ]
    },
    {
      "cell_type": "code",
      "source": [
        "model.save(\"Taipei_sindan_housing_model\")"
      ],
      "metadata": {
        "id": "3NKvD5WggV5z"
      },
      "execution_count": 28,
      "outputs": []
    },
    {
      "cell_type": "code",
      "source": [
        "!ls -tl Taipei_sindan_housing_model"
      ],
      "metadata": {
        "id": "fogLS5Gagq-u",
        "outputId": "66b7ee99-a6a7-4947-bf68-47a6fde9c017",
        "colab": {
          "base_uri": "https://localhost:8080/"
        }
      },
      "execution_count": 29,
      "outputs": [
        {
          "output_type": "stream",
          "name": "stdout",
          "text": [
            "total 8\n",
            "drwxr-xr-x 2 root root 4096 Jul 11 11:16 data\n",
            "drwxr-xr-x 2 root root 4096 Jul 11 11:16 metadata\n"
          ]
        }
      ]
    },
    {
      "cell_type": "code",
      "source": [
        "from google.colab import drive\n",
        "\n",
        "drive.mount(\"/content/gdrive\")"
      ],
      "metadata": {
        "id": "Ahz62bnZgwfc",
        "outputId": "37f227da-ce87-4ea3-e282-85d822995579",
        "colab": {
          "base_uri": "https://localhost:8080/"
        }
      },
      "execution_count": 30,
      "outputs": [
        {
          "output_type": "stream",
          "name": "stdout",
          "text": [
            "Mounted at /content/gdrive\n"
          ]
        }
      ]
    },
    {
      "cell_type": "code",
      "source": [
        "model_save_name = \"Taipei_sindan_housing_model\"\n",
        "path = F\"/content/gdrive/My Drive/Taipei_sindan_housing_model\"\n",
        "\n",
        "model.save(path)"
      ],
      "metadata": {
        "id": "w255Ueeyg7m4"
      },
      "execution_count": 31,
      "outputs": []
    },
    {
      "cell_type": "code",
      "source": [
        "from pyspark.ml.regression import LinearRegressionModel\n",
        "\n",
        "loaded_model = LinearRegressionModel.load(path)"
      ],
      "metadata": {
        "id": "KmgIapZ6hRzU"
      },
      "execution_count": 32,
      "outputs": []
    },
    {
      "cell_type": "code",
      "source": [
        "predictions2 = loaded_model.transform(test)"
      ],
      "metadata": {
        "id": "4owdzRluhhf8"
      },
      "execution_count": 33,
      "outputs": []
    },
    {
      "cell_type": "code",
      "source": [
        "predictions2.select(predictions.columns[6: ]).show()"
      ],
      "metadata": {
        "id": "0vIoDTTQhrqK",
        "outputId": "67a129c1-7fd1-4dc9-b71a-16d07bdabec9",
        "colab": {
          "base_uri": "https://localhost:8080/"
        }
      },
      "execution_count": 34,
      "outputs": [
        {
          "output_type": "stream",
          "name": "stdout",
          "text": [
            "+----+--------------------+------------------+\n",
            "|   Y|            features|        prediction|\n",
            "+----+--------------------+------------------+\n",
            "|47.7|[2012.667,1.5,23....|47.197552594509034|\n",
            "|49.7|[2012.667,1.5,23....|47.197552594509034|\n",
            "|31.3|[2012.667,12.4,17...| 31.11126681375754|\n",
            "|26.5|[2012.667,14.6,33...| 38.25961147041744|\n",
            "|37.2|[2012.667,23.0,13...|38.037428779975016|\n",
            "|40.3|[2012.667,29.1,50...| 38.13437845667795|\n",
            "|30.5|[2012.667,32.7,39...| 36.48867076093666|\n",
            "|47.1|[2012.667,32.9,87...|46.214819073675244|\n",
            "|40.3|[2012.667,34.5,62...| 39.59000545111303|\n",
            "|44.0|[2012.75,0.0,208....| 43.31972837804642|\n",
            "|43.2|[2012.75,3.2,489....|  46.8302324121687|\n",
            "|46.8|[2012.75,11.4,390...| 44.38668249127295|\n",
            "|34.1|[2012.75,12.5,114...| 42.68068289130133|\n",
            "|55.1|[2012.75,15.4,205...| 47.39923129276758|\n",
            "|37.5|[2012.75,15.6,752...|38.333527142087405|\n",
            "|25.0|[2012.75,29.6,769...|41.215052000890864|\n",
            "|21.5|[2012.75,31.4,144...|31.195711460586608|\n",
            "|34.2|[2012.75,37.9,488...|32.175497290441854|\n",
            "|55.2|[2012.833,0.0,185...| 40.99813426712171|\n",
            "|45.4|[2012.833,0.0,274...| 42.48808862804799|\n",
            "+----+--------------------+------------------+\n",
            "only showing top 20 rows\n",
            "\n"
          ]
        }
      ]
    }
  ]
}