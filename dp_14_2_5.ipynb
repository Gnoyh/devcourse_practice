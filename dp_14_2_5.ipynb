{
  "cells": [
    {
      "cell_type": "code",
      "execution_count": 1,
      "metadata": {
        "colab": {
          "base_uri": "https://localhost:8080/"
        },
        "id": "Q_Wyv6ahKs8R",
        "outputId": "277c3558-d0a9-4237-bb32-bce304c65fdb"
      },
      "outputs": [
        {
          "name": "stdout",
          "output_type": "stream",
          "text": [
            "Collecting pyspark==3.3.1\n",
            "  Downloading pyspark-3.3.1.tar.gz (281.4 MB)\n",
            "\u001b[2K     \u001b[90m━━━━━━━━━━━━━━━━━━━━━━━━━━━━━━━━━━━━━━━━\u001b[0m \u001b[32m281.4/281.4 MB\u001b[0m \u001b[31m3.9 MB/s\u001b[0m eta \u001b[36m0:00:00\u001b[0m\n",
            "\u001b[?25h  Preparing metadata (setup.py) ... \u001b[?25l\u001b[?25hdone\n",
            "Collecting py4j==0.10.9.5\n",
            "  Downloading py4j-0.10.9.5-py2.py3-none-any.whl (199 kB)\n",
            "\u001b[2K     \u001b[90m━━━━━━━━━━━━━━━━━━━━━━━━━━━━━━━━━━━━━━━━\u001b[0m \u001b[32m199.7/199.7 kB\u001b[0m \u001b[31m11.6 MB/s\u001b[0m eta \u001b[36m0:00:00\u001b[0m\n",
            "\u001b[?25hBuilding wheels for collected packages: pyspark\n",
            "  Building wheel for pyspark (setup.py) ... \u001b[?25l\u001b[?25hdone\n",
            "  Created wheel for pyspark: filename=pyspark-3.3.1-py2.py3-none-any.whl size=281845493 sha256=4da51e49f3892f5682b8da2b3143dcf40072392733d35c38bcad2affa1378f09\n",
            "  Stored in directory: /root/.cache/pip/wheels/0f/f0/3d/517368b8ce80486e84f89f214e0a022554e4ee64969f46279b\n",
            "Successfully built pyspark\n",
            "Installing collected packages: py4j, pyspark\n",
            "  Attempting uninstall: py4j\n",
            "    Found existing installation: py4j 0.10.9.7\n",
            "    Uninstalling py4j-0.10.9.7:\n",
            "      Successfully uninstalled py4j-0.10.9.7\n",
            "Successfully installed py4j-0.10.9.5 pyspark-3.3.1\n"
          ]
        }
      ],
      "source": [
        "!pip install pyspark==3.3.1 py4j==0.10.9.5"
      ]
    },
    {
      "cell_type": "code",
      "execution_count": 2,
      "metadata": {
        "colab": {
          "base_uri": "https://localhost:8080/"
        },
        "id": "fs8ZOFnIIvgX",
        "outputId": "64bba9cb-8048-43e6-fb22-d95e92ad5cc9"
      },
      "outputs": [
        {
          "name": "stdout",
          "output_type": "stream",
          "text": [
            "--2024-06-18 10:01:17--  https://s3.amazonaws.com/redshift-downloads/drivers/jdbc/2.1.0.28/redshift-jdbc42-2.1.0.28.jar\n",
            "Resolving s3.amazonaws.com (s3.amazonaws.com)... 52.216.39.8, 52.216.60.48, 52.216.184.213, ...\n",
            "Connecting to s3.amazonaws.com (s3.amazonaws.com)|52.216.39.8|:443... connected.\n",
            "HTTP request sent, awaiting response... 200 OK\n",
            "Length: 1077030 (1.0M) [application/java-archive]\n",
            "Saving to: ‘redshift-jdbc42-2.1.0.28.jar’\n",
            "\n",
            "redshift-jdbc42-2.1 100%[===================>]   1.03M   966KB/s    in 1.1s    \n",
            "\n",
            "2024-06-18 10:01:19 (966 KB/s) - ‘redshift-jdbc42-2.1.0.28.jar’ saved [1077030/1077030]\n",
            "\n"
          ]
        }
      ],
      "source": [
        "!cd /usr/local/lib/python3.10/dist-packages/pyspark/jars && wget https://s3.amazonaws.com/redshift-downloads/drivers/jdbc/2.1.0.28/redshift-jdbc42-2.1.0.28.jar"
      ]
    },
    {
      "cell_type": "code",
      "execution_count": 3,
      "metadata": {
        "id": "zS9lNDeRKygm"
      },
      "outputs": [],
      "source": [
        "from pyspark.sql import SparkSession\n",
        "\n",
        "spark = SparkSession \\\n",
        "    .builder \\\n",
        "    .appName(\"PySpark DataFrame #5\") \\\n",
        "    .getOrCreate()"
      ]
    },
    {
      "cell_type": "markdown",
      "metadata": {
        "id": "_vqm-DsuH_hO"
      },
      "source": [
        "## Redshift와 연결해서 테이블들을 데이터프레임으로 로딩하기"
      ]
    },
    {
      "cell_type": "code",
      "execution_count": 4,
      "metadata": {
        "id": "EEaNuN3xKNXm"
      },
      "outputs": [],
      "source": [
        "df_user_session_channel = spark.read \\\n",
        "    .format(\"jdbc\") \\\n",
        "    .option(\"driver\", \"com.amazon.redshift.jdbc42.Driver\") \\\n",
        "    .option(\"url\", \"jdbc:redshift://learnde.cduaw970ssvt.ap-northeast-2.redshift.amazonaws.com:5439/dev?user=guest&password=****\") \\\n",
        "    .option(\"dbtable\", \"raw_data.user_session_channel\") \\\n",
        "    .load()"
      ]
    },
    {
      "cell_type": "code",
      "execution_count": 5,
      "metadata": {
        "id": "IQlBPcO_INv9"
      },
      "outputs": [],
      "source": [
        "df_session_timestamp = spark.read \\\n",
        "    .format(\"jdbc\") \\\n",
        "    .option(\"driver\", \"com.amazon.redshift.jdbc42.Driver\") \\\n",
        "    .option(\"url\", \"jdbc:redshift://learnde.cduaw970ssvt.ap-northeast-2.redshift.amazonaws.com:5439/dev?user=guest&password=****\") \\\n",
        "    .option(\"dbtable\", \"raw_data.session_timestamp\") \\\n",
        "    .load()"
      ]
    },
    {
      "cell_type": "code",
      "execution_count": 6,
      "metadata": {
        "colab": {
          "base_uri": "https://localhost:8080/"
        },
        "id": "g0XNWXQ22CB4",
        "outputId": "44b5d9b4-b345-439f-db4d-6017e7675105"
      },
      "outputs": [
        {
          "name": "stdout",
          "output_type": "stream",
          "text": [
            "root\n",
            " |-- userid: integer (nullable = true)\n",
            " |-- sessionid: string (nullable = true)\n",
            " |-- channel: string (nullable = true)\n",
            "\n"
          ]
        }
      ],
      "source": [
        "df_user_session_channel.printSchema()"
      ]
    },
    {
      "cell_type": "code",
      "execution_count": 8,
      "metadata": {
        "colab": {
          "base_uri": "https://localhost:8080/"
        },
        "id": "2NVlI1Fjy-CW",
        "outputId": "27f145d6-8e99-4c4a-aa4d-2dc52a8987b9"
      },
      "outputs": [
        {
          "data": {
            "text/plain": [
              "1"
            ]
          },
          "execution_count": 8,
          "metadata": {},
          "output_type": "execute_result"
        }
      ],
      "source": [
        "df_user_session_channel.rdd.getNumPartitions()"
      ]
    },
    {
      "cell_type": "code",
      "execution_count": 7,
      "metadata": {
        "colab": {
          "base_uri": "https://localhost:8080/"
        },
        "id": "28Jb0ZvB2E7f",
        "outputId": "302c1c02-cbab-41a6-f926-6e8a62292fd6"
      },
      "outputs": [
        {
          "name": "stdout",
          "output_type": "stream",
          "text": [
            "root\n",
            " |-- sessionid: string (nullable = true)\n",
            " |-- ts: timestamp (nullable = true)\n",
            "\n"
          ]
        }
      ],
      "source": [
        "df_session_timestamp.printSchema()"
      ]
    },
    {
      "cell_type": "code",
      "execution_count": 9,
      "metadata": {
        "colab": {
          "base_uri": "https://localhost:8080/"
        },
        "id": "66rC_2RNy_yU",
        "outputId": "0b27d583-43bd-4779-be85-2795434799c8"
      },
      "outputs": [
        {
          "data": {
            "text/plain": [
              "1"
            ]
          },
          "execution_count": 9,
          "metadata": {},
          "output_type": "execute_result"
        }
      ],
      "source": [
        "df_session_timestamp.rdd.getNumPartitions()"
      ]
    },
    {
      "cell_type": "markdown",
      "metadata": {
        "id": "I0ejADf9IV7M"
      },
      "source": [
        "## DataFrame으로 처리하기"
      ]
    },
    {
      "cell_type": "code",
      "execution_count": 10,
      "metadata": {
        "id": "X2kYjwWDIZGk"
      },
      "outputs": [],
      "source": [
        "join_expr = df_user_session_channel.sessionid == df_session_timestamp.sessionid\n",
        "session_df = df_user_session_channel.join(df_session_timestamp, join_expr, \"inner\")"
      ]
    },
    {
      "cell_type": "code",
      "execution_count": 11,
      "metadata": {
        "colab": {
          "base_uri": "https://localhost:8080/"
        },
        "id": "jUOkGRw32kbp",
        "outputId": "264061aa-2d94-4ee3-e321-d88cb241cfb6"
      },
      "outputs": [
        {
          "name": "stdout",
          "output_type": "stream",
          "text": [
            "root\n",
            " |-- userid: integer (nullable = true)\n",
            " |-- sessionid: string (nullable = true)\n",
            " |-- channel: string (nullable = true)\n",
            " |-- sessionid: string (nullable = true)\n",
            " |-- ts: timestamp (nullable = true)\n",
            "\n"
          ]
        }
      ],
      "source": [
        "session_df.printSchema()"
      ]
    },
    {
      "cell_type": "code",
      "execution_count": 12,
      "metadata": {
        "colab": {
          "base_uri": "https://localhost:8080/"
        },
        "id": "yxpfx65l3R1M",
        "outputId": "e529fafb-3ef6-4869-f95d-99a48f30b734"
      },
      "outputs": [
        {
          "name": "stdout",
          "output_type": "stream",
          "text": [
            "+------+--------------------+--------+--------------------+--------------------+\n",
            "|userid|           sessionid| channel|           sessionid|                  ts|\n",
            "+------+--------------------+--------+--------------------+--------------------+\n",
            "|  1501|0135456d6a3c1051f...|  Google|0135456d6a3c1051f...|2019-09-24 14:49:...|\n",
            "|   243|0226aa5193c66d990...|  Google|0226aa5193c66d990...|2019-07-01 23:04:...|\n",
            "|   876|01a416a7e28d0d229...|Facebook|01a416a7e28d0d229...|2019-05-26 14:23:...|\n",
            "|  2776|029bf49b584c641f0...|Facebook|029bf49b584c641f0...|2019-11-11 20:37:...|\n",
            "|   939|02b8d6c2775b756de...|  Google|02b8d6c2775b756de...|2019-09-01 15:29:...|\n",
            "+------+--------------------+--------+--------------------+--------------------+\n",
            "only showing top 5 rows\n",
            "\n"
          ]
        }
      ],
      "source": [
        "session_df.show(5)"
      ]
    },
    {
      "cell_type": "code",
      "execution_count": 14,
      "metadata": {
        "id": "quHfBJCd3Y6v"
      },
      "outputs": [],
      "source": [
        "session_df = df_user_session_channel.join(df_session_timestamp, join_expr, \"inner\").select(\n",
        "    \"userid\", df_user_session_channel.sessionid, \"channel\", \"ts\"\n",
        ")"
      ]
    },
    {
      "cell_type": "code",
      "execution_count": 15,
      "metadata": {
        "id": "JXkFN_OO3iu9"
      },
      "outputs": [],
      "source": [
        "channel_count_df = session_df.groupby(\"channel\").count().orderBy(\"count\", ascending=False)"
      ]
    },
    {
      "cell_type": "code",
      "execution_count": 16,
      "metadata": {
        "colab": {
          "base_uri": "https://localhost:8080/"
        },
        "id": "EzMiG4493trM",
        "outputId": "9cf1137a-c7b1-49ac-cf80-568258bcf267"
      },
      "outputs": [
        {
          "name": "stdout",
          "output_type": "stream",
          "text": [
            "+---------+-----+\n",
            "|  channel|count|\n",
            "+---------+-----+\n",
            "|  Youtube|17091|\n",
            "|   Google|16982|\n",
            "|    Naver|16921|\n",
            "|  Organic|16904|\n",
            "|Instagram|16831|\n",
            "| Facebook|16791|\n",
            "+---------+-----+\n",
            "\n"
          ]
        }
      ],
      "source": [
        "channel_count_df.show()"
      ]
    },
    {
      "cell_type": "code",
      "execution_count": 17,
      "metadata": {
        "colab": {
          "base_uri": "https://localhost:8080/"
        },
        "id": "DnVN-Jv530nA",
        "outputId": "9c1f8d17-e1ca-43d6-ccd2-7a1e744c4466"
      },
      "outputs": [
        {
          "name": "stdout",
          "output_type": "stream",
          "text": [
            "+-------+---+\n",
            "|  month|mau|\n",
            "+-------+---+\n",
            "|2019-05|281|\n",
            "|2019-06|459|\n",
            "|2019-07|623|\n",
            "|2019-08|662|\n",
            "|2019-09|639|\n",
            "|2019-10|763|\n",
            "|2019-11|721|\n",
            "+-------+---+\n",
            "\n"
          ]
        }
      ],
      "source": [
        "from pyspark.sql.functions import date_format, asc, countDistinct\n",
        "\n",
        "session_df.withColumn('month', date_format('ts', 'yyyy-MM')).groupby('month').\\\n",
        "    agg(countDistinct(\"userid\").alias(\"mau\")).sort(desc('month')).show()"
      ]
    },
    {
      "cell_type": "markdown",
      "metadata": {
        "id": "BEuhmxeGIRkI"
      },
      "source": [
        "## Spark SQL로  처리하기"
      ]
    },
    {
      "cell_type": "code",
      "execution_count": 18,
      "metadata": {
        "id": "cb87SiYQ3lX8"
      },
      "outputs": [],
      "source": [
        "df_user_session_channel.createOrReplaceTempView(\"user_session_channel\")"
      ]
    },
    {
      "cell_type": "code",
      "execution_count": 19,
      "metadata": {
        "id": "LFMFrRpP3sP6"
      },
      "outputs": [],
      "source": [
        "df_session_timestamp.createOrReplaceTempView(\"session_timestamp\")"
      ]
    },
    {
      "cell_type": "code",
      "execution_count": 20,
      "metadata": {
        "id": "GdiSxs1030G0"
      },
      "outputs": [],
      "source": [
        "channel_count_df = spark.sql(\"\"\"\n",
        "    SELECT channel, count(distinct userId) uniqueUsers\n",
        "    FROM session_timestamp st\n",
        "    JOIN user_session_channel usc ON st.sessionID = usc.sessionID\n",
        "    GROUP BY 1\n",
        "    ORDER BY 1\n",
        "\"\"\")"
      ]
    },
    {
      "cell_type": "code",
      "execution_count": 21,
      "metadata": {
        "colab": {
          "base_uri": "https://localhost:8080/"
        },
        "id": "z1C5HKcd61_j",
        "outputId": "9a7e7f09-ff60-43c6-9acc-397f524c45d3"
      },
      "outputs": [
        {
          "data": {
            "text/plain": [
              "DataFrame[channel: string, uniqueUsers: bigint]"
            ]
          },
          "execution_count": 21,
          "metadata": {},
          "output_type": "execute_result"
        }
      ],
      "source": [
        "channel_count_df"
      ]
    },
    {
      "cell_type": "code",
      "execution_count": 22,
      "metadata": {
        "colab": {
          "base_uri": "https://localhost:8080/"
        },
        "id": "whIte26D63hG",
        "outputId": "368af99d-2f6c-4a40-913d-baeafa9b4865"
      },
      "outputs": [
        {
          "name": "stdout",
          "output_type": "stream",
          "text": [
            "+---------+-----------+\n",
            "|  channel|uniqueUsers|\n",
            "+---------+-----------+\n",
            "| Facebook|        889|\n",
            "|   Google|        893|\n",
            "|Instagram|        895|\n",
            "|    Naver|        882|\n",
            "|  Organic|        895|\n",
            "|  Youtube|        889|\n",
            "+---------+-----------+\n",
            "\n"
          ]
        }
      ],
      "source": [
        "channel_count_df.show()"
      ]
    },
    {
      "cell_type": "code",
      "execution_count": 23,
      "metadata": {
        "id": "vE8iL4vy6705"
      },
      "outputs": [],
      "source": [
        "mau_df = spark.sql(\"\"\"\n",
        "SELECT\n",
        "  LEFT(A.ts, 7) AS month,\n",
        "  COUNT(DISTINCT B.userid) AS mau\n",
        "FROM session_timestamp A\n",
        "JOIN user_session_channel B ON A.sessionid = B.sessionid\n",
        "GROUP BY 1\n",
        "ORDER BY 1 DESC\"\"\")"
      ]
    },
    {
      "cell_type": "code",
      "execution_count": 24,
      "metadata": {
        "colab": {
          "base_uri": "https://localhost:8080/"
        },
        "id": "QU44opcvDE54",
        "outputId": "7898b28e-0597-48b2-e99d-648a1015109b"
      },
      "outputs": [
        {
          "data": {
            "text/plain": [
              "[Row(month='2019-11', mau=721),\n",
              " Row(month='2019-10', mau=763),\n",
              " Row(month='2019-09', mau=639),\n",
              " Row(month='2019-08', mau=662),\n",
              " Row(month='2019-07', mau=623),\n",
              " Row(month='2019-06', mau=459),\n",
              " Row(month='2019-05', mau=281)]"
            ]
          },
          "execution_count": 24,
          "metadata": {},
          "output_type": "execute_result"
        }
      ],
      "source": [
        "mau_df.collect()"
      ]
    },
    {
      "cell_type": "markdown",
      "metadata": {
        "id": "jLMzJokozeSQ"
      },
      "source": [
        "## MAU (Monthly Active User) 계산"
      ]
    },
    {
      "cell_type": "code",
      "execution_count": 26,
      "metadata": {
        "colab": {
          "base_uri": "https://localhost:8080/"
        },
        "id": "k7ae2ECkzg_Z",
        "outputId": "013f3a76-3f47-427d-a7c9-38dbf18e5148"
      },
      "outputs": [
        {
          "name": "stdout",
          "output_type": "stream",
          "text": [
            "+-------+---+\n",
            "|  month|mau|\n",
            "+-------+---+\n",
            "|2019-05|281|\n",
            "|2019-06|459|\n",
            "|2019-07|623|\n",
            "|2019-08|662|\n",
            "|2019-09|639|\n",
            "|2019-10|763|\n",
            "|2019-11|721|\n",
            "+-------+---+\n",
            "\n"
          ]
        }
      ],
      "source": [
        "from pyspark.sql import SparkSession\n",
        "from pyspark.sql.functions import date_format, asc, countDistinct\n",
        "\n",
        "spark = SparkSession \\\n",
        "    .builder \\\n",
        "    .appName(\"PySpark DataFrame #5\") \\\n",
        "    .getOrCreate()\n",
        "\n",
        "df_user_session_channel = spark.read \\\n",
        "    .format(\"jdbc\") \\\n",
        "    .option(\"driver\", \"com.amazon.redshift.jdbc42.Driver\") \\\n",
        "    .option(\"url\", \"jdbc:redshift://learnde.cduaw970ssvt.ap-northeast-2.redshift.amazonaws.com:5439/dev?user=guest&password=****\") \\\n",
        "    .option(\"dbtable\", \"raw_data.user_session_channel\") \\\n",
        "    .load()\n",
        "\n",
        "df_session_timestamp = spark.read \\\n",
        "    .format(\"jdbc\") \\\n",
        "    .option(\"driver\", \"com.amazon.redshift.jdbc42.Driver\") \\\n",
        "    .option(\"url\", \"jdbc:redshift://learnde.cduaw970ssvt.ap-northeast-2.redshift.amazonaws.com:5439/dev?user=guest&password=****\") \\\n",
        "    .option(\"dbtable\", \"raw_data.session_timestamp\") \\\n",
        "    .load()\n",
        "\n",
        "join_expr = df_user_session_channel.sessionid == df_session_timestamp.sessionid\n",
        "session_df = df_user_session_channel.join(df_session_timestamp, join_expr, \"inner\")\n",
        "\n",
        "session_df.withColumn('month', date_format('ts', 'yyyy-MM')).groupby('month').\\\n",
        "    agg(countDistinct(\"userid\").alias(\"mau\")).sort(asc('month')).show()"
      ]
    }
  ],
  "metadata": {
    "colab": {
      "provenance": []
    },
    "gpuClass": "standard",
    "kernelspec": {
      "display_name": "Python 3",
      "name": "python3"
    },
    "language_info": {
      "name": "python"
    }
  },
  "nbformat": 4,
  "nbformat_minor": 0
}
