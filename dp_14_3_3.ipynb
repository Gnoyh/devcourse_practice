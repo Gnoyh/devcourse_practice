{
  "cells": [
    {
      "cell_type": "markdown",
      "metadata": {
        "id": "Efh-3P4StVBg"
      },
      "source": [
        "## PySpark 설치"
      ]
    },
    {
      "cell_type": "code",
      "execution_count": 1,
      "metadata": {
        "colab": {
          "base_uri": "https://localhost:8080/"
        },
        "id": "NbT0rpGfVdiq",
        "outputId": "bfb9ce7b-7622-4f35-f5c1-14f208f80499"
      },
      "outputs": [
        {
          "name": "stdout",
          "output_type": "stream",
          "text": [
            "Collecting pyspark==3.3.1\n",
            "  Downloading pyspark-3.3.1.tar.gz (281.4 MB)\n",
            "\u001b[2K     \u001b[90m━━━━━━━━━━━━━━━━━━━━━━━━━━━━━━━━━━━━━━━━\u001b[0m \u001b[32m281.4/281.4 MB\u001b[0m \u001b[31m4.3 MB/s\u001b[0m eta \u001b[36m0:00:00\u001b[0m\n",
            "\u001b[?25h  Preparing metadata (setup.py) ... \u001b[?25l\u001b[?25hdone\n",
            "Collecting py4j==0.10.9.5\n",
            "  Downloading py4j-0.10.9.5-py2.py3-none-any.whl (199 kB)\n",
            "\u001b[2K     \u001b[90m━━━━━━━━━━━━━━━━━━━━━━━━━━━━━━━━━━━━━━━━\u001b[0m \u001b[32m199.7/199.7 kB\u001b[0m \u001b[31m7.3 MB/s\u001b[0m eta \u001b[36m0:00:00\u001b[0m\n",
            "\u001b[?25hBuilding wheels for collected packages: pyspark\n",
            "  Building wheel for pyspark (setup.py) ... \u001b[?25l\u001b[?25hdone\n",
            "  Created wheel for pyspark: filename=pyspark-3.3.1-py2.py3-none-any.whl size=281845493 sha256=ee24e1619b24ab9000e79b1de72dec9e7c21b49ac9224565e3b53fbea9ef562d\n",
            "  Stored in directory: /root/.cache/pip/wheels/0f/f0/3d/517368b8ce80486e84f89f214e0a022554e4ee64969f46279b\n",
            "Successfully built pyspark\n",
            "Installing collected packages: py4j, pyspark\n",
            "  Attempting uninstall: py4j\n",
            "    Found existing installation: py4j 0.10.9.7\n",
            "    Uninstalling py4j-0.10.9.7:\n",
            "      Successfully uninstalled py4j-0.10.9.7\n",
            "Successfully installed py4j-0.10.9.5 pyspark-3.3.1\n"
          ]
        }
      ],
      "source": [
        "!pip install pyspark==3.3.1 py4j==0.10.9.5"
      ]
    },
    {
      "cell_type": "code",
      "execution_count": 2,
      "metadata": {
        "colab": {
          "base_uri": "https://localhost:8080/"
        },
        "id": "OdTTZZqVA0Xa",
        "outputId": "e6d59834-cd14-49fa-b082-f140da603fa1"
      },
      "outputs": [
        {
          "name": "stdout",
          "output_type": "stream",
          "text": [
            "--2024-06-19 05:27:31--  https://s3.amazonaws.com/redshift-downloads/drivers/jdbc/2.1.0.28/redshift-jdbc42-2.1.0.28.jar\n",
            "Resolving s3.amazonaws.com (s3.amazonaws.com)... 52.217.44.134, 16.182.36.240, 52.216.209.184, ...\n",
            "Connecting to s3.amazonaws.com (s3.amazonaws.com)|52.217.44.134|:443... connected.\n",
            "HTTP request sent, awaiting response... 200 OK\n",
            "Length: 1077030 (1.0M) [application/java-archive]\n",
            "Saving to: ‘redshift-jdbc42-2.1.0.28.jar’\n",
            "\n",
            "redshift-jdbc42-2.1 100%[===================>]   1.03M  --.-KB/s    in 0.1s    \n",
            "\n",
            "2024-06-19 05:27:31 (7.09 MB/s) - ‘redshift-jdbc42-2.1.0.28.jar’ saved [1077030/1077030]\n",
            "\n"
          ]
        }
      ],
      "source": [
        "!cd /usr/local/lib/python3.10/dist-packages/pyspark/jars && wget https://s3.amazonaws.com/redshift-downloads/drivers/jdbc/2.1.0.28/redshift-jdbc42-2.1.0.28.jar"
      ]
    },
    {
      "cell_type": "code",
      "execution_count": 4,
      "metadata": {
        "id": "3vm6tgcPXdnR"
      },
      "outputs": [],
      "source": [
        "from pyspark.sql import SparkSession\n",
        "\n",
        "spark = SparkSession \\\n",
        "    .builder \\\n",
        "    .appName(\"Python Spark SQL #1\") \\\n",
        "    .config(\"spark.jars\", \"/usr/local/lib/python3.10/dist-packages/pyspark/jars/redshift-jdbc42-2.1.0.28.jar\") \\\n",
        "    .getOrCreate()"
      ]
    },
    {
      "cell_type": "markdown",
      "metadata": {
        "id": "ElawwmWzcylW"
      },
      "source": [
        "## Redshift 상의 다음 테이블을 이용하여 월별 채널별 매출과 방문자 정보 계산하기\n",
        "user_session_channel, session_timestamp, session_transaction"
      ]
    },
    {
      "cell_type": "code",
      "execution_count": 5,
      "metadata": {
        "id": "EEaNuN3xKNXm"
      },
      "outputs": [],
      "source": [
        "# Redshift와 연결해서 DataFrame으로 로딩하기\n",
        "url = \"jdbc:redshift://learnde.cduaw970ssvt.ap-northeast-2.redshift.amazonaws.com:5439/dev?user=guest&password=****\"\n",
        "\n",
        "df_user_session_channel = spark.read \\\n",
        "    .format(\"jdbc\") \\\n",
        "    .option(\"driver\", \"com.amazon.redshift.jdbc42.Driver\") \\\n",
        "    .option(\"url\", url) \\\n",
        "    .option(\"dbtable\", \"raw_data.user_session_channel\") \\\n",
        "    .load()\n",
        "\n",
        "df_session_timestamp = spark.read \\\n",
        "    .format(\"jdbc\") \\\n",
        "    .option(\"driver\", \"com.amazon.redshift.jdbc42.Driver\") \\\n",
        "    .option(\"url\", url) \\\n",
        "    .option(\"dbtable\", \"raw_data.session_timestamp\") \\\n",
        "    .load()\n",
        "\n",
        "df_session_transaction = spark.read \\\n",
        "    .format(\"jdbc\") \\\n",
        "    .option(\"driver\", \"com.amazon.redshift.jdbc42.Driver\") \\\n",
        "    .option(\"url\", url) \\\n",
        "    .option(\"dbtable\", \"raw_data.session_transaction\") \\\n",
        "    .load()"
      ]
    },
    {
      "cell_type": "code",
      "execution_count": 6,
      "metadata": {
        "id": "AjcT5LWi7_B5"
      },
      "outputs": [],
      "source": [
        "df_user_session_channel.createOrReplaceTempView(\"user_session_channel\")\n",
        "df_session_timestamp.createOrReplaceTempView(\"session_timestamp\")\n",
        "df_session_transaction.createOrReplaceTempView(\"session_transaction\")"
      ]
    },
    {
      "cell_type": "code",
      "execution_count": 7,
      "metadata": {
        "colab": {
          "base_uri": "https://localhost:8080/"
        },
        "id": "Umznov_4FZuT",
        "outputId": "49cf39ab-53f7-453e-ebee-c3052cc77cd1"
      },
      "outputs": [
        {
          "name": "stdout",
          "output_type": "stream",
          "text": [
            "+--------------------+--------------------+\n",
            "|           sessionid|                  ts|\n",
            "+--------------------+--------------------+\n",
            "|0002ac0d783338cfe...|2019-07-29 12:39:...|\n",
            "|00053f5e11d1fe4e4...|2019-06-24 13:04:...|\n",
            "|00056c20eb5a02958...| 2019-09-26 14:50:17|\n",
            "|00063cb5da1826feb...|2019-10-16 14:04:...|\n",
            "|0007cda84fafdcf42...|2019-05-22 08:02:...|\n",
            "+--------------------+--------------------+\n",
            "only showing top 5 rows\n",
            "\n"
          ]
        }
      ],
      "source": [
        "spark.table(\"session_timestamp\").show(5)"
      ]
    },
    {
      "cell_type": "code",
      "execution_count": 8,
      "metadata": {
        "colab": {
          "base_uri": "https://localhost:8080/"
        },
        "id": "f3UxHdoLC5Bt",
        "outputId": "3dfa666f-93ab-4d12-dcb4-831bf8f16258"
      },
      "outputs": [
        {
          "name": "stdout",
          "output_type": "stream",
          "text": [
            "+------+--------------------+-------+\n",
            "|userid|           sessionid|channel|\n",
            "+------+--------------------+-------+\n",
            "|  1491|00029153d12ae1c9a...|Organic|\n",
            "|    59|0002ac0d783338cfe...|  Naver|\n",
            "|   117|0006246bee639c7a7...|Youtube|\n",
            "|   572|0006dd05ea1e999dd...|Organic|\n",
            "|   935|0007cda84fafdcf42...| Google|\n",
            "+------+--------------------+-------+\n",
            "only showing top 5 rows\n",
            "\n"
          ]
        }
      ],
      "source": [
        "df_user_session_channel.show(5)"
      ]
    },
    {
      "cell_type": "code",
      "execution_count": 9,
      "metadata": {
        "colab": {
          "base_uri": "https://localhost:8080/"
        },
        "id": "T9lIcukADIgk",
        "outputId": "d23a8b8a-bf14-4cc1-c9e7-4a3c07c8e8c8"
      },
      "outputs": [
        {
          "name": "stdout",
          "output_type": "stream",
          "text": [
            "+--------------------+--------------------+\n",
            "|           sessionid|                  ts|\n",
            "+--------------------+--------------------+\n",
            "|0002ac0d783338cfe...|2019-07-29 12:39:...|\n",
            "|00053f5e11d1fe4e4...|2019-06-24 13:04:...|\n",
            "|00056c20eb5a02958...| 2019-09-26 14:50:17|\n",
            "|00063cb5da1826feb...|2019-10-16 14:04:...|\n",
            "|0007cda84fafdcf42...|2019-05-22 08:02:...|\n",
            "+--------------------+--------------------+\n",
            "only showing top 5 rows\n",
            "\n"
          ]
        }
      ],
      "source": [
        "df_session_timestamp.show(5)"
      ]
    },
    {
      "cell_type": "code",
      "execution_count": 10,
      "metadata": {
        "colab": {
          "base_uri": "https://localhost:8080/"
        },
        "id": "vwiwGeXRDNk2",
        "outputId": "12b2acb5-ad20-4cef-c576-e4ece484e8b5"
      },
      "outputs": [
        {
          "name": "stdout",
          "output_type": "stream",
          "text": [
            "+--------------------+--------+------+\n",
            "|           sessionid|refunded|amount|\n",
            "+--------------------+--------+------+\n",
            "|00029153d12ae1c9a...|   false|    85|\n",
            "|008909bd27b680698...|   false|    13|\n",
            "|0107acb41ef20db22...|   false|    16|\n",
            "|018544a2c48077d2c...|   false|    39|\n",
            "|020c38173caff0203...|   false|    61|\n",
            "+--------------------+--------+------+\n",
            "only showing top 5 rows\n",
            "\n"
          ]
        }
      ],
      "source": [
        "df_session_transaction.show(5)"
      ]
    },
    {
      "cell_type": "markdown",
      "metadata": {
        "id": "J2tg1Myi8Q5I"
      },
      "source": [
        "## 월별 채널별 총 방문자와 매출 발생 방문자 계산"
      ]
    },
    {
      "cell_type": "code",
      "execution_count": 11,
      "metadata": {
        "colab": {
          "base_uri": "https://localhost:8080/"
        },
        "id": "MpbHpUQ1IaVp",
        "outputId": "884b1fa6-b831-47de-a48b-9a6b34dce1e7"
      },
      "outputs": [
        {
          "name": "stdout",
          "output_type": "stream",
          "text": [
            "+--------------------+-----+\n",
            "|           sessionid|count|\n",
            "+--------------------+-----+\n",
            "|0226aa5193c66d990...|    1|\n",
            "+--------------------+-----+\n",
            "\n"
          ]
        }
      ],
      "source": [
        "# JOIN key가 정말 하나씩만 존재하나?\n",
        "spark.sql(\"\"\"SELECT sessionid, COUNT(1) count\n",
        "FROM user_session_channel\n",
        "GROUP BY 1\n",
        "ORDER BY 2 DESC\n",
        "LIMIT 1\"\"\").show()"
      ]
    },
    {
      "cell_type": "code",
      "execution_count": 12,
      "metadata": {
        "colab": {
          "base_uri": "https://localhost:8080/"
        },
        "id": "QvYe1ehfKChR",
        "outputId": "733080d7-caa6-4e19-c347-7389796f2ef6"
      },
      "outputs": [
        {
          "name": "stdout",
          "output_type": "stream",
          "text": [
            "+--------------------+-----+\n",
            "|           sessionid|count|\n",
            "+--------------------+-----+\n",
            "|532ff98823e7d1433...|    1|\n",
            "+--------------------+-----+\n",
            "\n"
          ]
        }
      ],
      "source": [
        "# JOIN key가 정말 하나씩만 존재하나?\n",
        "spark.sql(\"\"\"SELECT sessionid, COUNT(1) count\n",
        "FROM session_transaction\n",
        "GROUP BY 1\n",
        "ORDER BY 2 DESC\n",
        "LIMIT 1\"\"\").show()"
      ]
    },
    {
      "cell_type": "code",
      "execution_count": 13,
      "metadata": {
        "colab": {
          "base_uri": "https://localhost:8080/"
        },
        "id": "_g0ZU_f7KIED",
        "outputId": "4a24b74b-610a-4230-8863-151c4050fd02"
      },
      "outputs": [
        {
          "name": "stdout",
          "output_type": "stream",
          "text": [
            "+--------------------+-----+\n",
            "|           sessionid|count|\n",
            "+--------------------+-----+\n",
            "|0135456d6a3c1051f...|    1|\n",
            "+--------------------+-----+\n",
            "\n"
          ]
        }
      ],
      "source": [
        "# JOIN key가 정말 하나씩만 존재하나?\n",
        "spark.sql(\"\"\"SELECT sessionid, COUNT(1) count\n",
        "FROM session_timestamp\n",
        "GROUP BY 1\n",
        "ORDER BY 2 DESC\n",
        "LIMIT 1\"\"\").show()"
      ]
    },
    {
      "cell_type": "markdown",
      "metadata": {
        "id": "2RvznT3Qf_TV"
      },
      "source": [
        " ### 월별 채널별 총 방문자 계산"
      ]
    },
    {
      "cell_type": "code",
      "execution_count": 14,
      "metadata": {
        "id": "GdiSxs1030G0"
      },
      "outputs": [],
      "source": [
        "mon_channel_rev_df = spark.sql(\"\"\"\n",
        "    SELECT LEFT(sti.ts, 7) year_month,\n",
        "      usc.channel channel,\n",
        "      COUNT(DISTINCT userid) total_visitors\n",
        "    FROM user_session_channel usc\n",
        "    LEFT JOIN session_timestamp sti ON usc.sessionid = sti.sessionid\n",
        "    GROUP BY 1 ,2\n",
        "    ORDER BY 1, 2\"\"\")"
      ]
    },
    {
      "cell_type": "code",
      "execution_count": 15,
      "metadata": {
        "colab": {
          "base_uri": "https://localhost:8080/"
        },
        "id": "CZXGJow1Igoi",
        "outputId": "68125eab-e335-4b4f-ad46-c657eb706661"
      },
      "outputs": [
        {
          "name": "stdout",
          "output_type": "stream",
          "text": [
            "+----------+---------+--------------+\n",
            "|year_month|  channel|total_visitors|\n",
            "+----------+---------+--------------+\n",
            "|   2019-05| Facebook|           247|\n",
            "|   2019-05|   Google|           253|\n",
            "|   2019-05|Instagram|           234|\n",
            "|   2019-05|    Naver|           237|\n",
            "|   2019-05|  Organic|           238|\n",
            "|   2019-05|  Youtube|           244|\n",
            "|   2019-06| Facebook|           414|\n",
            "|   2019-06|   Google|           412|\n",
            "|   2019-06|Instagram|           410|\n",
            "|   2019-06|    Naver|           398|\n",
            "|   2019-06|  Organic|           416|\n",
            "|   2019-06|  Youtube|           400|\n",
            "|   2019-07| Facebook|           558|\n",
            "|   2019-07|   Google|           556|\n",
            "|   2019-07|Instagram|           567|\n",
            "|   2019-07|    Naver|           553|\n",
            "|   2019-07|  Organic|           557|\n",
            "|   2019-07|  Youtube|           564|\n",
            "|   2019-08| Facebook|           611|\n",
            "|   2019-08|   Google|           610|\n",
            "+----------+---------+--------------+\n",
            "only showing top 20 rows\n",
            "\n"
          ]
        }
      ],
      "source": [
        "mon_channel_rev_df.show()"
      ]
    },
    {
      "cell_type": "markdown",
      "metadata": {
        "id": "wC4dO8vWgF97"
      },
      "source": [
        " ### 월별 채널별 총 방문자와 구매 방문자 계산"
      ]
    },
    {
      "cell_type": "code",
      "execution_count": 18,
      "metadata": {
        "id": "y5kpe4n4gGNU"
      },
      "outputs": [],
      "source": [
        "mon_channel_rev_df2 = spark.sql(\"\"\"\n",
        "    SELECT LEFT(sti.ts, 7) year_month,\n",
        "      usc.channel channel,\n",
        "      COUNT(DISTINCT userid) total_visitors,\n",
        "      COUNT(DISTINCT CASE WHEN amount is not NULL THEN userid END) paid_visitors\n",
        "    FROM user_session_channel usc\n",
        "    LEFT JOIN session_timestamp sti ON usc.sessionid = sti.sessionid\n",
        "    LEFT JOIN session_transaction str ON usc.sessionid = str.sessionid\n",
        "    GROUP BY 1 ,2\n",
        "    ORDER BY 1, 2\"\"\")"
      ]
    },
    {
      "cell_type": "code",
      "execution_count": 19,
      "metadata": {
        "colab": {
          "base_uri": "https://localhost:8080/"
        },
        "id": "whIte26D63hG",
        "outputId": "1e64d5c8-8b12-4c5c-fe6b-eaca28426445"
      },
      "outputs": [
        {
          "name": "stdout",
          "output_type": "stream",
          "text": [
            "+----------+---------+--------------+-------------+\n",
            "|year_month|  channel|total_visitors|paid_visitors|\n",
            "+----------+---------+--------------+-------------+\n",
            "|   2019-05| Facebook|           247|           14|\n",
            "|   2019-05|   Google|           253|           10|\n",
            "|   2019-05|Instagram|           234|           11|\n",
            "|   2019-05|    Naver|           237|           11|\n",
            "|   2019-05|  Organic|           238|           17|\n",
            "|   2019-05|  Youtube|           244|           10|\n",
            "|   2019-06| Facebook|           414|           22|\n",
            "|   2019-06|   Google|           412|           13|\n",
            "|   2019-06|Instagram|           410|           21|\n",
            "|   2019-06|    Naver|           398|           15|\n",
            "|   2019-06|  Organic|           416|           14|\n",
            "|   2019-06|  Youtube|           400|           17|\n",
            "|   2019-07| Facebook|           558|           32|\n",
            "|   2019-07|   Google|           556|           21|\n",
            "|   2019-07|Instagram|           567|           25|\n",
            "|   2019-07|    Naver|           553|           19|\n",
            "|   2019-07|  Organic|           557|           24|\n",
            "|   2019-07|  Youtube|           564|           36|\n",
            "|   2019-08| Facebook|           611|           18|\n",
            "|   2019-08|   Google|           610|           28|\n",
            "+----------+---------+--------------+-------------+\n",
            "only showing top 20 rows\n",
            "\n"
          ]
        }
      ],
      "source": [
        "mon_channel_rev_df2.show()"
      ]
    },
    {
      "cell_type": "markdown",
      "metadata": {
        "id": "1ZLK7L7yASE2"
      },
      "source": [
        "## 월별 채널별 총 매출액 (리펀드 포함), 총 방문자, 매출 발생 방문자, 전환률 계산"
      ]
    },
    {
      "cell_type": "code",
      "execution_count": 24,
      "metadata": {
        "id": "-iicBV-0Ac_D"
      },
      "outputs": [],
      "source": [
        " mon_channel_rev_df3 = spark.sql(\"\"\"\n",
        "  SELECT LEFT(ts, 7) month,\n",
        "       usc.channel,\n",
        "       COUNT(DISTINCT userid) uniqueUsers,\n",
        "       COUNT(DISTINCT (CASE WHEN amount >= 0 THEN userid END)) paidUsers,\n",
        "       SUM(amount) grossRevenue,\n",
        "       SUM(CASE WHEN refunded is not True THEN amount END) netRevenue,\n",
        "       ROUND(COUNT(DISTINCT CASE WHEN amount >= 0 THEN userid END)*100\n",
        "          / COUNT(DISTINCT userid), 2) conversionRate\n",
        "   FROM user_session_channel usc\n",
        "   LEFT JOIN session_timestamp t ON t.sessionid = usc.sessionid\n",
        "   LEFT JOIN session_transaction st ON st.sessionid = usc.sessionid\n",
        "   GROUP BY 1, 2\n",
        "   ORDER BY 1, 2;\"\"\")"
      ]
    },
    {
      "cell_type": "code",
      "execution_count": 25,
      "metadata": {
        "colab": {
          "base_uri": "https://localhost:8080/"
        },
        "id": "_0sAwtuphJdK",
        "outputId": "d2fe3d19-cec1-4db5-bfee-300b7683993e"
      },
      "outputs": [
        {
          "name": "stdout",
          "output_type": "stream",
          "text": [
            "+-------+---------+-----------+---------+------------+----------+--------------+\n",
            "|  month|  channel|uniqueUsers|paidUsers|grossRevenue|netRevenue|conversionRate|\n",
            "+-------+---------+-----------+---------+------------+----------+--------------+\n",
            "|2019-05| Facebook|        247|       14|        1199|       997|          5.67|\n",
            "|2019-05|   Google|        253|       10|         580|       580|          3.95|\n",
            "|2019-05|Instagram|        234|       11|         959|       770|           4.7|\n",
            "|2019-05|    Naver|        237|       11|         867|       844|          4.64|\n",
            "|2019-05|  Organic|        238|       17|        1846|      1571|          7.14|\n",
            "|2019-05|  Youtube|        244|       10|         529|       529|           4.1|\n",
            "|2019-06| Facebook|        414|       22|        1578|      1578|          5.31|\n",
            "|2019-06|   Google|        412|       13|         947|       947|          3.16|\n",
            "|2019-06|Instagram|        410|       21|        1462|      1418|          5.12|\n",
            "|2019-06|    Naver|        398|       15|        1090|      1090|          3.77|\n",
            "|2019-06|  Organic|        416|       14|        1129|       940|          3.37|\n",
            "|2019-06|  Youtube|        400|       17|        1042|      1042|          4.25|\n",
            "|2019-07| Facebook|        558|       32|        2222|      2144|          5.73|\n",
            "|2019-07|   Google|        556|       21|        1558|      1385|          3.78|\n",
            "|2019-07|Instagram|        567|       25|        1896|      1766|          4.41|\n",
            "|2019-07|    Naver|        553|       19|        1547|      1547|          3.44|\n",
            "|2019-07|  Organic|        557|       24|        1600|      1600|          4.31|\n",
            "|2019-07|  Youtube|        564|       36|        2210|      2037|          6.38|\n",
            "|2019-08| Facebook|        611|       18|        1009|      1009|          2.95|\n",
            "|2019-08|   Google|        610|       28|        2210|      1894|          4.59|\n",
            "+-------+---------+-----------+---------+------------+----------+--------------+\n",
            "only showing top 20 rows\n",
            "\n"
          ]
        }
      ],
      "source": [
        "mon_channel_rev_df3.show()"
      ]
    }
  ],
  "metadata": {
    "colab": {
      "provenance": []
    },
    "kernelspec": {
      "display_name": "Python 3",
      "name": "python3"
    }
  },
  "nbformat": 4,
  "nbformat_minor": 0
}
