{
  "nbformat": 4,
  "nbformat_minor": 0,
  "metadata": {
    "colab": {
      "provenance": []
    },
    "kernelspec": {
      "name": "python3",
      "display_name": "Python 3"
    },
    "language_info": {
      "name": "python"
    }
  },
  "cells": [
    {
      "cell_type": "code",
      "source": [
        "!pip install pyspark==3.3.1 py4j==0.10.9.5"
      ],
      "metadata": {
        "colab": {
          "base_uri": "https://localhost:8080/"
        },
        "id": "Q_Wyv6ahKs8R",
        "outputId": "cff8d783-3902-40b2-8ad2-372e2c96ec5d"
      },
      "execution_count": 1,
      "outputs": [
        {
          "output_type": "stream",
          "name": "stdout",
          "text": [
            "Collecting pyspark==3.3.1\n",
            "  Downloading pyspark-3.3.1.tar.gz (281.4 MB)\n",
            "\u001b[2K     \u001b[90m━━━━━━━━━━━━━━━━━━━━━━━━━━━━━━━━━━━━━━━━\u001b[0m \u001b[32m281.4/281.4 MB\u001b[0m \u001b[31m3.1 MB/s\u001b[0m eta \u001b[36m0:00:00\u001b[0m\n",
            "\u001b[?25h  Preparing metadata (setup.py) ... \u001b[?25l\u001b[?25hdone\n",
            "Collecting py4j==0.10.9.5\n",
            "  Downloading py4j-0.10.9.5-py2.py3-none-any.whl (199 kB)\n",
            "\u001b[2K     \u001b[90m━━━━━━━━━━━━━━━━━━━━━━━━━━━━━━━━━━━━━━━━\u001b[0m \u001b[32m199.7/199.7 kB\u001b[0m \u001b[31m12.4 MB/s\u001b[0m eta \u001b[36m0:00:00\u001b[0m\n",
            "\u001b[?25hBuilding wheels for collected packages: pyspark\n",
            "  Building wheel for pyspark (setup.py) ... \u001b[?25l\u001b[?25hdone\n",
            "  Created wheel for pyspark: filename=pyspark-3.3.1-py2.py3-none-any.whl size=281845493 sha256=328c7ceeb1bc6ecfb50e8ba8e9e9c9b37fd38d42f3c77c8ec461afeb6116992c\n",
            "  Stored in directory: /root/.cache/pip/wheels/0f/f0/3d/517368b8ce80486e84f89f214e0a022554e4ee64969f46279b\n",
            "Successfully built pyspark\n",
            "Installing collected packages: py4j, pyspark\n",
            "  Attempting uninstall: py4j\n",
            "    Found existing installation: py4j 0.10.9.7\n",
            "    Uninstalling py4j-0.10.9.7:\n",
            "      Successfully uninstalled py4j-0.10.9.7\n",
            "Successfully installed py4j-0.10.9.5 pyspark-3.3.1\n"
          ]
        }
      ]
    },
    {
      "cell_type": "code",
      "source": [
        "from pyspark.sql import SparkSession\n",
        "from pyspark import SparkConf\n",
        "\n",
        "conf = SparkConf()\n",
        "conf.set(\"spark.app.name\", \"PySpark DataFrame #3\")\n",
        "conf.set(\"spark.master\", \"local[*]\")\n",
        "\n",
        "spark = SparkSession.builder\\\n",
        "        .config(conf=conf)\\\n",
        "        .getOrCreate()"
      ],
      "metadata": {
        "id": "zS9lNDeRKygm"
      },
      "execution_count": 2,
      "outputs": []
    },
    {
      "cell_type": "code",
      "source": [
        "!wget https://s3-geospatial.s3.us-west-2.amazonaws.com/transfer_cost.txt"
      ],
      "metadata": {
        "colab": {
          "base_uri": "https://localhost:8080/"
        },
        "id": "Sg6lKFCVK5uw",
        "outputId": "7fc4b65c-05d5-4396-c38b-b363fdfd0e22"
      },
      "execution_count": 3,
      "outputs": [
        {
          "output_type": "stream",
          "name": "stdout",
          "text": [
            "--2024-06-18 07:14:52--  https://s3-geospatial.s3.us-west-2.amazonaws.com/transfer_cost.txt\n",
            "Resolving s3-geospatial.s3.us-west-2.amazonaws.com (s3-geospatial.s3.us-west-2.amazonaws.com)... 3.5.79.124, 3.5.76.15, 3.5.80.149, ...\n",
            "Connecting to s3-geospatial.s3.us-west-2.amazonaws.com (s3-geospatial.s3.us-west-2.amazonaws.com)|3.5.79.124|:443... connected.\n",
            "HTTP request sent, awaiting response... 200 OK\n",
            "Length: 286779 (280K) [text/plain]\n",
            "Saving to: ‘transfer_cost.txt’\n",
            "\n",
            "transfer_cost.txt   100%[===================>] 280.06K  1.56MB/s    in 0.2s    \n",
            "\n",
            "2024-06-18 07:14:53 (1.56 MB/s) - ‘transfer_cost.txt’ saved [286779/286779]\n",
            "\n"
          ]
        }
      ]
    },
    {
      "cell_type": "code",
      "source": [
        "!ls -tl"
      ],
      "metadata": {
        "colab": {
          "base_uri": "https://localhost:8080/"
        },
        "id": "bu8GWTxe00mU",
        "outputId": "f3386b33-49d9-4a29-fefd-26762b8f6db7"
      },
      "execution_count": 4,
      "outputs": [
        {
          "output_type": "stream",
          "name": "stdout",
          "text": [
            "total 288\n",
            "drwxr-xr-x 1 root root   4096 Jun 14 17:39 sample_data\n",
            "-rw-r--r-- 1 root root 286779 Apr 24  2022 transfer_cost.txt\n"
          ]
        }
      ]
    },
    {
      "cell_type": "code",
      "source": [
        "!head -5 transfer_cost.txt"
      ],
      "metadata": {
        "id": "uVYjxP2yA3D7",
        "colab": {
          "base_uri": "https://localhost:8080/"
        },
        "outputId": "b6f27a11-d142-4ec1-86cb-a95cfcc68c93"
      },
      "execution_count": 5,
      "outputs": [
        {
          "output_type": "stream",
          "name": "stdout",
          "text": [
            "On 2021-01-04 the cost per ton from 85001 to 85002 is $28.32 at ABC Hauling\n",
            "On 2021-01-04 the cost per ton from 85001 to 85004 is $25.68 at ABC Hauling\n",
            "On 2021-01-04 the cost per ton from 85001 to 85007 is 19.86 at ABC Hauling\n",
            "On 2021-01-04 the cost per ton from 85001 to 85007 is 20.52 at Haul Today\n",
            "On 2021-01-04 the cost per ton from 85001 to 85010 is 20.72 at Haul Today\n"
          ]
        }
      ]
    },
    {
      "cell_type": "code",
      "source": [
        "import pyspark.sql.functions as F\n",
        "from pyspark.sql.types import *\n",
        "\n",
        "schema = StructType([ StructField(\"text\", StringType(), True)])\n",
        "transfer_cost_df = spark.read.schema(schema).text(\"transfer_cost.txt\")"
      ],
      "metadata": {
        "id": "kbbB3xcPapVl"
      },
      "execution_count": 6,
      "outputs": []
    },
    {
      "cell_type": "code",
      "source": [
        "transfer_cost_df.show(truncate=False)"
      ],
      "metadata": {
        "colab": {
          "base_uri": "https://localhost:8080/"
        },
        "id": "hZiZwF-gbOrV",
        "outputId": "58428b6f-8733-43bf-fbd4-3f0d2175e644"
      },
      "execution_count": 7,
      "outputs": [
        {
          "output_type": "stream",
          "name": "stdout",
          "text": [
            "+---------------------------------------------------------------------------+\n",
            "|text                                                                       |\n",
            "+---------------------------------------------------------------------------+\n",
            "|On 2021-01-04 the cost per ton from 85001 to 85002 is $28.32 at ABC Hauling|\n",
            "|On 2021-01-04 the cost per ton from 85001 to 85004 is $25.68 at ABC Hauling|\n",
            "|On 2021-01-04 the cost per ton from 85001 to 85007 is 19.86 at ABC Hauling |\n",
            "|On 2021-01-04 the cost per ton from 85001 to 85007 is 20.52 at Haul Today  |\n",
            "|On 2021-01-04 the cost per ton from 85001 to 85010 is 20.72 at Haul Today  |\n",
            "|On 2021-01-04 the cost per ton from 85001 to 85012 is $18.98 at ABC Hauling|\n",
            "|On 2021-01-04 the cost per ton from 85001 to 85013 is 26.64 at Haul Today  |\n",
            "|On 2021-01-04 the cost per ton from 85001 to 85020 is 26.34 at ABC Hauling |\n",
            "|On 2021-01-04 the cost per ton from 85001 to 85021 is $20.15 at ABC Hauling|\n",
            "|On 2021-01-04 the cost per ton from 85002 to 85001 is 21.57 at Haul Today  |\n",
            "|On 2021-01-04 the cost per ton from 85002 to 85004 is 21.40 at Haul Today  |\n",
            "|On 2021-01-04 the cost per ton from 85002 to 85007 is 25.93 at Haul Today  |\n",
            "|On 2021-01-04 the cost per ton from 85002 to 85010 is 19.80 at Haul Today  |\n",
            "|On 2021-01-04 the cost per ton from 85002 to 85012 is 21.66 at Haul Today  |\n",
            "|On 2021-01-04 the cost per ton from 85002 to 85013 is $25.90 at Haul Today |\n",
            "|On 2021-01-04 the cost per ton from 85002 to 85020 is 19.15 at ABC Hauling |\n",
            "|On 2021-01-04 the cost per ton from 85002 to 85021 is $27.13 at Haul Today |\n",
            "|On 2021-01-04 the cost per ton from 85004 to 85001 is 23.88 at Haul Today  |\n",
            "|On 2021-01-04 the cost per ton from 85004 to 85002 is 26.40 at ABC Hauling |\n",
            "|On 2021-01-04 the cost per ton from 85004 to 85007 is 26.03 at ABC Hauling |\n",
            "+---------------------------------------------------------------------------+\n",
            "only showing top 20 rows\n",
            "\n"
          ]
        }
      ]
    },
    {
      "cell_type": "code",
      "source": [
        "from pyspark.sql.functions import *\n",
        "regex_str = r'On (\\S+) the cost per ton from (\\d+) to (\\d+) is (\\S+) at (.*)'\n",
        "\n",
        "df_with_new_columns = transfer_cost_df\\\n",
        "    .withColumn('week', regexp_extract('text', regex_str, 1))\\\n",
        "    .withColumn('departure_zipcode', regexp_extract(column('text'), regex_str, 2))\\\n",
        "    .withColumn('arrival_zipcode', regexp_extract(transfer_cost_df.text, regex_str, 3))\\\n",
        "    .withColumn('cost', regexp_extract(col('text'), regex_str, 4))\\\n",
        "    .withColumn('vendor', regexp_extract(col('text'), regex_str, 5))"
      ],
      "metadata": {
        "id": "n2EYklWrbSK5"
      },
      "execution_count": 8,
      "outputs": []
    },
    {
      "cell_type": "code",
      "source": [
        "df_with_new_columns.printSchema()"
      ],
      "metadata": {
        "colab": {
          "base_uri": "https://localhost:8080/"
        },
        "id": "6PdecGV1XMIi",
        "outputId": "41b99b1a-ea87-458b-a67d-3bf850c02292"
      },
      "execution_count": 9,
      "outputs": [
        {
          "output_type": "stream",
          "name": "stdout",
          "text": [
            "root\n",
            " |-- text: string (nullable = true)\n",
            " |-- week: string (nullable = true)\n",
            " |-- departure_zipcode: string (nullable = true)\n",
            " |-- arrival_zipcode: string (nullable = true)\n",
            " |-- cost: string (nullable = true)\n",
            " |-- vendor: string (nullable = true)\n",
            "\n"
          ]
        }
      ]
    },
    {
      "cell_type": "code",
      "source": [
        "final_df = df_with_new_columns.drop(\"text\")"
      ],
      "metadata": {
        "id": "tiBRD9MUXOIP"
      },
      "execution_count": 10,
      "outputs": []
    },
    {
      "cell_type": "code",
      "source": [
        "final_df.write.csv(\"extracted.csv\")"
      ],
      "metadata": {
        "id": "oefVVlGfXZJt"
      },
      "execution_count": 11,
      "outputs": []
    },
    {
      "cell_type": "code",
      "source": [
        "!ls -tl"
      ],
      "metadata": {
        "colab": {
          "base_uri": "https://localhost:8080/"
        },
        "id": "hHqUsiQjXjJ9",
        "outputId": "e70ec38c-c51f-4cb4-8a9e-67169e873358"
      },
      "execution_count": 12,
      "outputs": [
        {
          "output_type": "stream",
          "name": "stdout",
          "text": [
            "total 292\n",
            "drwxr-xr-x 2 root root   4096 Jun 18 07:15 extracted.csv\n",
            "drwxr-xr-x 1 root root   4096 Jun 14 17:39 sample_data\n",
            "-rw-r--r-- 1 root root 286779 Apr 24  2022 transfer_cost.txt\n"
          ]
        }
      ]
    },
    {
      "cell_type": "code",
      "source": [
        "!ls -tl extracted.csv/"
      ],
      "metadata": {
        "colab": {
          "base_uri": "https://localhost:8080/"
        },
        "id": "TGUG9GqwX5a6",
        "outputId": "0d1af230-6838-4f5d-d78a-361540f95e5d"
      },
      "execution_count": 13,
      "outputs": [
        {
          "output_type": "stream",
          "name": "stdout",
          "text": [
            "total 156\n",
            "-rw-r--r-- 1 root root      0 Jun 18 07:15 _SUCCESS\n",
            "-rw-r--r-- 1 root root 156423 Jun 18 07:15 part-00000-5011a888-a8d2-4c8c-a74e-89b6245a37b4-c000.csv\n"
          ]
        }
      ]
    },
    {
      "cell_type": "code",
      "source": [
        "!head -5 extracted.csv/part-00000-5011a888-a8d2-4c8c-a74e-89b6245a37b4-c000.csv"
      ],
      "metadata": {
        "colab": {
          "base_uri": "https://localhost:8080/"
        },
        "id": "80dsZkBhX-a6",
        "outputId": "dff56429-5963-4ce0-8c35-b43fb5de2d4e"
      },
      "execution_count": 19,
      "outputs": [
        {
          "output_type": "stream",
          "name": "stdout",
          "text": [
            "2021-01-04,85001,85002,$28.32,ABC Hauling\n",
            "2021-01-04,85001,85004,$25.68,ABC Hauling\n",
            "2021-01-04,85001,85007,19.86,ABC Hauling\n",
            "2021-01-04,85001,85007,20.52,Haul Today\n",
            "2021-01-04,85001,85010,20.72,Haul Today\n"
          ]
        }
      ]
    },
    {
      "cell_type": "code",
      "source": [
        "final_df.write.format(\"json\").save(\"extracted.json\")"
      ],
      "metadata": {
        "id": "c6qT4c_LYMj4"
      },
      "execution_count": 15,
      "outputs": []
    },
    {
      "cell_type": "code",
      "source": [
        "!ls -tl extracted.json/"
      ],
      "metadata": {
        "colab": {
          "base_uri": "https://localhost:8080/"
        },
        "id": "Y8K6JprsYSwF",
        "outputId": "873d239a-e280-4755-a6a9-57991723c54d"
      },
      "execution_count": 16,
      "outputs": [
        {
          "output_type": "stream",
          "name": "stdout",
          "text": [
            "total 428\n",
            "-rw-r--r-- 1 root root      0 Jun 18 07:16 _SUCCESS\n",
            "-rw-r--r-- 1 root root 436305 Jun 18 07:16 part-00000-6af2ba2a-749e-445f-89bf-b593d239b41e-c000.json\n"
          ]
        }
      ]
    },
    {
      "cell_type": "code",
      "source": [
        "!head -1 extracted.json/part-00000-6af2ba2a-749e-445f-89bf-b593d239b41e-c000.json"
      ],
      "metadata": {
        "colab": {
          "base_uri": "https://localhost:8080/"
        },
        "id": "C-j9yCXzYVvA",
        "outputId": "54b3761c-1d63-474e-ab29-7ca6ef42ba44"
      },
      "execution_count": 18,
      "outputs": [
        {
          "output_type": "stream",
          "name": "stdout",
          "text": [
            "{\"week\":\"2021-01-04\",\"departure_zipcode\":\"85001\",\"arrival_zipcode\":\"85002\",\"cost\":\"$28.32\",\"vendor\":\"ABC Hauling\"}\n"
          ]
        }
      ]
    },
    {
      "cell_type": "markdown",
      "source": [
        "## 텍스트를 파싱해서 구조화된 데이터로 변환하기"
      ],
      "metadata": {
        "id": "4ReGFwvANLN5"
      }
    },
    {
      "cell_type": "code",
      "source": [
        "from pyspark.sql import SparkSession\n",
        "from pyspark import SparkConf\n",
        "from pyspark.sql.types import *\n",
        "from pyspark.sql.functions import *\n",
        "\n",
        "conf = SparkConf()\n",
        "conf.set(\"spark.app.name\", \"PySpark DataFrame #3\")\n",
        "conf.set(\"spark.master\", \"local[*]\")\n",
        "\n",
        "spark = SparkSession.builder\\\n",
        "        .config(conf=conf)\\\n",
        "        .getOrCreate()\n",
        "\n",
        "schema = StructType([ StructField(\"text\", StringType(), True)])\n",
        "\n",
        "transfer_cost_df = spark.read.schema(schema).text(\"transfer_cost.txt\")\n",
        "\n",
        "regex_str = r'On (\\S+) the cost per ton from (\\d+) to (\\d+) is (\\S+) at (.*)'\n",
        "\n",
        "df_with_new_columns = transfer_cost_df\\\n",
        "    .withColumn('week', regexp_extract('text', regex_str, 1))\\\n",
        "    .withColumn('departure_zipcode', regexp_extract(column('text'), regex_str, 2))\\\n",
        "    .withColumn('arrival_zipcode', regexp_extract(transfer_cost_df.text, regex_str, 3))\\\n",
        "    .withColumn('cost', regexp_extract(col('text'), regex_str, 4))\\\n",
        "    .withColumn('vendor', regexp_extract(col('text'), regex_str, 5))\n",
        "\n",
        "final_df = df_with_new_columns.drop(\"text\")\n",
        "\n",
        "final_df.show(5)"
      ],
      "metadata": {
        "id": "dBFrK8w0NS1m",
        "outputId": "1e417e32-ac1c-4b0c-b0a0-cebe311cd4c0",
        "colab": {
          "base_uri": "https://localhost:8080/"
        }
      },
      "execution_count": 27,
      "outputs": [
        {
          "output_type": "stream",
          "name": "stdout",
          "text": [
            "+----------+-----------------+---------------+------+-----------+\n",
            "|      week|departure_zipcode|arrival_zipcode|  cost|     vendor|\n",
            "+----------+-----------------+---------------+------+-----------+\n",
            "|2021-01-04|            85001|          85002|$28.32|ABC Hauling|\n",
            "|2021-01-04|            85001|          85004|$25.68|ABC Hauling|\n",
            "|2021-01-04|            85001|          85007| 19.86|ABC Hauling|\n",
            "|2021-01-04|            85001|          85007| 20.52| Haul Today|\n",
            "|2021-01-04|            85001|          85010| 20.72| Haul Today|\n",
            "+----------+-----------------+---------------+------+-----------+\n",
            "only showing top 5 rows\n",
            "\n"
          ]
        }
      ]
    }
  ]
}