{
  "nbformat": 4,
  "nbformat_minor": 0,
  "metadata": {
    "colab": {
      "provenance": []
    },
    "kernelspec": {
      "name": "python3",
      "display_name": "Python 3"
    }
  },
  "cells": [
    {
      "cell_type": "markdown",
      "metadata": {
        "id": "XIA23YgbXKJd"
      },
      "source": [
        "이를 위해 pyspark과 Py4J 패키지를 설치한다. Py4J 패키지는 파이썬 프로그램이 자바가상머신상의 오브젝트들을 접근할 수 있게 해준다. Local Standalone Spark을 사용한다."
      ]
    },
    {
      "cell_type": "code",
      "metadata": {
        "colab": {
          "base_uri": "https://localhost:8080/"
        },
        "id": "NbT0rpGfVdiq",
        "outputId": "8ff98657-cfab-4687-8143-dc5ce3d17b3f"
      },
      "source": [
        "!pip install pyspark==3.3.1 py4j==0.10.9.5"
      ],
      "execution_count": 1,
      "outputs": [
        {
          "output_type": "stream",
          "name": "stdout",
          "text": [
            "Collecting pyspark==3.3.1\n",
            "  Downloading pyspark-3.3.1.tar.gz (281.4 MB)\n",
            "\u001b[2K     \u001b[90m━━━━━━━━━━━━━━━━━━━━━━━━━━━━━━━━━━━━━━━━\u001b[0m \u001b[32m281.4/281.4 MB\u001b[0m \u001b[31m4.4 MB/s\u001b[0m eta \u001b[36m0:00:00\u001b[0m\n",
            "\u001b[?25h  Preparing metadata (setup.py) ... \u001b[?25l\u001b[?25hdone\n",
            "Collecting py4j==0.10.9.5\n",
            "  Downloading py4j-0.10.9.5-py2.py3-none-any.whl (199 kB)\n",
            "\u001b[2K     \u001b[90m━━━━━━━━━━━━━━━━━━━━━━━━━━━━━━━━━━━━━━━━\u001b[0m \u001b[32m199.7/199.7 kB\u001b[0m \u001b[31m12.0 MB/s\u001b[0m eta \u001b[36m0:00:00\u001b[0m\n",
            "\u001b[?25hBuilding wheels for collected packages: pyspark\n",
            "  Building wheel for pyspark (setup.py) ... \u001b[?25l\u001b[?25hdone\n",
            "  Created wheel for pyspark: filename=pyspark-3.3.1-py2.py3-none-any.whl size=281845493 sha256=9919685d1c51f1941d74a11599d1125fcb96030b1f7ad10026105052eee78648\n",
            "  Stored in directory: /root/.cache/pip/wheels/0f/f0/3d/517368b8ce80486e84f89f214e0a022554e4ee64969f46279b\n",
            "Successfully built pyspark\n",
            "Installing collected packages: py4j, pyspark\n",
            "  Attempting uninstall: py4j\n",
            "    Found existing installation: py4j 0.10.9.7\n",
            "    Uninstalling py4j-0.10.9.7:\n",
            "      Successfully uninstalled py4j-0.10.9.7\n",
            "Successfully installed py4j-0.10.9.5 pyspark-3.3.1\n"
          ]
        }
      ]
    },
    {
      "cell_type": "markdown",
      "metadata": {
        "id": "Ew_eTGrvXlDw"
      },
      "source": [
        "**Spark Session**을 하나 만든다"
      ]
    },
    {
      "cell_type": "code",
      "metadata": {
        "id": "3vm6tgcPXdnR"
      },
      "source": [
        "from pyspark.sql import *\n",
        "from pyspark.sql.functions import *\n",
        "\n",
        "if __name__ == \"__main__\":\n",
        "    spark = SparkSession \\\n",
        "        .builder \\\n",
        "        .appName(\"Spark FS Partition Demo\") \\\n",
        "        .master(\"local[3]\") \\\n",
        "        .enableHiveSupport() \\\n",
        "        .getOrCreate()"
      ],
      "execution_count": 2,
      "outputs": []
    },
    {
      "cell_type": "code",
      "source": [
        "!wget https://pyspark-test-sj.s3.us-west-2.amazonaws.com/appl_stock.csv"
      ],
      "metadata": {
        "colab": {
          "base_uri": "https://localhost:8080/"
        },
        "id": "UKrMnuGVK77P",
        "outputId": "b244a1e5-203c-416b-8035-2a60c6ecc7fb"
      },
      "execution_count": 3,
      "outputs": [
        {
          "output_type": "stream",
          "name": "stdout",
          "text": [
            "--2024-06-20 05:39:03--  https://pyspark-test-sj.s3.us-west-2.amazonaws.com/appl_stock.csv\n",
            "Resolving pyspark-test-sj.s3.us-west-2.amazonaws.com (pyspark-test-sj.s3.us-west-2.amazonaws.com)... 52.92.152.154, 52.218.182.137, 52.92.234.74, ...\n",
            "Connecting to pyspark-test-sj.s3.us-west-2.amazonaws.com (pyspark-test-sj.s3.us-west-2.amazonaws.com)|52.92.152.154|:443... connected.\n",
            "HTTP request sent, awaiting response... 200 OK\n",
            "Length: 143130 (140K) [text/csv]\n",
            "Saving to: ‘appl_stock.csv’\n",
            "\n",
            "appl_stock.csv      100%[===================>] 139.78K  --.-KB/s    in 0.1s    \n",
            "\n",
            "2024-06-20 05:39:04 (1.07 MB/s) - ‘appl_stock.csv’ saved [143130/143130]\n",
            "\n"
          ]
        }
      ]
    },
    {
      "cell_type": "code",
      "source": [
        "df = spark.read.csv(\"appl_stock.csv\", header=True, inferSchema=True)\n",
        "df.printSchema()"
      ],
      "metadata": {
        "colab": {
          "base_uri": "https://localhost:8080/"
        },
        "id": "3ZhdS0i7LZEc",
        "outputId": "297a01a9-85c1-4026-cac1-0113d47c32ca"
      },
      "execution_count": 4,
      "outputs": [
        {
          "output_type": "stream",
          "name": "stdout",
          "text": [
            "root\n",
            " |-- Date: timestamp (nullable = true)\n",
            " |-- Open: double (nullable = true)\n",
            " |-- High: double (nullable = true)\n",
            " |-- Low: double (nullable = true)\n",
            " |-- Close: double (nullable = true)\n",
            " |-- Volume: integer (nullable = true)\n",
            " |-- Adj Close: double (nullable = true)\n",
            "\n"
          ]
        }
      ]
    },
    {
      "cell_type": "code",
      "source": [
        "df.show(10)"
      ],
      "metadata": {
        "colab": {
          "base_uri": "https://localhost:8080/"
        },
        "id": "7g56ZGQKkRBm",
        "outputId": "ab98c8af-58cc-44f5-80ce-ad69655bad7e"
      },
      "execution_count": 5,
      "outputs": [
        {
          "output_type": "stream",
          "name": "stdout",
          "text": [
            "+-------------------+------------------+------------------+------------------+------------------+---------+------------------+\n",
            "|               Date|              Open|              High|               Low|             Close|   Volume|         Adj Close|\n",
            "+-------------------+------------------+------------------+------------------+------------------+---------+------------------+\n",
            "|2010-01-04 00:00:00|        213.429998|        214.499996|212.38000099999996|        214.009998|123432400|         27.727039|\n",
            "|2010-01-05 00:00:00|        214.599998|        215.589994|        213.249994|        214.379993|150476200|27.774976000000002|\n",
            "|2010-01-06 00:00:00|        214.379993|            215.23|        210.750004|        210.969995|138040000|27.333178000000004|\n",
            "|2010-01-07 00:00:00|            211.75|        212.000006|        209.050005|            210.58|119282800|          27.28265|\n",
            "|2010-01-08 00:00:00|        210.299994|        212.000006|209.06000500000002|211.98000499999998|111902700|         27.464034|\n",
            "|2010-01-11 00:00:00|212.79999700000002|        213.000002|        208.450005|210.11000299999998|115557400|         27.221758|\n",
            "|2010-01-12 00:00:00|209.18999499999998|209.76999500000002|        206.419998|        207.720001|148614900|          26.91211|\n",
            "|2010-01-13 00:00:00|        207.870005|210.92999500000002|        204.099998|        210.650002|151473000|          27.29172|\n",
            "|2010-01-14 00:00:00|210.11000299999998|210.45999700000002|        209.020004|            209.43|108223500|         27.133657|\n",
            "|2010-01-15 00:00:00|210.92999500000002|211.59999700000003|        205.869999|            205.93|148516900|26.680197999999997|\n",
            "+-------------------+------------------+------------------+------------------+------------------+---------+------------------+\n",
            "only showing top 10 rows\n",
            "\n"
          ]
        }
      ]
    },
    {
      "cell_type": "code",
      "source": [
        "df = df.withColumn(\"year\", year(df.Date)) \\\n",
        "    .withColumn(\"month\", month(df.Date))"
      ],
      "metadata": {
        "id": "vGFDiqDcLeq7"
      },
      "execution_count": 6,
      "outputs": []
    },
    {
      "cell_type": "code",
      "source": [
        "spark.sql(\"DROP TABLE IF EXISTS appl_stock\")"
      ],
      "metadata": {
        "colab": {
          "base_uri": "https://localhost:8080/"
        },
        "id": "08wqKxwmxxqp",
        "outputId": "ee901805-2571-4f21-ed9d-8aeacb6c7c62"
      },
      "execution_count": 7,
      "outputs": [
        {
          "output_type": "execute_result",
          "data": {
            "text/plain": [
              "DataFrame[]"
            ]
          },
          "metadata": {},
          "execution_count": 7
        }
      ]
    },
    {
      "cell_type": "code",
      "source": [
        "df.write.partitionBy(\"year\", \"month\").saveAsTable(\"appl_stock\")"
      ],
      "metadata": {
        "id": "wmbJXYQ0LlUB"
      },
      "execution_count": 8,
      "outputs": []
    },
    {
      "cell_type": "code",
      "source": [
        "!ls -tl"
      ],
      "metadata": {
        "colab": {
          "base_uri": "https://localhost:8080/"
        },
        "id": "z5bWDtHsk7lB",
        "outputId": "5b9fbecc-47ae-4b49-9f06-35cc473d2b36"
      },
      "execution_count": 9,
      "outputs": [
        {
          "output_type": "stream",
          "name": "stdout",
          "text": [
            "total 156\n",
            "drwxr-xr-x 3 root root   4096 Jun 20 05:40 spark-warehouse\n",
            "drwxr-xr-x 5 root root   4096 Jun 20 05:40 metastore_db\n",
            "-rw-r--r-- 1 root root    671 Jun 20 05:40 derby.log\n",
            "drwxr-xr-x 1 root root   4096 Jun 14 17:39 sample_data\n",
            "-rw-r--r-- 1 root root 143130 Jul  6  2018 appl_stock.csv\n"
          ]
        }
      ]
    },
    {
      "cell_type": "code",
      "source": [
        "!ls -tl spark-warehouse/"
      ],
      "metadata": {
        "colab": {
          "base_uri": "https://localhost:8080/"
        },
        "id": "7Ba_I35Ek_Na",
        "outputId": "df20bb89-3bbf-4285-97bd-dcc56062bd45"
      },
      "execution_count": 10,
      "outputs": [
        {
          "output_type": "stream",
          "name": "stdout",
          "text": [
            "total 4\n",
            "drwxr-xr-x 9 root root 4096 Jun 20 05:40 appl_stock\n"
          ]
        }
      ]
    },
    {
      "cell_type": "code",
      "source": [
        "!ls -tl spark-warehouse/appl_stock/"
      ],
      "metadata": {
        "colab": {
          "base_uri": "https://localhost:8080/"
        },
        "id": "gvBbDITnlBQB",
        "outputId": "873edf26-6820-431d-ec39-4c89a5d1a8c5"
      },
      "execution_count": 11,
      "outputs": [
        {
          "output_type": "stream",
          "name": "stdout",
          "text": [
            "total 28\n",
            "-rw-r--r--  1 root root    0 Jun 20 05:40  _SUCCESS\n",
            "drwxr-xr-x 14 root root 4096 Jun 20 05:40 'year=2016'\n",
            "drwxr-xr-x 14 root root 4096 Jun 20 05:40 'year=2015'\n",
            "drwxr-xr-x 14 root root 4096 Jun 20 05:40 'year=2014'\n",
            "drwxr-xr-x 14 root root 4096 Jun 20 05:40 'year=2013'\n",
            "drwxr-xr-x 14 root root 4096 Jun 20 05:40 'year=2012'\n",
            "drwxr-xr-x 14 root root 4096 Jun 20 05:40 'year=2011'\n",
            "drwxr-xr-x 14 root root 4096 Jun 20 05:40 'year=2010'\n"
          ]
        }
      ]
    },
    {
      "cell_type": "code",
      "source": [
        "!ls -tl spark-warehouse/appl_stock/year\\=2010/"
      ],
      "metadata": {
        "colab": {
          "base_uri": "https://localhost:8080/"
        },
        "id": "nBJuOTxrlDIU",
        "outputId": "e9d7c4d7-bbf3-4931-8ff4-4b74e7a9b3f0"
      },
      "execution_count": 12,
      "outputs": [
        {
          "output_type": "stream",
          "name": "stdout",
          "text": [
            "total 48\n",
            "drwxr-xr-x 2 root root 4096 Jun 20 05:40 'month=12'\n",
            "drwxr-xr-x 2 root root 4096 Jun 20 05:40 'month=11'\n",
            "drwxr-xr-x 2 root root 4096 Jun 20 05:40 'month=10'\n",
            "drwxr-xr-x 2 root root 4096 Jun 20 05:40 'month=9'\n",
            "drwxr-xr-x 2 root root 4096 Jun 20 05:40 'month=8'\n",
            "drwxr-xr-x 2 root root 4096 Jun 20 05:40 'month=7'\n",
            "drwxr-xr-x 2 root root 4096 Jun 20 05:40 'month=6'\n",
            "drwxr-xr-x 2 root root 4096 Jun 20 05:40 'month=5'\n",
            "drwxr-xr-x 2 root root 4096 Jun 20 05:40 'month=4'\n",
            "drwxr-xr-x 2 root root 4096 Jun 20 05:40 'month=3'\n",
            "drwxr-xr-x 2 root root 4096 Jun 20 05:40 'month=2'\n",
            "drwxr-xr-x 2 root root 4096 Jun 20 05:40 'month=1'\n"
          ]
        }
      ]
    },
    {
      "cell_type": "code",
      "source": [
        "!ls -tl spark-warehouse/appl_stock/year\\=2010/month\\=12/"
      ],
      "metadata": {
        "colab": {
          "base_uri": "https://localhost:8080/"
        },
        "id": "w9KESVaElIik",
        "outputId": "c0b49f0f-25e8-41c3-b844-2bd57660988d"
      },
      "execution_count": 13,
      "outputs": [
        {
          "output_type": "stream",
          "name": "stdout",
          "text": [
            "total 4\n",
            "-rw-r--r-- 1 root root 3027 Jun 20 05:40 part-00000-3f0844ef-f09c-48bd-a3dc-10c84c5f75d2.c000.snappy.parquet\n"
          ]
        }
      ]
    },
    {
      "cell_type": "markdown",
      "source": [
        "### How to Read from Partitioned table"
      ],
      "metadata": {
        "id": "LEp7sjYlkgs7"
      }
    },
    {
      "cell_type": "code",
      "source": [
        "df = spark.read.table(\"appl_stock\").where(\"year = 2016 and month = 12\")"
      ],
      "metadata": {
        "id": "JssSpbT_kgP9"
      },
      "execution_count": 14,
      "outputs": []
    },
    {
      "cell_type": "code",
      "source": [
        "df.show(10)"
      ],
      "metadata": {
        "colab": {
          "base_uri": "https://localhost:8080/"
        },
        "id": "MVGLhbuZk4RH",
        "outputId": "f19b5400-bb10-4f0a-ebdf-17b8cea107f9"
      },
      "execution_count": 15,
      "outputs": [
        {
          "output_type": "stream",
          "name": "stdout",
          "text": [
            "+-------------------+------------------+------------------+----------+----------+--------+------------------+----+-----+\n",
            "|               Date|              Open|              High|       Low|     Close|  Volume|         Adj Close|year|month|\n",
            "+-------------------+------------------+------------------+----------+----------+--------+------------------+----+-----+\n",
            "|2016-12-01 00:00:00|        110.370003|        110.940002|109.029999|109.489998|37086900|        109.017344|2016|   12|\n",
            "|2016-12-02 00:00:00|109.16999799999999|        110.089996|108.849998|109.900002|26528000|        109.425578|2016|   12|\n",
            "|2016-12-05 00:00:00|             110.0|        110.029999|    108.25|109.110001|34324500|108.63898700000001|2016|   12|\n",
            "|2016-12-06 00:00:00|             109.5|        110.360001|109.190002|109.949997|26195500|109.47535800000001|2016|   12|\n",
            "|2016-12-07 00:00:00|        109.260002|        111.190002|109.160004|111.029999|29998700|        110.550697|2016|   12|\n",
            "|2016-12-08 00:00:00|        110.860001|            112.43|110.599998|112.120003|27068300|111.63599599999999|2016|   12|\n",
            "|2016-12-09 00:00:00|        112.309998|        114.699997|112.309998|113.949997|34402600|113.45808999999998|2016|   12|\n",
            "|2016-12-12 00:00:00|        113.290001|             115.0|112.489998|113.300003|26374400|        112.810902|2016|   12|\n",
            "|2016-12-13 00:00:00|        113.839996|115.91999799999999|    113.75|115.190002|43733800|        114.692743|2016|   12|\n",
            "|2016-12-14 00:00:00|        115.040001|        116.199997|114.980003|115.190002|34031800|        114.692743|2016|   12|\n",
            "+-------------------+------------------+------------------+----------+----------+--------+------------------+----+-----+\n",
            "only showing top 10 rows\n",
            "\n"
          ]
        }
      ]
    },
    {
      "cell_type": "code",
      "source": [
        "spark.sql(\"SELECT * FROM appl_stock WHERE year = 2016 and month = 12\").show(10)"
      ],
      "metadata": {
        "id": "090C7D5bk5DX",
        "colab": {
          "base_uri": "https://localhost:8080/"
        },
        "outputId": "96f276a4-474a-4136-c22d-faf43d0e2261"
      },
      "execution_count": 16,
      "outputs": [
        {
          "output_type": "stream",
          "name": "stdout",
          "text": [
            "+-------------------+------------------+------------------+----------+----------+--------+------------------+----+-----+\n",
            "|               Date|              Open|              High|       Low|     Close|  Volume|         Adj Close|year|month|\n",
            "+-------------------+------------------+------------------+----------+----------+--------+------------------+----+-----+\n",
            "|2016-12-01 00:00:00|        110.370003|        110.940002|109.029999|109.489998|37086900|        109.017344|2016|   12|\n",
            "|2016-12-02 00:00:00|109.16999799999999|        110.089996|108.849998|109.900002|26528000|        109.425578|2016|   12|\n",
            "|2016-12-05 00:00:00|             110.0|        110.029999|    108.25|109.110001|34324500|108.63898700000001|2016|   12|\n",
            "|2016-12-06 00:00:00|             109.5|        110.360001|109.190002|109.949997|26195500|109.47535800000001|2016|   12|\n",
            "|2016-12-07 00:00:00|        109.260002|        111.190002|109.160004|111.029999|29998700|        110.550697|2016|   12|\n",
            "|2016-12-08 00:00:00|        110.860001|            112.43|110.599998|112.120003|27068300|111.63599599999999|2016|   12|\n",
            "|2016-12-09 00:00:00|        112.309998|        114.699997|112.309998|113.949997|34402600|113.45808999999998|2016|   12|\n",
            "|2016-12-12 00:00:00|        113.290001|             115.0|112.489998|113.300003|26374400|        112.810902|2016|   12|\n",
            "|2016-12-13 00:00:00|        113.839996|115.91999799999999|    113.75|115.190002|43733800|        114.692743|2016|   12|\n",
            "|2016-12-14 00:00:00|        115.040001|        116.199997|114.980003|115.190002|34031800|        114.692743|2016|   12|\n",
            "+-------------------+------------------+------------------+----------+----------+--------+------------------+----+-----+\n",
            "only showing top 10 rows\n",
            "\n"
          ]
        }
      ]
    }
  ]
}