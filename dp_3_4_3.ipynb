{
 "cells": [
  {
   "cell_type": "markdown",
   "id": "dbe0eda5-0ed5-4bcb-9526-652106af582f",
   "metadata": {},
   "source": [
    "# 마우스 이벤트"
   ]
  },
  {
   "cell_type": "code",
   "execution_count": 6,
   "id": "dcb90fe4-95a4-4ae8-aca5-5fa9ceccb937",
   "metadata": {},
   "outputs": [],
   "source": [
    "from selenium import webdriver\n",
    "from selenium.webdriver import ActionChains\n",
    "from selenium.webdriver.chrome.service import Service\n",
    "from selenium.webdriver.common.by import By\n",
    "from webdriver_manager.chrome import ChromeDriverManager\n",
    "from selenium.webdriver.support.ui import WebDriverWait"
   ]
  },
  {
   "cell_type": "code",
   "execution_count": 11,
   "id": "1c22afe2-b0fb-4b9b-bd6a-054d90cb63b5",
   "metadata": {},
   "outputs": [],
   "source": [
    "driver = webdriver.Chrome(service=Service(ChromeDriverManager().install()))\n",
    "driver.get(\"https://hashcode.co.kr\")\n",
    "driver.implicitly_wait(0.5)\n",
    "\n",
    "button = driver.find_element(By.CLASS_NAME, \"Q7buMBeDzDxGk1fV4bZE\")\n",
    "ActionChains(driver).click(button).perform()"
   ]
  }
 ],
 "metadata": {
  "kernelspec": {
   "display_name": "Python 3 (ipykernel)",
   "language": "python",
   "name": "python3"
  },
  "language_info": {
   "codemirror_mode": {
    "name": "ipython",
    "version": 3
   },
   "file_extension": ".py",
   "mimetype": "text/x-python",
   "name": "python",
   "nbconvert_exporter": "python",
   "pygments_lexer": "ipython3",
   "version": "3.12.2"
  }
 },
 "nbformat": 4,
 "nbformat_minor": 5
}
